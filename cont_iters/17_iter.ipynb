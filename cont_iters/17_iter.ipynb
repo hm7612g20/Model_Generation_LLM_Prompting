{
 "cells": [
  {
   "cell_type": "markdown",
   "id": "54abea8e-75d4-47fe-983a-1be89af6829d",
   "metadata": {},
   "source": [
    "# LLM Iteration 17"
   ]
  },
  {
   "cell_type": "markdown",
   "id": "f99a7681-71a7-4e4a-8d5c-230d4a2e3180",
   "metadata": {},
   "source": [
    "**Aim**"
   ]
  },
  {
   "cell_type": "markdown",
   "id": "1d4c0809-a90d-4a7a-a5ad-8dc9b491895a",
   "metadata": {},
   "source": [
    "Provide an option for running the model inside the StrokeWard class and a function for running multiple replications."
   ]
  },
  {
   "cell_type": "markdown",
   "id": "be45960e-5a61-4886-8327-93ad903a790a",
   "metadata": {},
   "source": [
    "**Prompt**"
   ]
  },
  {
   "cell_type": "markdown",
   "id": "5ca210d6-0bd6-4ba9-b4d0-9ca8780cd408",
   "metadata": {},
   "source": [
    "Update the model to create a function inside the class that can run the model. Produce a separate function that does a single run of the model and another function that can output multiple replications of the single run function. The summary statistics should be output for each run."
   ]
  },
  {
   "cell_type": "markdown",
   "id": "91bf33a2-bd68-4ee4-a188-719397e2dda8",
   "metadata": {},
   "source": [
    "**Note**"
   ]
  },
  {
   "cell_type": "markdown",
   "id": "73efc428-39c6-4cd9-9571-8746e2c553b0",
   "metadata": {},
   "source": [
    "Modifications have been made to the output from the LLM, indicated by:\n",
    "```python\n",
    "########## MODIFICATION ##########\n",
    "change\n",
    "##################################\n",
    "```\n",
    "This is either used to add in code from previous iterations if only certain sections were updated, used to correct the LLM's code if required, or used to check the model is working as expected."
   ]
  },
  {
   "cell_type": "markdown",
   "id": "9d769d6c-c990-4548-9fc5-324ba39d034a",
   "metadata": {},
   "source": [
    "**LLM Output**"
   ]
  },
  {
   "cell_type": "code",
   "execution_count": 1,
   "id": "27b93c64-e7b6-4c84-b820-ad1412840c91",
   "metadata": {},
   "outputs": [],
   "source": [
    "#### MODIFICATION - code from previous iter ####\n",
    "import simpy\n",
    "import numpy as np\n",
    "import math\n",
    "import pandas as pd\n",
    "################################################"
   ]
  },
  {
   "cell_type": "code",
   "execution_count": 2,
   "id": "77dce167-fca6-48aa-9969-700bd3233649",
   "metadata": {},
   "outputs": [],
   "source": [
    "#### MODIFICATION - code from previous iter ####\n",
    "class Scenario:\n",
    "    def __init__(self):\n",
    "        self.default_interarrival_times = {\n",
    "            \"Stroke\": 1.2,\n",
    "            \"TIA\": 9.3,\n",
    "            \"Complex Neurological\": 3.6,\n",
    "            \"Other\": 3.2\n",
    "        }\n",
    "        self.random_seeds = {\n",
    "            \"Stroke\": 12345,\n",
    "            \"TIA\": 54321,\n",
    "            \"Complex Neurological\": 98765,\n",
    "            \"Other\": 67890\n",
    "        }\n",
    "\n",
    "    def create_distributions(self):\n",
    "        interarrival_distributions = {}\n",
    "        for patient_type, seed in self.random_seeds.items():\n",
    "            interarrival_distributions[patient_type] = \\\n",
    "                np.random.default_rng(seed)\n",
    "        return interarrival_distributions\n",
    "################################################"
   ]
  },
  {
   "cell_type": "markdown",
   "id": "c1683a19-7f78-4570-85e6-e07f7a0e5866",
   "metadata": {},
   "source": [
    "To update the model to include functions for running a single simulation run and generating multiple replications with summary statistics for each run, you can add the following methods to the StrokeWard class:"
   ]
  },
  {
   "cell_type": "code",
   "execution_count": 3,
   "id": "53c7a12c-8dd3-4b08-827d-6b161a8b65a5",
   "metadata": {},
   "outputs": [],
   "source": [
    "class StrokeWard:\n",
    "    # Existing code remains unchanged\n",
    "    #### MODIFICATION - code from previous iter ####\n",
    "    def __init__(self, env, num_beds, scenario):\n",
    "        self.env = env\n",
    "        self.beds = simpy.Resource(env, capacity=num_beds)\n",
    "        self.patient_count = 0\n",
    "        self.wait_times = []\n",
    "        self.waiting_patients = []\n",
    "        self.length_of_stay = {\n",
    "            \"Stroke\": {\"mean\": 7.4, \"std_dev\": 8.6},\n",
    "            \"TIA\": {\"mean\": 1.8, \"std_dev\": 2.3},\n",
    "            \"Complex Neurological\": {\"mean\": 4.0, \"std_dev\": 5.0},\n",
    "            \"Other\": {\"mean\": 3.8, \"std_dev\": 5.2}\n",
    "        }\n",
    "        self.interarrival_distributions = scenario.create_distributions()\n",
    "        self.route_probabilities = {\n",
    "            \"Stroke\": {\"ESD\": 0.13, \"Rehab Unit\": 0.24, \"Other\": 0.63},\n",
    "            \"TIA\": {\"ESD\": 0.01, \"Rehab Unit\": 0.01, \"Other\": 0.98},\n",
    "            \"Complex Neurological\": {\"ESD\": 0.05, \"Rehab Unit\": 0.11,\n",
    "                                     \"Other\": 0.84},\n",
    "            \"Other\": {\"ESD\": 0.10, \"Rehab Unit\": 0.05, \"Other\": 0.85}\n",
    "        }\n",
    "\n",
    "        ########## MODIFICATION ##########\n",
    "        self.patients_in_beds = 0\n",
    "        self.bed_in_use_store = []\n",
    "        self.los_store = []\n",
    "        self.patient_type_store = []\n",
    "        ##################################\n",
    "\n",
    "    def admit_patient(self, patient):\n",
    "        arrival_time = round(self.env.now, 2)\n",
    "        with self.beds.request() as bed:\n",
    "            yield bed\n",
    "            ########## MODIFICATION ##########\n",
    "            bed_arrival_time = self.env.now\n",
    "            self.patients_in_beds += 1\n",
    "            self.bed_in_use_store.append(self.patients_in_beds)\n",
    "            self.patient_type_store.append(patient.patient_type)\n",
    "            ##################################\n",
    "\n",
    "            wait_time = max(0, round(self.env.now - arrival_time, 2))\n",
    "            self.wait_times.append(wait_time)\n",
    "            self.waiting_patients.append(len(self.beds.queue))\n",
    "            print(f'Patient {patient.id} ({patient.patient_type}) admitted to '\n",
    "                  f'the stroke ward at day {round(self.env.now, 2)}. '\n",
    "                  f'Wait time: {wait_time} days')\n",
    "            mu, sigma = calculate_mu_sigma(self.length_of_stay[patient.\\\n",
    "                                           patient_type][\"mean\"],\n",
    "                                           self.length_of_stay[patient.\\\n",
    "                                           patient_type][\"std_dev\"])\n",
    "            los = np.random.default_rng(patient.seed).lognormal(mu, sigma)\n",
    "            yield self.env.timeout(round(los, 2))\n",
    "            ########## MODIFICATION ##########\n",
    "            self.patients_in_beds -= 1\n",
    "            bed_leave_time = self.env.now\n",
    "            self.los_store.append(round(bed_leave_time - bed_arrival_time, 2))\n",
    "            ##################################\n",
    "            print(f'Patient {patient.id} ({patient.patient_type}) discharged '\n",
    "                  f'from the stroke ward at day {round(self.env.now, 2)}')\n",
    "\n",
    "            route_probabilities = list(self.\\\n",
    "                                       route_probabilities[patient.\\\n",
    "                                       patient_type].values())\n",
    "            route_names = list(self.route_probabilities[patient.\\\n",
    "                               patient_type].keys())\n",
    "            \n",
    "            # Use random seed for patient destination assignment\n",
    "            rng = np.random.default_rng(patient.seed)\n",
    "            route_choice = rng.choice(route_names, p=route_probabilities)\n",
    "            \n",
    "            print(f'Patient {patient.id} ({patient.patient_type}) routed to: '\n",
    "                  f'{route_choice}')\n",
    "\n",
    "    def patient_arrival(self, patient_type):\n",
    "        while True:\n",
    "            if patient_type in self.interarrival_distributions:\n",
    "                interarrival_time = self.\\\n",
    "                    interarrival_distributions[patient_type].\\\n",
    "                    exponential(scenario.\\\n",
    "                                default_interarrival_times[patient_type])\n",
    "                yield self.env.timeout(interarrival_time)\n",
    "                patient = Patient(self.patient_count, patient_type,\n",
    "                                  self.\\\n",
    "                                  interarrival_distributions[patient_type])\n",
    "                self.patient_count += 1\n",
    "                self.env.process(self.admit_patient(patient))\n",
    "    ################################################\n",
    "\n",
    "    def run_model(self, num_replications):\n",
    "        for _ in range(num_replications):\n",
    "            self.single_run()\n",
    "\n",
    "    def single_run(self):\n",
    "        env = simpy.Environment()\n",
    "        for patient_type in self.scenario.random_seeds.keys():\n",
    "            env.process(self.patient_arrival(patient_type))\n",
    "\n",
    "        # Set the run length to 2 months (default)\n",
    "        run_length_days = round(60 * 2)\n",
    "\n",
    "        print(\"Simulation started...\")\n",
    "        env.run(until=run_length_days)\n",
    "        print(\"Simulation ended.\")\n",
    "\n",
    "        self.summary()\n",
    "\n",
    "    def summary(self):\n",
    "        mean_wait_time = round(np.mean(self.wait_times), 2)\n",
    "        mean_waiting_patients = round(np.mean(self.waiting_patients), 2)\n",
    "        \n",
    "        summary_data = {\n",
    "            'Mean Wait Time': [mean_wait_time],\n",
    "            'Mean Waiting Patients': [mean_waiting_patients]\n",
    "        }\n",
    "        \n",
    "        summary_df = pd.DataFrame(summary_data)\n",
    "        \n",
    "        print(\"Summary:\")\n",
    "        print(summary_df)\n",
    "\n",
    "# Rest of the code remains unchanged"
   ]
  },
  {
   "cell_type": "code",
   "execution_count": 7,
   "id": "b3056cca-a5a1-4b84-a231-20d1a619ac81",
   "metadata": {},
   "outputs": [],
   "source": [
    "# Example usage:\n",
    "env = simpy.Environment()\n",
    "scenario = Scenario()\n",
    "#### MODIFICATION - removed num_beds=10 due to error ####\n",
    "# 'positional argument follows keyword argument'\n",
    "############################################################\n",
    "stroke_ward = StrokeWard(env, 10, scenario)\n",
    "\n",
    "# Run a single simulation\n",
    "#stroke_ward.single_run()\n",
    "\n",
    "# Run multiple replications\n",
    "num_replications = 5\n",
    "#stroke_ward.run_model(num_replications)"
   ]
  },
  {
   "cell_type": "markdown",
   "id": "6268f2f4-2968-4910-80de-8620e3c7703e",
   "metadata": {},
   "source": [
    "In this updated code snippet:\n",
    "- The run_model method is introduced to run multiple replications of the model by calling the single_run method for each replication.\n",
    "- The single_run method sets up and runs a single simulation run with patient arrivals and bed assignments.\n",
    "- After each run, the summary method is called to calculate and display summary statistics for that specific run.\n",
    "- The example usage demonstrates running a single simulation and then running multiple replications with summary statistics output for each run."
   ]
  },
  {
   "cell_type": "markdown",
   "id": "37ba6882-22de-4a78-953c-b5558560ec98",
   "metadata": {},
   "source": [
    "**Reflection**"
   ]
  },
  {
   "cell_type": "markdown",
   "id": "9701e0b1-a132-4938-9508-57e9476b3349",
   "metadata": {},
   "source": [
    "Running the code now produces an error: \"'StrokeWard' object has no attribute 'scenario'\" so has been commented out. This is because, despite specifying that the code remained unchanged from previous iterations, the Scenario class passed to StrokeWard is not set up as a parameter in the class. It did not follow the command to produce a separate function for single_run() and for multiple replications."
   ]
  },
  {
   "cell_type": "code",
   "execution_count": null,
   "id": "f6ba1083-61a9-466c-ac2e-5be09f70525c",
   "metadata": {},
   "outputs": [],
   "source": []
  }
 ],
 "metadata": {
  "kernelspec": {
   "display_name": "Python 3 (ipykernel)",
   "language": "python",
   "name": "python3"
  },
  "language_info": {
   "codemirror_mode": {
    "name": "ipython",
    "version": 3
   },
   "file_extension": ".py",
   "mimetype": "text/x-python",
   "name": "python",
   "nbconvert_exporter": "python",
   "pygments_lexer": "ipython3",
   "version": "3.10.13"
  }
 },
 "nbformat": 4,
 "nbformat_minor": 5
}
