{
 "cells": [
  {
   "cell_type": "markdown",
   "id": "54abea8e-75d4-47fe-983a-1be89af6829d",
   "metadata": {},
   "source": [
    "# LLM Iteration 3"
   ]
  },
  {
   "cell_type": "markdown",
   "id": "f99a7681-71a7-4e4a-8d5c-230d4a2e3180",
   "metadata": {},
   "source": [
    "**Aim**"
   ]
  },
  {
   "cell_type": "markdown",
   "id": "92051723-ae53-4233-960f-707ba1bbfd8e",
   "metadata": {},
   "source": [
    "Improve upon the model produced by iteration 2 by providing the option to set random seeds for reproducibility and testing."
   ]
  },
  {
   "cell_type": "markdown",
   "id": "be45960e-5a61-4886-8327-93ad903a790a",
   "metadata": {},
   "source": [
    "**Prompt**"
   ]
  },
  {
   "cell_type": "markdown",
   "id": "fa9453fe-9129-4fc8-90cc-846b47558091",
   "metadata": {},
   "source": [
    "Code a discrete-event simulation model of a stroke ward in a hospital in python 3.10 and simpy 4.\n",
    "Please code the full model specified. Do not return a simplified version. Show all code. \n",
    "\n",
    "All time units in the model are in days.\n",
    "Each patient in the model has a unique identifier. The first patient to arrive has an identifier of 0. For each subsequent patient increment the identifier by 1.\n",
    "\n",
    "Patients to arrive in a stroke ward that admits four different patient types: Stroke, TIA, Complex Neurological or Other. Each patient type had a different interarrival time distribution. There are 10 beds on the stroke ward. The patient should only be admitted if there is an available bed. The patient holds the bed until their length of stay has elapsed. The length of stay for all patients is 7 days. After the length of stay has elapsed, the patient leaves the model. \n",
    "\n",
    "All patient types must have their own generator function. \n",
    "\n",
    "The model should print out useful information after each event. \n",
    "The model should include a user settable run length. This defaults to 2 months. \n",
    "\n",
    "The interarrival time distribution and parameters of patients are dependent on the patient type. This describes the average time between required admissions. For each distribution time is measured in days. \n",
    "Stroke = Exponential: 1.2\n",
    "TIA = Exponential: 9.3\n",
    "Complex Neurological = Exponential: 3.6\n",
    "Other = Exponential: 3.2\n",
    "\n",
    "Numpy should be used for sampling. Each interarrival distribution should have its own numpy.random.Generator object. An option should be provided to input random seeds into the random number generator.\n",
    "\n",
    "Provide sources."
   ]
  },
  {
   "cell_type": "markdown",
   "id": "ebb8bfd1-8906-40cb-9cfd-a626bcd46949",
   "metadata": {},
   "source": [
    "**Note**"
   ]
  },
  {
   "cell_type": "markdown",
   "id": "73efc428-39c6-4cd9-9571-8746e2c553b0",
   "metadata": {},
   "source": [
    "Modifications have been made to the output from the LLM, indicated by:\n",
    "```python\n",
    "########## MODIFICATION ##########\n",
    "change\n",
    "##################################\n",
    "```\n",
    "This is either used to add in code from previous iterations if only certain sections were updated, used to correct the LLM's code if required, or used to check the model is working as expected."
   ]
  },
  {
   "cell_type": "markdown",
   "id": "9d769d6c-c990-4548-9fc5-324ba39d034a",
   "metadata": {},
   "source": [
    "**LLM Output**"
   ]
  },
  {
   "cell_type": "markdown",
   "id": "c2371f66-3bdb-4c57-a7b0-8b3726ea5502",
   "metadata": {},
   "source": [
    "Sources:\n",
    "1. SimPy Documentation: https://simpy.readthedocs.io/en/latest/\n",
    "2. NumPy Documentation: https://numpy.org/doc/stable/"
   ]
  },
  {
   "cell_type": "code",
   "execution_count": 1,
   "id": "5f4ad03e-f39d-48fa-b412-41bed6cae187",
   "metadata": {},
   "outputs": [],
   "source": [
    "import simpy\n",
    "import numpy as np"
   ]
  },
  {
   "cell_type": "code",
   "execution_count": 2,
   "id": "21826296-cf20-44cc-a726-3ada16c5d73b",
   "metadata": {},
   "outputs": [],
   "source": [
    "# Define the parameters\n",
    "NUM_BEDS = 10\n",
    "LENGTH_OF_STAY = 7\n",
    "RUN_LENGTH = 60  # Default run length in days (2 months)\n",
    "INTERARRIVAL_TIMES = {\n",
    "    'Stroke': 1.2,\n",
    "    'TIA': 9.3,\n",
    "    'Complex Neurological': 3.6,\n",
    "    'Other': 3.2\n",
    "}"
   ]
  },
  {
   "cell_type": "code",
   "execution_count": 3,
   "id": "ab461710-ea8b-4dcb-8cc6-99554dbbab7d",
   "metadata": {},
   "outputs": [],
   "source": [
    "class StrokeWard:\n",
    "    def __init__(self, env):\n",
    "        self.env = env\n",
    "        self.beds = simpy.Resource(env, capacity=NUM_BEDS)\n",
    "        self.patient_count = 0\n",
    "        ########## MODIFICATION ##########\n",
    "        self.patients_in_beds = 0\n",
    "        self.bed_in_use_store = []\n",
    "        self.ward_admit_time = []\n",
    "        self.los_store = []\n",
    "        ##################################\n",
    "\n",
    "    def admit_patient(self, patient):\n",
    "        with self.beds.request() as bed:\n",
    "            yield bed\n",
    "            ########## MODIFICATION ##########\n",
    "            bed_arrival_time = self.env.now\n",
    "            self.ward_admit_time.append(bed_arrival_time)\n",
    "            self.patients_in_beds += 1\n",
    "            self.bed_in_use_store.append(self.patients_in_beds)\n",
    "            ##################################\n",
    "            \n",
    "            print(f'Patient {patient.id} of type {patient.type} admitted at '\n",
    "                  f'day {round(self.env.now, 2)}')\n",
    "            yield self.env.timeout(LENGTH_OF_STAY)\n",
    "            ########## MODIFICATION ##########\n",
    "            self.patients_in_beds -= 1\n",
    "            bed_leave_time = self.env.now\n",
    "            self.los_store.append(bed_leave_time - bed_arrival_time)\n",
    "            ##################################\n",
    "            print(f'Patient {patient.id} of type {patient.type} discharged at '\n",
    "                  f'day {round(self.env.now, 2)}')\n",
    "\n",
    "class Patient:\n",
    "    def __init__(self, id, type):\n",
    "        self.id = id\n",
    "        self.type = type\n",
    "\n",
    "def patient_generator(env, ward, interarrival_time, random_seed=None):\n",
    "    rng = np.random.default_rng(random_seed)\n",
    "    while True:\n",
    "        yield env.timeout(rng.exponential(interarrival_time))\n",
    "        patient_type = np.random.choice(list(INTERARRIVAL_TIMES.keys()))\n",
    "        patient = Patient(ward.patient_count, patient_type)\n",
    "        ward.patient_count += 1\n",
    "        env.process(ward.admit_patient(patient))"
   ]
  },
  {
   "cell_type": "code",
   "execution_count": 4,
   "id": "12846712-c1bf-4539-aadb-1ba0c34cbe60",
   "metadata": {},
   "outputs": [
    {
     "name": "stdout",
     "output_type": "stream",
     "text": [
      "Patient 0 of type TIA admitted at day 2.89\n",
      "Patient 1 of type Other admitted at day 5.69\n",
      "Patient 2 of type TIA admitted at day 8.55\n",
      "Patient 3 of type Complex Neurological admitted at day 8.89\n",
      "Patient 4 of type Other admitted at day 8.99\n",
      "Patient 0 of type TIA discharged at day 9.89\n",
      "Patient 5 of type Other admitted at day 10.73\n",
      "Patient 6 of type Stroke admitted at day 12.42\n",
      "Patient 1 of type Other discharged at day 12.69\n",
      "Patient 2 of type TIA discharged at day 15.55\n",
      "Patient 3 of type Complex Neurological discharged at day 15.89\n",
      "Patient 4 of type Other discharged at day 15.99\n",
      "Patient 7 of type Complex Neurological admitted at day 16.17\n",
      "Patient 8 of type Other admitted at day 16.27\n",
      "Patient 9 of type Other admitted at day 17.52\n",
      "Patient 10 of type Stroke admitted at day 17.61\n",
      "Patient 5 of type Other discharged at day 17.73\n",
      "Patient 11 of type Stroke admitted at day 18.92\n",
      "Patient 6 of type Stroke discharged at day 19.42\n",
      "Patient 12 of type TIA admitted at day 20.99\n",
      "Patient 13 of type Stroke admitted at day 21.46\n",
      "Patient 14 of type Other admitted at day 22.94\n",
      "Patient 15 of type Other admitted at day 23.12\n",
      "Patient 7 of type Complex Neurological discharged at day 23.17\n",
      "Patient 16 of type Stroke admitted at day 23.23\n",
      "Patient 8 of type Other discharged at day 23.27\n",
      "Patient 17 of type Other admitted at day 23.61\n",
      "Patient 9 of type Other discharged at day 24.52\n",
      "Patient 10 of type Stroke discharged at day 24.61\n",
      "Patient 18 of type Other admitted at day 24.69\n",
      "Patient 19 of type Other admitted at day 25.19\n",
      "Patient 11 of type Stroke discharged at day 25.92\n",
      "Patient 20 of type Stroke admitted at day 26.68\n",
      "Patient 21 of type Stroke admitted at day 26.95\n",
      "Patient 12 of type TIA discharged at day 27.99\n",
      "Patient 13 of type Stroke discharged at day 28.46\n",
      "Patient 22 of type Complex Neurological admitted at day 29.16\n",
      "Patient 14 of type Other discharged at day 29.94\n",
      "Patient 15 of type Other discharged at day 30.12\n",
      "Patient 16 of type Stroke discharged at day 30.23\n",
      "Patient 17 of type Other discharged at day 30.61\n",
      "Patient 23 of type Other admitted at day 30.63\n",
      "Patient 24 of type Other admitted at day 31.42\n",
      "Patient 18 of type Other discharged at day 31.69\n",
      "Patient 25 of type Complex Neurological admitted at day 31.92\n",
      "Patient 19 of type Other discharged at day 32.19\n",
      "Patient 26 of type TIA admitted at day 32.46\n",
      "Patient 27 of type Complex Neurological admitted at day 32.55\n",
      "Patient 28 of type Stroke admitted at day 32.77\n",
      "Patient 29 of type Other admitted at day 33.59\n",
      "Patient 20 of type Stroke discharged at day 33.68\n",
      "Patient 21 of type Stroke discharged at day 33.95\n",
      "Patient 30 of type Stroke admitted at day 34.06\n",
      "Patient 31 of type TIA admitted at day 35.57\n",
      "Patient 22 of type Complex Neurological discharged at day 36.16\n",
      "Patient 32 of type Other admitted at day 36.42\n",
      "Patient 23 of type Other discharged at day 37.63\n",
      "Patient 33 of type Stroke admitted at day 37.63\n",
      "Patient 24 of type Other discharged at day 38.42\n",
      "Patient 34 of type Stroke admitted at day 38.42\n",
      "Patient 25 of type Complex Neurological discharged at day 38.92\n",
      "Patient 35 of type Stroke admitted at day 38.92\n",
      "Patient 26 of type TIA discharged at day 39.46\n",
      "Patient 36 of type TIA admitted at day 39.46\n",
      "Patient 27 of type Complex Neurological discharged at day 39.55\n",
      "Patient 37 of type Stroke admitted at day 39.55\n",
      "Patient 28 of type Stroke discharged at day 39.77\n",
      "Patient 38 of type Complex Neurological admitted at day 39.89\n",
      "Patient 29 of type Other discharged at day 40.59\n",
      "Patient 39 of type Stroke admitted at day 40.59\n",
      "Patient 30 of type Stroke discharged at day 41.06\n",
      "Patient 40 of type Other admitted at day 41.84\n",
      "Patient 31 of type TIA discharged at day 42.57\n",
      "Patient 32 of type Other discharged at day 43.42\n",
      "Patient 41 of type Complex Neurological admitted at day 43.51\n",
      "Patient 33 of type Stroke discharged at day 44.63\n",
      "Patient 42 of type Complex Neurological admitted at day 44.81\n",
      "Patient 43 of type Stroke admitted at day 44.9\n",
      "Patient 34 of type Stroke discharged at day 45.42\n",
      "Patient 35 of type Stroke discharged at day 45.92\n",
      "Patient 44 of type Stroke admitted at day 46.26\n",
      "Patient 36 of type TIA discharged at day 46.46\n",
      "Patient 37 of type Stroke discharged at day 46.55\n",
      "Patient 38 of type Complex Neurological discharged at day 46.89\n",
      "Patient 39 of type Stroke discharged at day 47.59\n",
      "Patient 45 of type Other admitted at day 47.89\n",
      "Patient 40 of type Other discharged at day 48.84\n",
      "Patient 46 of type TIA admitted at day 49.23\n",
      "Patient 47 of type Other admitted at day 49.57\n",
      "Patient 48 of type TIA admitted at day 49.95\n",
      "Patient 49 of type TIA admitted at day 50.15\n",
      "Patient 41 of type Complex Neurological discharged at day 50.51\n",
      "Patient 50 of type Other admitted at day 50.58\n",
      "Patient 51 of type Complex Neurological admitted at day 50.6\n",
      "Patient 42 of type Complex Neurological discharged at day 51.81\n",
      "Patient 52 of type Complex Neurological admitted at day 51.81\n",
      "Patient 43 of type Stroke discharged at day 51.9\n",
      "Patient 53 of type TIA admitted at day 52.38\n",
      "Patient 44 of type Stroke discharged at day 53.26\n",
      "Patient 45 of type Other discharged at day 54.89\n",
      "Patient 46 of type TIA discharged at day 56.23\n",
      "Patient 47 of type Other discharged at day 56.57\n",
      "Patient 48 of type TIA discharged at day 56.95\n",
      "Patient 49 of type TIA discharged at day 57.15\n",
      "Patient 54 of type TIA admitted at day 57.18\n",
      "Patient 50 of type Other discharged at day 57.58\n",
      "Patient 51 of type Complex Neurological discharged at day 57.6\n",
      "Patient 55 of type Complex Neurological admitted at day 57.85\n",
      "Patient 56 of type Stroke admitted at day 58.2\n",
      "Patient 57 of type Stroke admitted at day 58.67\n",
      "Patient 52 of type Complex Neurological discharged at day 58.81\n",
      "Patient 58 of type Other admitted at day 59.11\n",
      "Patient 59 of type Other admitted at day 59.26\n",
      "Patient 53 of type TIA discharged at day 59.38\n"
     ]
    }
   ],
   "source": [
    "# Setup and start the simulation\n",
    "env = simpy.Environment()\n",
    "ward = StrokeWard(env)\n",
    "env.process(patient_generator(env, ward, INTERARRIVAL_TIMES['Stroke'],\n",
    "                              random_seed=42))\n",
    "env.run(until=RUN_LENGTH)"
   ]
  },
  {
   "cell_type": "markdown",
   "id": "33b9a046-9d16-4a67-a3f2-996c6cd0b68d",
   "metadata": {},
   "source": [
    "**Checks**"
   ]
  },
  {
   "cell_type": "code",
   "execution_count": 5,
   "id": "a264e0f0-345b-4d82-8674-46eebf413c36",
   "metadata": {},
   "outputs": [],
   "source": [
    "class TestCase:\n",
    "    def __init__(self, env, ward):\n",
    "        self.env = env\n",
    "        self.ward = ward\n",
    "        self.env.process(patient_generator(self.env, self.ward,\n",
    "                                           INTERARRIVAL_TIMES['Stroke'],\n",
    "                                           random_seed=42))\n",
    "\n",
    "    def test_run_length(self):\n",
    "        '''\n",
    "        Checks that specified run length is implemented correctly.\n",
    "        '''\n",
    "        self.env.run(until=RUN_LENGTH)\n",
    "\n",
    "        if self.env.now > RUN_LENGTH:\n",
    "            print('The simulation has continued for longer than input.')\n",
    "\n",
    "    def test_bed_hold(self):\n",
    "        '''\n",
    "        Checks that patients are holding beds until they leave the model.\n",
    "        '''\n",
    "        self.env.run(until=RUN_LENGTH)\n",
    "\n",
    "        for bed_use in ward.bed_in_use_store:\n",
    "            if bed_use > NUM_BEDS:\n",
    "                print('The number of beds in use exceeded limit.')\n",
    "\n",
    "    def test_length_of_stay(self):\n",
    "        '''\n",
    "        Checks that specified length of stay correctly implemented.\n",
    "        '''\n",
    "        self.env.run(until=RUN_LENGTH)\n",
    "\n",
    "        for los in ward.los_store:\n",
    "            if los > LENGTH_OF_STAY:\n",
    "                print('Patient length of stay exceeded limit.')\n",
    "            elif los < LENGTH_OF_STAY:\n",
    "                print('Patient did not stay for the full duration.')"
   ]
  },
  {
   "cell_type": "code",
   "execution_count": 6,
   "id": "90fc4fac-3b5d-4837-85ce-5293ff1907be",
   "metadata": {},
   "outputs": [
    {
     "name": "stdout",
     "output_type": "stream",
     "text": [
      "Patient 0 of type Stroke admitted at day 2.89\n",
      "Patient 1 of type Stroke admitted at day 5.69\n",
      "Patient 2 of type Stroke admitted at day 8.55\n",
      "Patient 3 of type Complex Neurological admitted at day 8.89\n",
      "Patient 4 of type Complex Neurological admitted at day 8.99\n",
      "Patient 0 of type Stroke discharged at day 9.89\n"
     ]
    }
   ],
   "source": [
    "# Checks run length\n",
    "NUM_BEDS = 10\n",
    "LENGTH_OF_STAY = 7\n",
    "RUN_LENGTH = 10\n",
    "\n",
    "env = simpy.Environment()\n",
    "ward = StrokeWard(env)\n",
    "\n",
    "test = TestCase(env, ward)\n",
    "test.test_run_length()"
   ]
  },
  {
   "cell_type": "code",
   "execution_count": 7,
   "id": "8ba0c02a-208c-4b88-9a5e-f4891e75a391",
   "metadata": {},
   "outputs": [
    {
     "name": "stdout",
     "output_type": "stream",
     "text": [
      "Patient 0 of type Complex Neurological admitted at day 2.89\n",
      "Patient 0 of type Complex Neurological discharged at day 9.89\n",
      "Patient 1 of type Stroke admitted at day 9.89\n",
      "Patient 1 of type Stroke discharged at day 16.89\n",
      "Patient 2 of type TIA admitted at day 16.89\n",
      "Patient 2 of type TIA discharged at day 23.89\n",
      "Patient 3 of type Other admitted at day 23.89\n",
      "Patient 3 of type Other discharged at day 30.89\n",
      "Patient 4 of type Other admitted at day 30.89\n",
      "Patient 4 of type Other discharged at day 37.89\n",
      "Patient 5 of type Complex Neurological admitted at day 37.89\n",
      "Patient 5 of type Complex Neurological discharged at day 44.89\n",
      "Patient 6 of type Complex Neurological admitted at day 44.89\n",
      "Patient 6 of type Complex Neurological discharged at day 51.89\n",
      "Patient 7 of type Stroke admitted at day 51.89\n",
      "Patient 7 of type Stroke discharged at day 58.89\n",
      "Patient 8 of type Other admitted at day 58.89\n"
     ]
    }
   ],
   "source": [
    "# Checks that is only ever 1 patient if there is only 1 bed\n",
    "NUM_BEDS = 1\n",
    "LENGTH_OF_STAY = 7\n",
    "RUN_LENGTH = 60\n",
    "\n",
    "env = simpy.Environment()\n",
    "ward = StrokeWard(env)\n",
    "\n",
    "test = TestCase(env, ward)\n",
    "test.test_bed_hold()"
   ]
  },
  {
   "cell_type": "code",
   "execution_count": 8,
   "id": "2c214cc7-2e11-4fe0-b60f-b8d819984ed1",
   "metadata": {},
   "outputs": [
    {
     "name": "stdout",
     "output_type": "stream",
     "text": [
      "Patient 0 of type TIA admitted at day 2.89\n",
      "Patient 1 of type Complex Neurological admitted at day 5.69\n",
      "Patient 2 of type TIA admitted at day 8.55\n",
      "Patient 3 of type Stroke admitted at day 8.89\n",
      "Patient 4 of type Complex Neurological admitted at day 8.99\n",
      "Patient 5 of type Complex Neurological admitted at day 10.73\n",
      "Patient 6 of type Complex Neurological admitted at day 12.42\n",
      "Patient 7 of type Stroke admitted at day 16.17\n",
      "Patient 8 of type Stroke admitted at day 16.27\n",
      "Patient 9 of type Other admitted at day 17.52\n",
      "Patient 0 of type TIA discharged at day 52.89\n",
      "Patient 10 of type TIA admitted at day 52.89\n",
      "Patient 1 of type Complex Neurological discharged at day 55.69\n",
      "Patient 11 of type TIA admitted at day 55.69\n",
      "Patient 2 of type TIA discharged at day 58.55\n",
      "Patient 12 of type Complex Neurological admitted at day 58.55\n",
      "Patient 3 of type Stroke discharged at day 58.89\n",
      "Patient 13 of type Stroke admitted at day 58.89\n",
      "Patient 4 of type Complex Neurological discharged at day 58.99\n",
      "Patient 14 of type Stroke admitted at day 58.99\n"
     ]
    }
   ],
   "source": [
    "# Checks if stay length correctly implemented\n",
    "NUM_BEDS = 10\n",
    "LENGTH_OF_STAY = 50\n",
    "RUN_LENGTH = 60\n",
    "\n",
    "env = simpy.Environment()\n",
    "ward = StrokeWard(env)\n",
    "\n",
    "test = TestCase(env, ward)\n",
    "test.test_length_of_stay()"
   ]
  },
  {
   "cell_type": "code",
   "execution_count": 9,
   "id": "23bef6e9-3d37-46a8-a15f-15b90726bd74",
   "metadata": {},
   "outputs": [
    {
     "name": "stdout",
     "output_type": "stream",
     "text": [
      "Patient 0 of type TIA admitted at day 1.29\n",
      "Patient 1 of type TIA admitted at day 1.66\n",
      "Patient 2 of type TIA admitted at day 8.11\n",
      "Patient 0 of type TIA discharged at day 8.29\n",
      "Patient 3 of type Stroke admitted at day 8.55\n",
      "Patient 1 of type TIA discharged at day 8.66\n",
      "Patient 4 of type Stroke admitted at day 8.69\n",
      "Patient 5 of type Stroke admitted at day 10.85\n",
      "Patient 6 of type TIA admitted at day 11.44\n",
      "Patient 7 of type Stroke admitted at day 12.11\n",
      "Patient 8 of type TIA admitted at day 12.14\n",
      "Patient 9 of type Other admitted at day 13.06\n",
      "Patient 10 of type Stroke admitted at day 14.31\n",
      "Patient 11 of type TIA admitted at day 14.59\n",
      "\n",
      "\n",
      "Patient 0 of type TIA admitted at day 1.29\n",
      "Patient 1 of type Stroke admitted at day 1.66\n",
      "Patient 2 of type TIA admitted at day 8.11\n",
      "Patient 0 of type TIA discharged at day 8.29\n",
      "Patient 3 of type TIA admitted at day 8.55\n",
      "Patient 1 of type Stroke discharged at day 8.66\n",
      "Patient 4 of type Complex Neurological admitted at day 8.69\n",
      "Patient 5 of type TIA admitted at day 10.85\n",
      "Patient 6 of type TIA admitted at day 11.44\n",
      "Patient 7 of type Complex Neurological admitted at day 12.11\n",
      "Patient 8 of type TIA admitted at day 12.14\n",
      "Patient 9 of type Complex Neurological admitted at day 13.06\n",
      "Patient 10 of type Complex Neurological admitted at day 14.31\n",
      "Patient 11 of type Complex Neurological admitted at day 14.59\n"
     ]
    }
   ],
   "source": [
    "# Test random seeds output the same result\n",
    "NUM_BEDS = 10\n",
    "LENGTH_OF_STAY = 7\n",
    "RUN_LENGTH = 15\n",
    "\n",
    "env = simpy.Environment()\n",
    "ward1 = StrokeWard(env)\n",
    "env.process(patient_generator(env, ward1, INTERARRIVAL_TIMES['Stroke'],\n",
    "                              random_seed=1))\n",
    "env.run(until=RUN_LENGTH)\n",
    "print('\\n')\n",
    "\n",
    "env = simpy.Environment()\n",
    "ward2 = StrokeWard(env)\n",
    "env.process(patient_generator(env, ward2, INTERARRIVAL_TIMES['Stroke'],\n",
    "                              random_seed=1))\n",
    "env.run(until=RUN_LENGTH)\n",
    "\n",
    "for arrival1, arrival2 in zip(ward1.ward_admit_time, ward2.ward_admit_time):\n",
    "    if arrival1 != arrival2:\n",
    "        print('Different arrival times on the ward for the same random seed.')"
   ]
  },
  {
   "cell_type": "markdown",
   "id": "37ba6882-22de-4a78-953c-b5558560ec98",
   "metadata": {},
   "source": [
    "**Reflection**"
   ]
  },
  {
   "cell_type": "markdown",
   "id": "4350230c-aec2-4010-9868-4354a15e46ac",
   "metadata": {},
   "source": [
    "The LLM produced an option for using a random seed, meaning the arrival times are the same each time. However, the patient types are not controlled by a random seed, meaning the patient types change each time the code is run. It is still only using the Stroke patients IAT (```patient_generator(env, ward, INTERARRIVAL_TIMES['Stroke'], random_seed=42)```). The patients are also not arriving independently of each other, meaning only one patient type can arrive at one time."
   ]
  },
  {
   "cell_type": "code",
   "execution_count": null,
   "id": "a7e69e2a-9b53-4f82-9812-547f2c1e7651",
   "metadata": {},
   "outputs": [],
   "source": []
  }
 ],
 "metadata": {
  "kernelspec": {
   "display_name": "Python 3 (ipykernel)",
   "language": "python",
   "name": "python3"
  },
  "language_info": {
   "codemirror_mode": {
    "name": "ipython",
    "version": 3
   },
   "file_extension": ".py",
   "mimetype": "text/x-python",
   "name": "python",
   "nbconvert_exporter": "python",
   "pygments_lexer": "ipython3",
   "version": "3.10.13"
  }
 },
 "nbformat": 4,
 "nbformat_minor": 5
}
