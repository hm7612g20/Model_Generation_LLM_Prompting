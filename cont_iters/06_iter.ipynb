{
 "cells": [
  {
   "cell_type": "markdown",
   "id": "54abea8e-75d4-47fe-983a-1be89af6829d",
   "metadata": {},
   "source": [
    "# LLM Iteration 6"
   ]
  },
  {
   "cell_type": "markdown",
   "id": "f99a7681-71a7-4e4a-8d5c-230d4a2e3180",
   "metadata": {},
   "source": [
    "**Aim**"
   ]
  },
  {
   "cell_type": "markdown",
   "id": "92051723-ae53-4233-960f-707ba1bbfd8e",
   "metadata": {},
   "source": [
    "Correct the implementation of the function from iteration 5 and round the output."
   ]
  },
  {
   "cell_type": "markdown",
   "id": "be45960e-5a61-4886-8327-93ad903a790a",
   "metadata": {},
   "source": [
    "**Prompt**"
   ]
  },
  {
   "cell_type": "markdown",
   "id": "3e0ba12c-c87c-4e0d-a394-c66fa2cc29a0",
   "metadata": {},
   "source": [
    "The model output should be rounded to 2 decimal places. Update the model to calculate mu and sigma from the mean and standard deviation in a new function, using the equation:\n",
    "phi = math.sqrt(v + m^2)\n",
    "mu = math.log(m^2/phi)\n",
    "sigma = math.sqrt(math.log(phi^2/m^2))\n",
    "where v is the standard deviation squared and m is the mean"
   ]
  },
  {
   "cell_type": "markdown",
   "id": "0d9aa7c5-839a-415e-8d0b-46c5b89f8244",
   "metadata": {},
   "source": [
    "**Note**"
   ]
  },
  {
   "cell_type": "markdown",
   "id": "73efc428-39c6-4cd9-9571-8746e2c553b0",
   "metadata": {},
   "source": [
    "Modifications have been made to the output from the LLM, indicated by:\n",
    "```python\n",
    "########## MODIFICATION ##########\n",
    "change\n",
    "##################################\n",
    "```\n",
    "This is either used to add in code from previous iterations if only certain sections were updated, used to correct the LLM's code if required, or used to check the model is working as expected."
   ]
  },
  {
   "cell_type": "markdown",
   "id": "9d769d6c-c990-4548-9fc5-324ba39d034a",
   "metadata": {},
   "source": [
    "**LLM Output**"
   ]
  },
  {
   "cell_type": "code",
   "execution_count": 1,
   "id": "5f4ad03e-f39d-48fa-b412-41bed6cae187",
   "metadata": {},
   "outputs": [],
   "source": [
    "import simpy\n",
    "import numpy as np\n",
    "import math"
   ]
  },
  {
   "cell_type": "code",
   "execution_count": 2,
   "id": "ab461710-ea8b-4dcb-8cc6-99554dbbab7d",
   "metadata": {},
   "outputs": [],
   "source": [
    "class StrokeWard:\n",
    "    def __init__(self, env, num_beds):\n",
    "        self.env = env\n",
    "        self.beds = simpy.Resource(env, capacity=num_beds)\n",
    "        self.patient_count = 0\n",
    "        self.wait_times = []\n",
    "        self.length_of_stay = {\n",
    "            \"Stroke\": {\"mu\": 7.4, \"sigma\": 8.6},\n",
    "            \"TIA\": {\"mu\": 1.8, \"sigma\": 2.3},\n",
    "            \"Complex Neurological\": {\"mu\": 4.0, \"sigma\": 5.0},\n",
    "            \"Other\": {\"mu\": 3.8, \"sigma\": 5.2}\n",
    "        }\n",
    "\n",
    "        ########## MODIFICATION ##########\n",
    "        self.patients_in_beds = 0\n",
    "        self.bed_in_use_store = []\n",
    "        self.los_store = []\n",
    "        self.patient_type_store = []\n",
    "        ##################################\n",
    "\n",
    "    def admit_patient(self, patient):\n",
    "        arrival_time = round(self.env.now, 2)\n",
    "        with self.beds.request() as bed:\n",
    "            yield bed\n",
    "            ########## MODIFICATION ##########\n",
    "            bed_arrival_time = self.env.now\n",
    "            self.patients_in_beds += 1\n",
    "            self.bed_in_use_store.append(self.patients_in_beds)\n",
    "            self.patient_type_store.append(patient.patient_type)\n",
    "            ##################################\n",
    "\n",
    "            wait_time = round(self.env.now - arrival_time, 2)\n",
    "            self.wait_times.append(wait_time)\n",
    "            print(f'Patient {patient.id} ({patient.patient_type}) admitted to '\n",
    "                  f'the stroke ward at day {round(self.env.now, 2)}. '\n",
    "                  f'Wait time: {wait_time} days')\n",
    "            los = np.random.default_rng(patient.seed).\\\n",
    "                lognormal(self.length_of_stay[patient.patient_type][\"mu\"],\n",
    "                          self.length_of_stay[patient.patient_type][\"sigma\"])\n",
    "            # Length of stay based on patient type\n",
    "            yield self.env.timeout(round(los, 2))\n",
    "            ########## MODIFICATION ##########\n",
    "            self.patients_in_beds -= 1\n",
    "            bed_leave_time = self.env.now\n",
    "            self.los_store.append(round(bed_leave_time - bed_arrival_time, 2))\n",
    "            ##################################\n",
    "            print(f'Patient {patient.id} ({patient.patient_type}) discharged '\n",
    "                  f'from the stroke ward at day {round(self.env.now, 2)}')\n",
    "\n",
    "class Patient:\n",
    "    def __init__(self, id, patient_type, seed):\n",
    "        self.id = id\n",
    "        self.patient_type = patient_type\n",
    "        self.seed = seed\n",
    "\n",
    "def calculate_mu_sigma(mean, std_dev):\n",
    "    v = std_dev ** 2\n",
    "    m = mean\n",
    "    phi = math.sqrt(v + m ** 2)\n",
    "    mu = math.log((m ** 2) / phi)\n",
    "    sigma = math.sqrt(math.log((phi ** 2) / (m ** 2))) # Added extra )\n",
    "    return mu, sigma\n",
    "\n",
    "def stroke_arrival(env, stroke_ward, rng):\n",
    "    while True:\n",
    "        interarrival_time = rng.exponential(1.2)\n",
    "        yield env.timeout(interarrival_time)\n",
    "        patient = Patient(stroke_ward.patient_count, \"Stroke\",\n",
    "                          rng.integers(0, np.iinfo(np.int32).max))\n",
    "        stroke_ward.patient_count += 1\n",
    "        env.process(stroke_ward.admit_patient(patient))\n",
    "\n",
    "def tia_arrival(env, stroke_ward, rng):\n",
    "    while True:\n",
    "        interarrival_time = rng.exponential(9.3)\n",
    "        yield env.timeout(interarrival_time)\n",
    "        patient = Patient(stroke_ward.patient_count, \"TIA\",\n",
    "                          rng.integers(0, np.iinfo(np.int32).max))\n",
    "        stroke_ward.patient_count += 1\n",
    "        env.process(stroke_ward.admit_patient(patient))\n",
    "\n",
    "def complex_neurological_arrival(env, stroke_ward, rng):\n",
    "    while True:\n",
    "        interarrival_time = rng.exponential(3.6)\n",
    "        yield env.timeout(interarrival_time)\n",
    "        patient = Patient(stroke_ward.patient_count, \"Complex Neurological\",\n",
    "                          rng.integers(0, np.iinfo(np.int32).max))\n",
    "        stroke_ward.patient_count += 1\n",
    "        env.process(stroke_ward.admit_patient(patient))\n",
    "\n",
    "def other_arrival(env, stroke_ward, rng):\n",
    "    while True:\n",
    "        interarrival_time = rng.exponential(3.2)\n",
    "        yield env.timeout(interarrival_time)\n",
    "        patient = Patient(stroke_ward.patient_count, \"Other\",\n",
    "                          rng.integers(0, np.iinfo(np.int32).max))\n",
    "        stroke_ward.patient_count += 1\n",
    "        env.process(stroke_ward.admit_patient(patient))"
   ]
  },
  {
   "cell_type": "code",
   "execution_count": 3,
   "id": "12846712-c1bf-4539-aadb-1ba0c34cbe60",
   "metadata": {},
   "outputs": [
    {
     "name": "stdout",
     "output_type": "stream",
     "text": [
      "Simulation started...\n",
      "Patient 0 (Complex Neurological) admitted to the stroke ward at day 0.09. Wait time: -0.0 days\n",
      "Patient 1 (Stroke) admitted to the stroke ward at day 0.22. Wait time: 0.0 days\n",
      "Patient 0 (Complex Neurological) discharged from the stroke ward at day 0.33\n",
      "Patient 2 (TIA) admitted to the stroke ward at day 2.02. Wait time: 0.0 days\n",
      "Patient 3 (Complex Neurological) admitted to the stroke ward at day 3.56. Wait time: 0.0 days\n",
      "Patient 4 (Other) admitted to the stroke ward at day 5.03. Wait time: 0.0 days\n",
      "Patient 5 (Stroke) admitted to the stroke ward at day 5.85. Wait time: -0.0 days\n",
      "Patient 6 (Stroke) admitted to the stroke ward at day 6.35. Wait time: 0.0 days\n",
      "Patient 7 (Other) admitted to the stroke ward at day 6.74. Wait time: -0.0 days\n",
      "Patient 2 (TIA) discharged from the stroke ward at day 7.09\n",
      "Patient 8 (Complex Neurological) admitted to the stroke ward at day 7.75. Wait time: -0.0 days\n",
      "Patient 9 (Stroke) admitted to the stroke ward at day 7.94. Wait time: -0.0 days\n",
      "Patient 10 (Other) admitted to the stroke ward at day 8.52. Wait time: -0.0 days\n",
      "Patient 11 (Stroke) admitted to the stroke ward at day 9.68. Wait time: 0.0 days\n",
      "Patient 8 (Complex Neurological) discharged from the stroke ward at day 9.74\n",
      "Patient 12 (TIA) admitted to the stroke ward at day 10.5. Wait time: 0.0 days\n",
      "Patient 10 (Other) discharged from the stroke ward at day 10.54\n",
      "Patient 13 (TIA) admitted to the stroke ward at day 11.54. Wait time: 0.0 days\n",
      "Patient 13 (TIA) discharged from the stroke ward at day 12.59\n",
      "Patient 14 (TIA) admitted to the stroke ward at day 12.59. Wait time: 0.82 days\n",
      "Patient 14 (TIA) discharged from the stroke ward at day 12.93\n",
      "Patient 15 (Stroke) admitted to the stroke ward at day 12.93. Wait time: 0.99 days\n",
      "Patient 12 (TIA) discharged from the stroke ward at day 23.92\n",
      "Patient 16 (Stroke) admitted to the stroke ward at day 23.92. Wait time: 10.1 days\n",
      "Patient 16 (Stroke) discharged from the stroke ward at day 27.05\n",
      "Patient 17 (Other) admitted to the stroke ward at day 27.05. Wait time: 13.11 days\n",
      "Patient 17 (Other) discharged from the stroke ward at day 29.47\n",
      "Patient 18 (Other) admitted to the stroke ward at day 29.47. Wait time: 14.21 days\n",
      "Patient 3 (Complex Neurological) discharged from the stroke ward at day 29.58\n",
      "Patient 19 (Complex Neurological) admitted to the stroke ward at day 29.58. Wait time: 13.43 days\n",
      "Patient 18 (Other) discharged from the stroke ward at day 40.65\n",
      "Patient 20 (Stroke) admitted to the stroke ward at day 40.65. Wait time: 23.29 days\n",
      "Patient 7 (Other) discharged from the stroke ward at day 54.54\n",
      "Patient 21 (Other) admitted to the stroke ward at day 54.54. Wait time: 37.02 days\n",
      "Patient 21 (Other) discharged from the stroke ward at day 59.95\n",
      "Patient 22 (Stroke) admitted to the stroke ward at day 59.95. Wait time: 41.32 days\n",
      "Simulation ended.\n",
      "Mean wait time for a bed: 6.71 days\n"
     ]
    }
   ],
   "source": [
    "env = simpy.Environment()\n",
    "stroke_ward = StrokeWard(env, num_beds=10)\n",
    "\n",
    "# Set random seed for reproducibility for each patient type\n",
    "random_seeds = {\n",
    "    \"Stroke\": 12345,\n",
    "    \"TIA\": 54321,\n",
    "    \"Complex Neurological\": 98765,\n",
    "    \"Other\": 67890\n",
    "}\n",
    "\n",
    "rngs = {patient_type: np.random.default_rng(seed) for patient_type, \\\n",
    "        seed in random_seeds.items()}\n",
    "\n",
    "env.process(stroke_arrival(env, stroke_ward, rngs[\"Stroke\"]))\n",
    "env.process(tia_arrival(env, stroke_ward, rngs[\"TIA\"]))\n",
    "env.process(complex_neurological_arrival(env, stroke_ward,\n",
    "                                         rngs[\"Complex Neurological\"]))\n",
    "env.process(other_arrival(env, stroke_ward, rngs[\"Other\"]))\n",
    "\n",
    "# Set the run length to 2 months (default)\n",
    "run_length_days = round(60 * 2)\n",
    "\n",
    "print(\"Simulation started...\")\n",
    "env.run(until=run_length_days)\n",
    "print(\"Simulation ended.\")\n",
    "\n",
    "# Calculate and print the mean wait time for a bed rounded to two decimal \n",
    "# places\n",
    "mean_wait_time = round(np.mean(stroke_ward.wait_times), 2)\n",
    "print(f\"Mean wait time for a bed: {mean_wait_time} days\")"
   ]
  },
  {
   "cell_type": "markdown",
   "id": "33b9a046-9d16-4a67-a3f2-996c6cd0b68d",
   "metadata": {},
   "source": [
    "**Checks**"
   ]
  },
  {
   "cell_type": "code",
   "execution_count": 4,
   "id": "609246d5-5d87-41ca-989d-fdf78476e674",
   "metadata": {},
   "outputs": [],
   "source": [
    "class TestCase:\n",
    "    def __init__(self, env, ward, rngs):\n",
    "        self.env = env\n",
    "        self.ward = ward\n",
    "        env.process(stroke_arrival(env, ward, rngs[\"Stroke\"]))\n",
    "        env.process(tia_arrival(env, ward, rngs[\"TIA\"]))\n",
    "        env.process(complex_neurological_arrival(env, ward,\n",
    "                                                 rngs[\"Complex Neurological\"]))\n",
    "        env.process(other_arrival(env, ward, rngs[\"Other\"]))\n",
    "\n",
    "    def test_run_length(self):\n",
    "        '''\n",
    "        Checks that specified run length is implemented correctly.\n",
    "        '''\n",
    "        self.env.run(until=RUN_LENGTH)\n",
    "\n",
    "        if self.env.now > RUN_LENGTH:\n",
    "            print('The simulation has continued for longer than input.')\n",
    "\n",
    "    def test_bed_hold(self):\n",
    "        '''\n",
    "        Checks that patients are holding beds until they leave the model.\n",
    "        '''\n",
    "        self.env.run(until=RUN_LENGTH)\n",
    "\n",
    "        for bed_use in ward.bed_in_use_store:\n",
    "            if bed_use > NUM_BEDS:\n",
    "                print('The number of beds in use exceeded limit.')\n",
    "\n",
    "    def test_length_of_stay(self):\n",
    "        '''\n",
    "        Checks that specified length of stay correctly implemented.\n",
    "        '''\n",
    "        self.env.run(until=RUN_LENGTH)\n",
    "\n",
    "        print('\\nLength of stay:')\n",
    "        for pat_type, los in zip(ward.patient_type_store, ward.los_store):\n",
    "            print(f'({pat_type}) {los}')"
   ]
  },
  {
   "cell_type": "code",
   "execution_count": 5,
   "id": "86c52caf-18fd-4e63-acd0-39a06b47e01a",
   "metadata": {},
   "outputs": [
    {
     "name": "stdout",
     "output_type": "stream",
     "text": [
      "Patient 0 (Complex Neurological) admitted to the stroke ward at day 0.09. Wait time: -0.0 days\n",
      "Patient 1 (Stroke) admitted to the stroke ward at day 0.22. Wait time: 0.0 days\n",
      "Patient 0 (Complex Neurological) discharged from the stroke ward at day 0.33\n",
      "Patient 2 (TIA) admitted to the stroke ward at day 2.02. Wait time: 0.0 days\n",
      "Patient 3 (Complex Neurological) admitted to the stroke ward at day 3.56. Wait time: 0.0 days\n",
      "Patient 4 (Other) admitted to the stroke ward at day 5.03. Wait time: 0.0 days\n",
      "Patient 5 (Stroke) admitted to the stroke ward at day 5.85. Wait time: -0.0 days\n",
      "Patient 6 (Stroke) admitted to the stroke ward at day 6.35. Wait time: 0.0 days\n",
      "Patient 7 (Other) admitted to the stroke ward at day 6.74. Wait time: -0.0 days\n",
      "Patient 2 (TIA) discharged from the stroke ward at day 7.09\n",
      "Patient 8 (Complex Neurological) admitted to the stroke ward at day 7.75. Wait time: -0.0 days\n",
      "Patient 9 (Stroke) admitted to the stroke ward at day 7.94. Wait time: -0.0 days\n",
      "Patient 10 (Other) admitted to the stroke ward at day 8.52. Wait time: -0.0 days\n",
      "Patient 11 (Stroke) admitted to the stroke ward at day 9.68. Wait time: 0.0 days\n",
      "Patient 8 (Complex Neurological) discharged from the stroke ward at day 9.74\n"
     ]
    }
   ],
   "source": [
    "# Checks run length\n",
    "NUM_BEDS = 10\n",
    "RUN_LENGTH = 10\n",
    "\n",
    "random_seeds = {\n",
    "    \"Stroke\": 12345,\n",
    "    \"TIA\": 54321,\n",
    "    \"Complex Neurological\": 98765,\n",
    "    \"Other\": 67890\n",
    "}\n",
    "\n",
    "rngs = {patient_type: np.random.default_rng(seed) for patient_type, \\\n",
    "        seed in random_seeds.items()}\n",
    "\n",
    "env = simpy.Environment()\n",
    "ward = StrokeWard(env, NUM_BEDS)\n",
    "\n",
    "test = TestCase(env, ward, rngs)\n",
    "test.test_run_length()"
   ]
  },
  {
   "cell_type": "code",
   "execution_count": 6,
   "id": "19e78ca2-8923-4cc5-864c-9b8a52720ea5",
   "metadata": {},
   "outputs": [
    {
     "name": "stdout",
     "output_type": "stream",
     "text": [
      "Patient 0 (Complex Neurological) admitted to the stroke ward at day 0.09. Wait time: -0.0 days\n",
      "Patient 0 (Complex Neurological) discharged from the stroke ward at day 0.33\n",
      "Patient 1 (Stroke) admitted to the stroke ward at day 0.33. Wait time: 0.11 days\n"
     ]
    }
   ],
   "source": [
    "# Checks that is only ever 1 patient if there is only 1 bed\n",
    "NUM_BEDS = 1\n",
    "RUN_LENGTH = 60\n",
    "\n",
    "random_seeds = {\n",
    "    \"Stroke\": 12345,\n",
    "    \"TIA\": 54321,\n",
    "    \"Complex Neurological\": 98765,\n",
    "    \"Other\": 67890\n",
    "}\n",
    "\n",
    "rngs = {patient_type: np.random.default_rng(seed) for patient_type, \\\n",
    "        seed in random_seeds.items()}\n",
    "\n",
    "env = simpy.Environment()\n",
    "ward = StrokeWard(env, NUM_BEDS)\n",
    "\n",
    "test = TestCase(env, ward, rngs)\n",
    "test.test_bed_hold()"
   ]
  },
  {
   "cell_type": "code",
   "execution_count": 7,
   "id": "55ad65b3-bd7c-442b-9650-165b9f285812",
   "metadata": {},
   "outputs": [
    {
     "name": "stdout",
     "output_type": "stream",
     "text": [
      "Patient 0 (Complex Neurological) admitted to the stroke ward at day 0.09. Wait time: -0.0 days\n",
      "Patient 1 (Stroke) admitted to the stroke ward at day 0.22. Wait time: 0.0 days\n",
      "Patient 0 (Complex Neurological) discharged from the stroke ward at day 0.33\n",
      "Patient 2 (TIA) admitted to the stroke ward at day 2.02. Wait time: 0.0 days\n",
      "Patient 3 (Complex Neurological) admitted to the stroke ward at day 3.56. Wait time: 0.0 days\n",
      "Patient 4 (Other) admitted to the stroke ward at day 5.03. Wait time: 0.0 days\n",
      "Patient 5 (Stroke) admitted to the stroke ward at day 5.85. Wait time: -0.0 days\n",
      "Patient 6 (Stroke) admitted to the stroke ward at day 6.35. Wait time: 0.0 days\n",
      "Patient 7 (Other) admitted to the stroke ward at day 6.74. Wait time: -0.0 days\n",
      "Patient 2 (TIA) discharged from the stroke ward at day 7.09\n",
      "Patient 8 (Complex Neurological) admitted to the stroke ward at day 7.75. Wait time: -0.0 days\n",
      "Patient 9 (Stroke) admitted to the stroke ward at day 7.94. Wait time: -0.0 days\n",
      "Patient 10 (Other) admitted to the stroke ward at day 8.52. Wait time: -0.0 days\n",
      "Patient 11 (Stroke) admitted to the stroke ward at day 9.68. Wait time: 0.0 days\n",
      "Patient 8 (Complex Neurological) discharged from the stroke ward at day 9.74\n",
      "Patient 12 (TIA) admitted to the stroke ward at day 10.5. Wait time: 0.0 days\n",
      "Patient 10 (Other) discharged from the stroke ward at day 10.54\n",
      "Patient 13 (TIA) admitted to the stroke ward at day 11.54. Wait time: 0.0 days\n",
      "Patient 13 (TIA) discharged from the stroke ward at day 12.59\n",
      "Patient 14 (TIA) admitted to the stroke ward at day 12.59. Wait time: 0.82 days\n",
      "Patient 14 (TIA) discharged from the stroke ward at day 12.93\n",
      "Patient 15 (Stroke) admitted to the stroke ward at day 12.93. Wait time: 0.99 days\n",
      "Patient 12 (TIA) discharged from the stroke ward at day 23.92\n",
      "Patient 16 (Stroke) admitted to the stroke ward at day 23.92. Wait time: 10.1 days\n",
      "Patient 16 (Stroke) discharged from the stroke ward at day 27.05\n",
      "Patient 17 (Other) admitted to the stroke ward at day 27.05. Wait time: 13.11 days\n",
      "Patient 17 (Other) discharged from the stroke ward at day 29.47\n",
      "Patient 18 (Other) admitted to the stroke ward at day 29.47. Wait time: 14.21 days\n",
      "Patient 3 (Complex Neurological) discharged from the stroke ward at day 29.58\n",
      "Patient 19 (Complex Neurological) admitted to the stroke ward at day 29.58. Wait time: 13.43 days\n",
      "Patient 18 (Other) discharged from the stroke ward at day 40.65\n",
      "Patient 20 (Stroke) admitted to the stroke ward at day 40.65. Wait time: 23.29 days\n",
      "Patient 7 (Other) discharged from the stroke ward at day 54.54\n",
      "Patient 21 (Other) admitted to the stroke ward at day 54.54. Wait time: 37.02 days\n",
      "Patient 21 (Other) discharged from the stroke ward at day 59.95\n",
      "Patient 22 (Stroke) admitted to the stroke ward at day 59.95. Wait time: 41.32 days\n",
      "\n",
      "Length of stay:\n",
      "(Complex Neurological) 0.24\n",
      "(Stroke) 5.07\n",
      "(TIA) 1.99\n",
      "(Complex Neurological) 2.02\n",
      "(Other) 1.05\n",
      "(Stroke) 0.34\n",
      "(Stroke) 13.42\n",
      "(Other) 3.13\n",
      "(Complex Neurological) 2.42\n",
      "(Stroke) 26.02\n",
      "(Other) 11.18\n",
      "(Stroke) 47.8\n",
      "(TIA) 5.41\n"
     ]
    }
   ],
   "source": [
    "# Checks length of stay for patients\n",
    "NUM_BEDS = 10\n",
    "RUN_LENGTH = 60\n",
    "\n",
    "random_seeds = {\n",
    "    \"Stroke\": 12345,\n",
    "    \"TIA\": 54321,\n",
    "    \"Complex Neurological\": 98765,\n",
    "    \"Other\": 67890\n",
    "}\n",
    "\n",
    "rngs = {patient_type: np.random.default_rng(seed) for patient_type, \\\n",
    "        seed in random_seeds.items()}\n",
    "\n",
    "env = simpy.Environment()\n",
    "ward = StrokeWard(env, NUM_BEDS)\n",
    "\n",
    "test = TestCase(env, ward, rngs)\n",
    "test.test_length_of_stay()"
   ]
  },
  {
   "cell_type": "markdown",
   "id": "37ba6882-22de-4a78-953c-b5558560ec98",
   "metadata": {},
   "source": [
    "**Reflection**"
   ]
  },
  {
   "cell_type": "markdown",
   "id": "5a9d8962-790b-42ab-8036-a6a951a26333",
   "metadata": {},
   "source": [
    "Despite asking for the LLM to fix the bug, it failed to change the length of stay distribution parameters as instructed, and instead only followed the first part of the prompt to round to 2 decimal places. Therefore, the length of stay for the patients are again not correct and there is significant queuing in the model."
   ]
  },
  {
   "cell_type": "code",
   "execution_count": null,
   "id": "1c44ef05-9c5a-4ffb-ac93-0bf38fea638d",
   "metadata": {},
   "outputs": [],
   "source": []
  }
 ],
 "metadata": {
  "kernelspec": {
   "display_name": "Python 3 (ipykernel)",
   "language": "python",
   "name": "python3"
  },
  "language_info": {
   "codemirror_mode": {
    "name": "ipython",
    "version": 3
   },
   "file_extension": ".py",
   "mimetype": "text/x-python",
   "name": "python",
   "nbconvert_exporter": "python",
   "pygments_lexer": "ipython3",
   "version": "3.10.13"
  }
 },
 "nbformat": 4,
 "nbformat_minor": 5
}
