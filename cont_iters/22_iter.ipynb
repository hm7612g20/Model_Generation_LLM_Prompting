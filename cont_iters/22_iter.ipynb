{
 "cells": [
  {
   "cell_type": "markdown",
   "id": "54abea8e-75d4-47fe-983a-1be89af6829d",
   "metadata": {},
   "source": [
    "# LLM Iteration 22"
   ]
  },
  {
   "cell_type": "markdown",
   "id": "f99a7681-71a7-4e4a-8d5c-230d4a2e3180",
   "metadata": {},
   "source": [
    "**Aim**"
   ]
  },
  {
   "cell_type": "markdown",
   "id": "e7356b89-3587-46bb-a3e3-37b359b22b1a",
   "metadata": {},
   "source": [
    "Change the length of stay for patient type Stroke depending on whether they go to ESD or not, or if they are a mortality case."
   ]
  },
  {
   "cell_type": "markdown",
   "id": "be45960e-5a61-4886-8327-93ad903a790a",
   "metadata": {},
   "source": [
    "**Prompt**"
   ]
  },
  {
   "cell_type": "markdown",
   "id": "e7fc0180-efaf-43ab-aabc-ebd702802da0",
   "metadata": {},
   "source": [
    "Edit this model to reflect the following: if a patient type stroke leaves the ward to ESD, their length of stay parameters should be changed to mean 4.6, standard deviation 4.8. If the patient type leaves the ward to other, there is a possibility of mortality. The mortality rate is 2% of all patient type stroke. The length of stay parameters should be changed to mean 7.0, standard deviation 8.7. Return the updated code blocks."
   ]
  },
  {
   "cell_type": "markdown",
   "id": "91bf33a2-bd68-4ee4-a188-719397e2dda8",
   "metadata": {},
   "source": [
    "**Note**"
   ]
  },
  {
   "cell_type": "markdown",
   "id": "73efc428-39c6-4cd9-9571-8746e2c553b0",
   "metadata": {},
   "source": [
    "Modifications have been made to the output from the LLM, indicated by:\n",
    "```python\n",
    "########## MODIFICATION ##########\n",
    "change\n",
    "##################################\n",
    "```\n",
    "This is either used to add in code from previous iterations if only certain sections were updated, used to correct the LLM's code if required, or used to check the model is working as expected."
   ]
  },
  {
   "cell_type": "markdown",
   "id": "c9f98dad-4689-4915-b390-fcc1ff4b739c",
   "metadata": {},
   "source": [
    "**Additional code**"
   ]
  },
  {
   "cell_type": "code",
   "execution_count": 1,
   "id": "6879fd72-4e8e-49b4-b1bd-d6f4d36ad982",
   "metadata": {},
   "outputs": [],
   "source": [
    "def trace(msg):\n",
    "    '''\n",
    "    Utility function for printing simulation.\n",
    "    Set the TRACE constant to FALSE to turn tracing off.\n",
    "    \n",
    "    Params:\n",
    "    -------\n",
    "    msg: str\n",
    "        string to print to screen.\n",
    "    '''\n",
    "    if TRACE:\n",
    "        print(msg)"
   ]
  },
  {
   "cell_type": "markdown",
   "id": "9d769d6c-c990-4548-9fc5-324ba39d034a",
   "metadata": {},
   "source": [
    "**LLM Output**"
   ]
  },
  {
   "cell_type": "markdown",
   "id": "30066da2-c540-49f7-8095-818c59beceab",
   "metadata": {},
   "source": [
    "To incorporate the specified changes in the model where patients of type \"Stroke\" leaving the ward to ESD have their length of stay parameters adjusted and there is a mortality possibility for patients leaving to \"Other\", you can update the code as follows:"
   ]
  },
  {
   "cell_type": "code",
   "execution_count": 2,
   "id": "35b9b109-9ac2-4c8b-aef0-12f6d2c34871",
   "metadata": {},
   "outputs": [],
   "source": [
    "import simpy\n",
    "import numpy as np\n",
    "import math\n",
    "import pandas as pd"
   ]
  },
  {
   "cell_type": "code",
   "execution_count": 3,
   "id": "eceee492-c59f-49b5-9d95-d5b046242fae",
   "metadata": {},
   "outputs": [],
   "source": [
    "class Scenario:\n",
    "    def __init__(self, num_beds, run_length=60*2):\n",
    "        self.num_beds = num_beds\n",
    "        self.run_length = run_length\n",
    "        self.default_interarrival_times = {\n",
    "            \"Stroke\": 1.2,\n",
    "            \"TIA\": 9.3,\n",
    "            \"Complex Neurological\": 3.6,\n",
    "            \"Other\": 3.2\n",
    "        }\n",
    "        self.random_seeds = {\n",
    "            \"Stroke\": 12345,\n",
    "            \"TIA\": 54321,\n",
    "            \"Complex Neurological\": 98765,\n",
    "            \"Other\": 67890\n",
    "        }\n",
    "\n",
    "    def create_distributions(self, num_runs):\n",
    "        interarrival_distributions = {}\n",
    "        seeds = self.generate_seeds(num_runs)\n",
    "        for patient_type, seed in seeds.items():\n",
    "            interarrival_distributions[patient_type] = np.random.\\\n",
    "                default_rng(seed)\n",
    "        return interarrival_distributions\n",
    "\n",
    "    def generate_seeds(self, num_runs):\n",
    "        seeds = {}\n",
    "        for patient_type, seed in self.random_seeds.items():\n",
    "            seeds[patient_type] = [seed + i for i in range(num_runs)]\n",
    "        return seeds"
   ]
  },
  {
   "cell_type": "code",
   "execution_count": 4,
   "id": "0b40c354-e605-405d-8382-1515fd3dc4b6",
   "metadata": {},
   "outputs": [],
   "source": [
    "class StrokeWard:\n",
    "    def __init__(self, scenario):\n",
    "        self.env = simpy.Environment()\n",
    "        self.beds = simpy.Resource(self.env, capacity=scenario.num_beds)\n",
    "        self.patient_count = 0\n",
    "        self.wait_times = []\n",
    "        self.waiting_patients = []\n",
    "        self.length_of_stay = {\n",
    "            \"Stroke\": {\"mean\": 7.4, \"std_dev\": 8.6},\n",
    "            \"TIA\": {\"mean\": 1.8, \"std_dev\": 2.3},\n",
    "            \"Complex Neurological\": {\"mean\": 4.0, \"std_dev\": 5.0},\n",
    "            \"Other\": {\"mean\": 3.8, \"std_dev\": 5.2}\n",
    "        }\n",
    "        \n",
    "        self.interarrival_distributions = scenario.\\\n",
    "            create_distributions(num_runs=1)\n",
    "        \n",
    "        self.route_probabilities = {\n",
    "            \"Stroke\": {\"ESD\": 0.13, \"Rehab Unit\": 0.24, \"Other\": 0.63},\n",
    "            \"TIA\": {\"ESD\": 0.01, \"Rehab Unit\": 0.01, \"Other\": 0.98},\n",
    "            \"Complex Neurological\": {\"ESD\": 0.05, \"Rehab Unit\": 0.11,\n",
    "                                     \"Other\": 0.84},\n",
    "            \"Other\": {\"ESD\": 0.10, \"Rehab Unit\": 0.05, \"Other\": 0.85}\n",
    "        }\n",
    "\n",
    "    # Update patient length of stay based on destination\n",
    "    def update_length_of_stay(self, patient_type, destination):\n",
    "        if patient_type == 'Stroke':\n",
    "            if destination == 'ESD':\n",
    "                return {\"mean\": 4.6, \"std_dev\": 4.8}\n",
    "            elif destination == 'Other':\n",
    "                # Mortality rate for Stroke patients going to Other\n",
    "                if np.random.rand() < 0.02:\n",
    "                    # Adjusted parameters for mortality case\n",
    "                    return {\"mean\": 7.0, \"std_dev\": 8.7}\n",
    "        \n",
    "        return self.length_of_stay[patient_type]\n",
    "\n",
    "    # Remaining methods remain unchanged\n",
    "\n",
    "    #### MODIFICATION - code from previous iter ####\n",
    "    def admit_patient(self, patient):\n",
    "        arrival_time = round(self.env.now, 2)\n",
    "        with self.beds.request() as bed:\n",
    "            yield bed\n",
    "\n",
    "            wait_time = max(0, round(self.env.now - arrival_time, 2))\n",
    "            self.wait_times.append(wait_time)\n",
    "            self.waiting_patients.append(len(self.beds.queue))\n",
    "\n",
    "            trace(f'Patient {patient.id} ({patient.patient_type}) admitted '\n",
    "                  f'to the stroke ward at day {round(self.env.now, 2)}. '\n",
    "                  f'Wait time: {wait_time} days')\n",
    "            mu, sigma = calculate_mu_sigma(self.length_of_stay[patient.\\\n",
    "                                           patient_type][\"mean\"],\n",
    "                                           self.length_of_stay[patient.\\\n",
    "                                           patient_type][\"std_dev\"])\n",
    "            los = np.random.default_rng(patient.seed).lognormal(mu, sigma)\n",
    "            yield self.env.timeout(round(los, 2))\n",
    "\n",
    "            trace(f'Patient {patient.id} ({patient.patient_type}) discharged '\n",
    "                  f'from the stroke ward at day {round(self.env.now, 2)}')\n",
    "\n",
    "            route_probabilities = list(self.route_probabilities[patient.\\\n",
    "                                       patient_type].values())\n",
    "            route_names = list(self.route_probabilities[patient.\\\n",
    "                               patient_type].keys())\n",
    "            \n",
    "            rng = np.random.default_rng(patient.seed)\n",
    "            route_choice = rng.choice(route_names, p=route_probabilities)\n",
    "            \n",
    "            trace(f'Patient {patient.id} ({patient.patient_type}) routed to: '\n",
    "                  f'{route_choice}')\n",
    "\n",
    "    def patient_arrival(self, patient_type):\n",
    "        while True:\n",
    "            if patient_type in self.interarrival_distributions:\n",
    "                interarrival_time = self.\\\n",
    "                    interarrival_distributions[patient_type].\\\n",
    "                    exponential(scenario.\\\n",
    "                                default_interarrival_times[patient_type])\n",
    "                yield self.env.timeout(interarrival_time)\n",
    "                patient = Patient(self.patient_count, patient_type,\n",
    "                                  self.\\\n",
    "                                  interarrival_distributions[patient_type])\n",
    "                self.patient_count += 1\n",
    "                self.env.process(self.admit_patient(patient))\n",
    "\n",
    "    def summary(self):\n",
    "        mean_wait_time = round(np.mean(self.wait_times), 2)\n",
    "        mean_waiting_patients = round(np.mean(self.waiting_patients), 2)\n",
    "        \n",
    "        summary_data = {\n",
    "            'Mean Wait Time': [mean_wait_time],\n",
    "            'Mean Waiting Patients': [mean_waiting_patients]\n",
    "        }\n",
    "        \n",
    "        summary_df = pd.DataFrame(summary_data)\n",
    "\n",
    "        return summary_df\n",
    "    ################################################"
   ]
  },
  {
   "cell_type": "code",
   "execution_count": 5,
   "id": "39a71b37-85f7-4e4d-921f-b929e16e6d52",
   "metadata": {},
   "outputs": [],
   "source": [
    "#### MODIFICATION - code from previous iter ####\n",
    "class Patient:\n",
    "    def __init__(self, id, patient_type, seed):\n",
    "        self.id = id\n",
    "        self.patient_type = patient_type\n",
    "        self.seed = seed\n",
    "\n",
    "def calculate_mu_sigma(mean, std_dev):\n",
    "    v = std_dev ** 2\n",
    "    m = mean\n",
    "    phi = math.sqrt(v + m ** 2)\n",
    "    mu = math.log((m ** 2) / phi)\n",
    "    sigma = math.sqrt(math.log((phi ** 2) / (m ** 2)))\n",
    "    return mu, sigma\n",
    "################################################"
   ]
  },
  {
   "cell_type": "code",
   "execution_count": 6,
   "id": "b29d42dd-339c-4a1c-832e-191df86f0c2d",
   "metadata": {},
   "outputs": [],
   "source": [
    "def single_run(scenario):\n",
    "    stroke_ward = StrokeWard(scenario)\n",
    "\n",
    "    PATIENTS = [\"Stroke\", \"TIA\", \"Complex Neurological\", \"Other\"]\n",
    "    for patient_type in PATIENTS:\n",
    "        stroke_ward.env.process(stroke_ward.patient_arrival(patient_type))\n",
    "\n",
    "    trace(\"Simulation started...\")\n",
    "    stroke_ward.env.run(until=scenario.run_length)\n",
    "    trace(\"Simulation ended.\")\n",
    "\n",
    "    return stroke_ward\n",
    "\n",
    "def multiple_replications(scenario, num_runs):\n",
    "    results = []\n",
    "    for i in range(num_runs):\n",
    "        scenario_with_seeds = Scenario(scenario.num_beds)\n",
    "        scenario_with_seeds.random_seeds = {k: v[i] for k, v in scenario.\\\n",
    "                                            generate_seeds(num_runs).items()}\n",
    "        \n",
    "        stroke_ward = single_run(scenario_with_seeds)\n",
    "        result_summary = stroke_ward.summary()\n",
    "        results.append(result_summary)\n",
    "\n",
    "    df_results = pd.concat(results, keys=[f'Replication {i+1}' for i in \\\n",
    "                                          range(num_runs)])\n",
    "\n",
    "    return df_results"
   ]
  },
  {
   "cell_type": "code",
   "execution_count": 7,
   "id": "edf979e7-a4c3-48cb-820b-666f183d8ccc",
   "metadata": {},
   "outputs": [
    {
     "name": "stdout",
     "output_type": "stream",
     "text": [
      "                 Mean Wait Time  Mean Waiting Patients\n",
      "Replication 1 0            1.44                   2.10\n",
      "Replication 2 0            1.74                   2.92\n",
      "Replication 3 0            2.04                   2.57\n",
      "Replication 4 0            1.71                   2.50\n",
      "Replication 5 0            0.81                   1.01\n"
     ]
    }
   ],
   "source": [
    "TRACE = False\n",
    "\n",
    "# Example usage:\n",
    "scenario = Scenario(num_beds=10)\n",
    "\n",
    "num_replications = 5\n",
    "final_results = multiple_replications(scenario, num_replications)\n",
    "\n",
    "print(final_results)"
   ]
  },
  {
   "cell_type": "markdown",
   "id": "21ef4f58-372a-4e0a-8fdd-7a10fb94971d",
   "metadata": {},
   "source": [
    "In this updated code:\n",
    "- The update_length_of_stay method in the StrokeWard class has been added to adjust the length of stay parameters based on the patient type and destination.\n",
    "- For patients of type 'Stroke' leaving to ESD or Other destinations, their length of stay parameters are modified accordingly.\n",
    "- The rest of the code structure remains similar to the previous version with the addition of this functionality to handle different scenarios based on patient type and destination within the simulation model."
   ]
  },
  {
   "cell_type": "markdown",
   "id": "93473a86-cfc0-467e-96bb-40d94d4f6ae2",
   "metadata": {},
   "source": [
    "**Reflection**"
   ]
  },
  {
   "cell_type": "markdown",
   "id": "3eb49ae4-4b8e-4f69-821d-9add01577170",
   "metadata": {},
   "source": [
    "The LLM has introduced a new function to the StrokeWard class to update the mean and stdev of length of stay but has not incorported this into the admit_patients function."
   ]
  },
  {
   "cell_type": "markdown",
   "id": "e1afd470-d7ba-4d3c-9df1-2cf72d50279b",
   "metadata": {},
   "source": [
    "**Prompt**"
   ]
  },
  {
   "cell_type": "markdown",
   "id": "3e1b798a-ecaf-4b12-b7e1-b5d27f884a75",
   "metadata": {},
   "source": [
    "Use this new function to update the length of stay parameters in the admit_patient function."
   ]
  },
  {
   "cell_type": "markdown",
   "id": "f74dc2ef-1af4-4d72-927f-f4800459b461",
   "metadata": {},
   "source": [
    "**LLM Output**"
   ]
  },
  {
   "cell_type": "markdown",
   "id": "eaf0e6d3-0eac-4d68-a80d-7de0d467067f",
   "metadata": {},
   "source": [
    "To incorporate the updated length of stay parameters based on patient type and destination in the admit_patient function of the StrokeWard class, you can modify the function as follows:"
   ]
  },
  {
   "cell_type": "code",
   "execution_count": 8,
   "id": "22a41eb3-bdcb-417e-b8f5-87ae008526fc",
   "metadata": {},
   "outputs": [],
   "source": [
    "class StrokeWard:\n",
    "    def __init__(self, scenario):\n",
    "        self.env = simpy.Environment()\n",
    "        self.beds = simpy.Resource(self.env, capacity=scenario.num_beds)\n",
    "        self.patient_count = 0\n",
    "        self.wait_times = []\n",
    "        self.waiting_patients = []\n",
    "        self.length_of_stay = {\n",
    "            \"Stroke\": {\"mean\": 7.4, \"std_dev\": 8.6},\n",
    "            \"TIA\": {\"mean\": 1.8, \"std_dev\": 2.3},\n",
    "            \"Complex Neurological\": {\"mean\": 4.0, \"std_dev\": 5.0},\n",
    "            \"Other\": {\"mean\": 3.8, \"std_dev\": 5.2}\n",
    "        }\n",
    "        \n",
    "        self.interarrival_distributions = scenario.\\\n",
    "            create_distributions(num_runs=1)\n",
    "        \n",
    "        self.route_probabilities = {\n",
    "            \"Stroke\": {\"ESD\": 0.13, \"Rehab Unit\": 0.24, \"Other\": 0.63},\n",
    "            \"TIA\": {\"ESD\": 0.01, \"Rehab Unit\": 0.01, \"Other\": 0.98},\n",
    "            \"Complex Neurological\": {\"ESD\": 0.05, \"Rehab Unit\": 0.11,\n",
    "                                     \"Other\": 0.84},\n",
    "            \"Other\": {\"ESD\": 0.10, \"Rehab Unit\": 0.05, \"Other\": 0.85}\n",
    "        }\n",
    "\n",
    "        ########## MODIFICATION ##########\n",
    "        self.patients_in_beds = 0\n",
    "        self.bed_in_use_store = []\n",
    "        self.los_store = []\n",
    "        self.patient_type_store = []\n",
    "        ##################################\n",
    "\n",
    "    def update_length_of_stay(self, patient_type, destination):\n",
    "        if patient_type == 'Stroke':\n",
    "            if destination == 'ESD':\n",
    "                return {\"mean\": 4.6, \"std_dev\": 4.8}\n",
    "            elif destination == 'Other':\n",
    "                # Mortality rate for Stroke patients going to Other\n",
    "                if np.random.rand() < 0.02:\n",
    "                    # Adjusted parameters for mortality case\n",
    "                    return {\"mean\": 7.0, \"std_dev\": 8.7}\n",
    "        \n",
    "        return self.length_of_stay[patient_type]\n",
    "\n",
    "    def admit_patient(self, patient): # replaced patient_type with patient\n",
    "\n",
    "        # with self.beds.request() as bed_request:\n",
    "        #    arrival_time = self.env.now\n",
    "        #    yield bed_request\n",
    "\n",
    "        #### MODIFICATION - code from previous iter ####\n",
    "        arrival_time = round(self.env.now, 2)\n",
    "        with self.beds.request() as bed:\n",
    "            yield bed\n",
    "            ########## MODIFICATION ##########\n",
    "            bed_arrival_time = self.env.now\n",
    "            self.patients_in_beds += 1\n",
    "            self.bed_in_use_store.append(self.patients_in_beds)\n",
    "            self.patient_type_store.append(patient.patient_type)\n",
    "            ##################################\n",
    "\n",
    "            wait_time = max(0, round(self.env.now - arrival_time, 2))\n",
    "            self.wait_times.append(wait_time)\n",
    "            self.waiting_patients.append(len(self.beds.queue))\n",
    "\n",
    "            trace(f'Patient {patient.id} ({patient.patient_type}) admitted '\n",
    "                  f'to the stroke ward at day {round(self.env.now, 2)}. '\n",
    "                  f'Wait time: {wait_time} days')\n",
    "\n",
    "            route_probabilities = list(self.route_probabilities[patient.\\\n",
    "                                       patient_type].values())\n",
    "            route_names = list(self.route_probabilities[patient.\\\n",
    "                               patient_type].keys())\n",
    "            \n",
    "            rng = np.random.default_rng(patient.seed)\n",
    "            route_choice = rng.choice(route_names, p=route_probabilities)\n",
    "        ################################################\n",
    "            \n",
    "            # destination = np.random.\\\n",
    "            #   choice(list(self.route_probabilities[patient_type].keys()),\n",
    "            #          p=list(self.route_probabilities[patient_type].values()))\n",
    "\n",
    "            length_of_stay_params = self.\\\n",
    "                update_length_of_stay(patient.patient_type, # destination\n",
    "                                      route_choice)\n",
    "\n",
    "            #### MODIFICATION - code from previous iter ####\n",
    "            mu, sigma = calculate_mu_sigma(length_of_stay_params[\"mean\"],\n",
    "                                           length_of_stay_params[\"std_dev\"])\n",
    "            ################################################\n",
    "\n",
    "            # length_of_stay = max(0, np.random.\\\n",
    "            #                      normal(length_of_stay_params[\"mean\"],\n",
    "            #                             length_of_stay_params[\"std_dev\"]))\n",
    "            \n",
    "            # yield self.env.timeout(length_of_stay)\n",
    "\n",
    "            #### MODIFICATION - code from previous iter ####\n",
    "            los = np.random.default_rng(patient.seed).lognormal(mu, sigma)\n",
    "            yield self.env.timeout(round(los, 2))\n",
    "            ################################################\n",
    "\n",
    "            ########## MODIFICATION ##########\n",
    "            self.patients_in_beds -= 1\n",
    "            bed_leave_time = self.env.now\n",
    "            self.los_store.append(round(bed_leave_time - bed_arrival_time, 2))\n",
    "            ##################################\n",
    "\n",
    "            trace(f'Patient {patient.id} ({patient.patient_type}) discharged '\n",
    "                  f'from the stroke ward at day {round(self.env.now, 2)}')\n",
    "\n",
    "            trace(f'Patient {patient.id} ({patient.patient_type}) routed to: '\n",
    "                  f'{route_choice}')\n",
    "\n",
    "    def patient_arrival(self, patient_type):\n",
    "        while True:\n",
    "            if patient_type in self.interarrival_distributions:\n",
    "                interarrival_time = self.\\\n",
    "                    interarrival_distributions[patient_type].\\\n",
    "                    exponential(scenario.\\\n",
    "                                default_interarrival_times[patient_type])\n",
    "                yield self.env.timeout(interarrival_time)\n",
    "                patient = Patient(self.patient_count, patient_type,\n",
    "                                  self.\\\n",
    "                                  interarrival_distributions[patient_type])\n",
    "                self.patient_count += 1\n",
    "                self.env.process(self.admit_patient(patient))\n",
    "\n",
    "    def summary(self):\n",
    "        mean_wait_time = round(np.mean(self.wait_times), 2)\n",
    "        mean_waiting_patients = round(np.mean(self.waiting_patients), 2)\n",
    "        \n",
    "        summary_data = {\n",
    "            'Mean Wait Time': [mean_wait_time],\n",
    "            'Mean Waiting Patients': [mean_waiting_patients]\n",
    "        }\n",
    "        \n",
    "        summary_df = pd.DataFrame(summary_data)\n",
    "\n",
    "        return summary_df\n",
    "    ################################################"
   ]
  },
  {
   "cell_type": "code",
   "execution_count": 9,
   "id": "2e8db02f-7b04-459b-9a67-d3e87b9173ff",
   "metadata": {},
   "outputs": [
    {
     "name": "stdout",
     "output_type": "stream",
     "text": [
      "                 Mean Wait Time  Mean Waiting Patients\n",
      "Replication 1 0            0.17                   0.17\n",
      "Replication 2 0            5.40                   9.61\n",
      "Replication 3 0            1.23                   1.66\n",
      "Replication 4 0            0.71                   1.15\n",
      "Replication 5 0            0.56                   0.61\n"
     ]
    }
   ],
   "source": [
    "TRACE = False\n",
    "\n",
    "# Example usage:\n",
    "scenario = Scenario(num_beds=10)\n",
    "\n",
    "num_replications = 5\n",
    "final_results = multiple_replications(scenario, num_replications)\n",
    "\n",
    "print(final_results)"
   ]
  },
  {
   "cell_type": "markdown",
   "id": "d82cf9d5-6ef8-454f-aaf2-c479252b42bb",
   "metadata": {},
   "source": [
    "In this updated StrokeWard class:\n",
    "- The update_length_of_stay method is used to adjust the length of stay parameters based on the patient type and destination.\n",
    "- The admit_patient function now incorporates the updated length of stay parameters by calling the update_length_of_stay method to determine the appropriate parameters based on the patient type and destination before calculating the length of stay for each admitted patient.\n",
    "\n",
    "These modifications ensure that the length of stay parameters are dynamically adjusted based on specific conditions for patients in the simulation model when they are admitted to different destinations within the ward."
   ]
  },
  {
   "cell_type": "markdown",
   "id": "33b9a046-9d16-4a67-a3f2-996c6cd0b68d",
   "metadata": {},
   "source": [
    "**Checks**"
   ]
  },
  {
   "cell_type": "code",
   "execution_count": 10,
   "id": "609246d5-5d87-41ca-989d-fdf78476e674",
   "metadata": {},
   "outputs": [],
   "source": [
    "class TestCase:\n",
    "    def __init__(self, scenario):\n",
    "        self.scenario = scenario\n",
    "\n",
    "    def test_run_length(self):\n",
    "        '''\n",
    "        Checks that specified run length is implemented correctly.\n",
    "        '''\n",
    "        ward = single_run(self.scenario)\n",
    "\n",
    "        if ward.env.now > self.scenario.run_length:\n",
    "            print('The simulation has continued for longer than input.')\n",
    "\n",
    "    def test_bed_hold(self):\n",
    "        '''\n",
    "        Checks that patients are holding beds until they leave the model.\n",
    "        '''\n",
    "        ward = single_run(self.scenario)\n",
    "\n",
    "        for bed_use in ward.bed_in_use_store:\n",
    "            if bed_use > self.scenario.num_beds:\n",
    "                print('The number of beds in use exceeded limit.')\n",
    "\n",
    "    def test_length_of_stay(self):\n",
    "        '''\n",
    "        Checks that specified length of stay correctly implemented.\n",
    "        '''\n",
    "        ward = single_run(self.scenario)\n",
    "\n",
    "        print('\\nLength of stay:')\n",
    "        for pat_type, los in zip(ward.patient_type_store, ward.los_store):\n",
    "            print(f'({pat_type}) {los}')"
   ]
  },
  {
   "cell_type": "code",
   "execution_count": 11,
   "id": "079170a8-a2e0-4162-8cac-accfb03171b0",
   "metadata": {},
   "outputs": [
    {
     "name": "stdout",
     "output_type": "stream",
     "text": [
      "Simulation started...\n",
      "Patient 0 (Complex Neurological) admitted to the stroke ward at day 0.09. Wait time: 0 days\n",
      "Patient 1 (Stroke) admitted to the stroke ward at day 0.22. Wait time: 0 days\n",
      "Patient 2 (Stroke) admitted to the stroke ward at day 0.99. Wait time: 0 days\n",
      "Patient 3 (Stroke) admitted to the stroke ward at day 1.61. Wait time: 0 days\n",
      "Patient 4 (Stroke) admitted to the stroke ward at day 1.85. Wait time: 0 days\n",
      "Patient 5 (Stroke) admitted to the stroke ward at day 2.01. Wait time: 0 days\n",
      "Patient 6 (TIA) admitted to the stroke ward at day 2.02. Wait time: 0 days\n",
      "Patient 7 (Stroke) admitted to the stroke ward at day 2.13. Wait time: 0 days\n",
      "Patient 2 (Stroke) discharged from the stroke ward at day 2.35\n",
      "Patient 2 (Stroke) routed to: Rehab Unit\n",
      "Patient 3 (Stroke) discharged from the stroke ward at day 2.4\n",
      "Patient 3 (Stroke) routed to: Other\n",
      "Patient 6 (TIA) discharged from the stroke ward at day 4.0\n",
      "Patient 6 (TIA) routed to: Other\n",
      "Patient 1 (Stroke) discharged from the stroke ward at day 4.02\n",
      "Patient 1 (Stroke) routed to: Other\n",
      "Patient 4 (Stroke) discharged from the stroke ward at day 4.24\n",
      "Patient 4 (Stroke) routed to: Other\n",
      "Patient 8 (Stroke) admitted to the stroke ward at day 4.61. Wait time: 0 days\n",
      "Patient 9 (Other) admitted to the stroke ward at day 5.03. Wait time: 0 days\n",
      "Patient 10 (Complex Neurological) admitted to the stroke ward at day 5.28. Wait time: 0 days\n",
      "Patient 11 (Other) admitted to the stroke ward at day 5.46. Wait time: 0 days\n",
      "Patient 12 (Stroke) admitted to the stroke ward at day 5.47. Wait time: 0 days\n",
      "Patient 13 (Complex Neurological) admitted to the stroke ward at day 6.09. Wait time: 0 days\n",
      "Patient 9 (Other) discharged from the stroke ward at day 6.32\n",
      "Patient 9 (Other) routed to: Other\n",
      "Patient 5 (Stroke) discharged from the stroke ward at day 6.57\n",
      "Patient 5 (Stroke) routed to: Other\n",
      "Patient 14 (Stroke) admitted to the stroke ward at day 6.66. Wait time: 0 days\n",
      "Patient 15 (Complex Neurological) admitted to the stroke ward at day 6.72. Wait time: 0 days\n",
      "Patient 10 (Complex Neurological) discharged from the stroke ward at day 6.73\n",
      "Patient 10 (Complex Neurological) routed to: Other\n",
      "Patient 11 (Other) discharged from the stroke ward at day 6.92\n",
      "Patient 11 (Other) routed to: Other\n",
      "Patient 8 (Stroke) discharged from the stroke ward at day 7.07\n",
      "Patient 8 (Stroke) routed to: ESD\n",
      "Patient 16 (Stroke) admitted to the stroke ward at day 7.63. Wait time: 0 days\n",
      "Patient 0 (Complex Neurological) discharged from the stroke ward at day 7.87\n",
      "Patient 0 (Complex Neurological) routed to: Other\n",
      "Patient 17 (Stroke) admitted to the stroke ward at day 8.01. Wait time: 0 days\n",
      "Patient 13 (Complex Neurological) discharged from the stroke ward at day 8.95\n",
      "Patient 13 (Complex Neurological) routed to: Other\n",
      "Patient 17 (Stroke) discharged from the stroke ward at day 9.59\n",
      "Patient 17 (Stroke) routed to: Other\n",
      "Patient 12 (Stroke) discharged from the stroke ward at day 9.64\n",
      "Patient 12 (Stroke) routed to: Other\n",
      "Simulation ended.\n"
     ]
    }
   ],
   "source": [
    "TRACE = True\n",
    "scenario = Scenario(num_beds=10, run_length=10)\n",
    "\n",
    "test = TestCase(scenario)\n",
    "test.test_run_length()"
   ]
  },
  {
   "cell_type": "code",
   "execution_count": 12,
   "id": "86c52caf-18fd-4e63-acd0-39a06b47e01a",
   "metadata": {},
   "outputs": [
    {
     "name": "stdout",
     "output_type": "stream",
     "text": [
      "Simulation started...\n",
      "Patient 0 (Complex Neurological) admitted to the stroke ward at day 0.09. Wait time: 0 days\n",
      "Patient 0 (Complex Neurological) discharged from the stroke ward at day 7.87\n",
      "Patient 0 (Complex Neurological) routed to: Other\n",
      "Patient 1 (Stroke) admitted to the stroke ward at day 7.87. Wait time: 7.65 days\n",
      "Patient 1 (Stroke) discharged from the stroke ward at day 16.66\n",
      "Patient 1 (Stroke) routed to: Other\n",
      "Patient 2 (Stroke) admitted to the stroke ward at day 16.66. Wait time: 15.67 days\n",
      "Patient 2 (Stroke) discharged from the stroke ward at day 27.77\n",
      "Patient 2 (Stroke) routed to: Other\n",
      "Patient 3 (TIA) admitted to the stroke ward at day 27.77. Wait time: 25.75 days\n",
      "Patient 3 (TIA) discharged from the stroke ward at day 30.33\n",
      "Patient 3 (TIA) routed to: Other\n",
      "Patient 4 (Other) admitted to the stroke ward at day 30.33. Wait time: 25.3 days\n",
      "Patient 4 (Other) discharged from the stroke ward at day 36.31\n",
      "Patient 4 (Other) routed to: Rehab Unit\n",
      "Patient 5 (Complex Neurological) admitted to the stroke ward at day 36.31. Wait time: 31.03 days\n",
      "Patient 5 (Complex Neurological) discharged from the stroke ward at day 37.92\n",
      "Patient 5 (Complex Neurological) routed to: Other\n",
      "Patient 6 (Other) admitted to the stroke ward at day 37.92. Wait time: 32.46 days\n",
      "Simulation ended.\n"
     ]
    }
   ],
   "source": [
    "TRACE = True\n",
    "scenario = Scenario(num_beds=1, run_length=40)\n",
    "\n",
    "test = TestCase(scenario)\n",
    "test.test_bed_hold()"
   ]
  },
  {
   "cell_type": "code",
   "execution_count": 13,
   "id": "55ad65b3-bd7c-442b-9650-165b9f285812",
   "metadata": {},
   "outputs": [
    {
     "name": "stdout",
     "output_type": "stream",
     "text": [
      "\n",
      "Length of stay:\n",
      "(Complex Neurological) 1.36\n",
      "(Stroke) 0.79\n",
      "(Stroke) 1.98\n",
      "(Stroke) 3.8\n",
      "(Stroke) 2.39\n",
      "(Stroke) 1.29\n",
      "(TIA) 4.56\n",
      "(Stroke) 1.45\n",
      "(Stroke) 1.46\n",
      "(Other) 2.46\n",
      "(Complex Neurological) 7.78\n",
      "(Other) 2.86\n",
      "(Stroke) 1.58\n",
      "(Complex Neurological) 4.17\n"
     ]
    }
   ],
   "source": [
    "TRACE = False\n",
    "scenario = Scenario(num_beds=10, run_length=10)\n",
    "\n",
    "test = TestCase(scenario)\n",
    "test.test_length_of_stay()"
   ]
  },
  {
   "cell_type": "code",
   "execution_count": 25,
   "id": "0e2bb70d-75bc-4628-828d-254c4e8b878b",
   "metadata": {},
   "outputs": [
    {
     "name": "stdout",
     "output_type": "stream",
     "text": [
      "Patient type: Stroke, destination: Other\n",
      "New params: {'mean': 7.0, 'std_dev': 8.7}\n",
      "Old params: {'mean': 7.4, 'std_dev': 8.6}\n",
      "\n",
      "Patient type: Other, destination: ESD\n",
      "New params: {'mean': 3.8, 'std_dev': 5.2}\n",
      "Old params: {'mean': 3.8, 'std_dev': 5.2}\n",
      "\n",
      "Patient type: TIA, destination: Rehab Unit\n",
      "New params: {'mean': 1.8, 'std_dev': 2.3}\n",
      "Old params: {'mean': 1.8, 'std_dev': 2.3}\n",
      "\n",
      "Patient type: Other, destination: ESD\n",
      "New params: {'mean': 3.8, 'std_dev': 5.2}\n",
      "Old params: {'mean': 3.8, 'std_dev': 5.2}\n",
      "\n",
      "Patient type: Stroke, destination: ESD\n",
      "New params: {'mean': 4.6, 'std_dev': 4.8}\n",
      "Old params: {'mean': 7.4, 'std_dev': 8.6}\n",
      "\n",
      "Patient type: Stroke, destination: Rehab Unit\n",
      "New params: {'mean': 7.4, 'std_dev': 8.6}\n",
      "Old params: {'mean': 7.4, 'std_dev': 8.6}\n",
      "\n",
      "Patient type: Complex Neurological, destination: Other\n",
      "New params: {'mean': 4.0, 'std_dev': 5.0}\n",
      "Old params: {'mean': 4.0, 'std_dev': 5.0}\n",
      "\n",
      "Patient type: TIA, destination: Rehab Unit\n",
      "New params: {'mean': 1.8, 'std_dev': 2.3}\n",
      "Old params: {'mean': 1.8, 'std_dev': 2.3}\n",
      "\n",
      "Patient type: Stroke, destination: Other\n",
      "New params: {'mean': 7.4, 'std_dev': 8.6}\n",
      "Old params: {'mean': 7.4, 'std_dev': 8.6}\n",
      "\n",
      "Patient type: Stroke, destination: Other\n",
      "New params: {'mean': 7.4, 'std_dev': 8.6}\n",
      "Old params: {'mean': 7.4, 'std_dev': 8.6}\n",
      "\n",
      "Patient type: Stroke, destination: ESD\n",
      "New params: {'mean': 4.6, 'std_dev': 4.8}\n",
      "Old params: {'mean': 7.4, 'std_dev': 8.6}\n",
      "\n"
     ]
    }
   ],
   "source": [
    "# Checking the new update parameters function\n",
    "scenario = Scenario(num_beds=10, run_length=10)\n",
    "ward = StrokeWard(scenario)\n",
    "\n",
    "patients = ['Stroke', 'Other', 'TIA', 'Other', 'Stroke', 'Stroke',\n",
    "            'Complex Neurological', 'TIA', 'Stroke', 'Stroke', 'Stroke']\n",
    "destination = ['Other', 'ESD', 'Rehab Unit', 'ESD', 'ESD', 'Rehab Unit',\n",
    "               'Other', 'Rehab Unit', 'Other', 'Other', 'ESD']\n",
    "\n",
    "for pat, dest in zip(patients, destination):\n",
    "    los_params = ward.update_length_of_stay(pat, dest)\n",
    "    print(f'Patient type: {pat}, destination: {dest}')\n",
    "    print(f'New params: {los_params}')\n",
    "    print(f'Old params: {ward.length_of_stay[pat]}\\n')\n",
    "\n",
    "    if pat != 'Stroke':\n",
    "        if los_params != ward.length_of_stay[pat]:\n",
    "            print('Patient type LOS parameters changed unexpectedly')\n",
    "    else:\n",
    "        if dest == 'Rehab Unit':\n",
    "            if los_params != ward.length_of_stay[pat]:\n",
    "                print('Patient type LOS parameters changed unexpectedly')"
   ]
  },
  {
   "cell_type": "markdown",
   "id": "37ba6882-22de-4a78-953c-b5558560ec98",
   "metadata": {},
   "source": [
    "**Reflection**"
   ]
  },
  {
   "cell_type": "markdown",
   "id": "a8b6178b-8ea8-425b-8642-d4c9c2a9193d",
   "metadata": {},
   "source": [
    "The LLM attempted to provide a method to incorporate this new function into the admit_patients function, but it then changed variables, such as passing it patient_type instead of patient class or changing the name bed to bed_request. It also did not execute the lognormal distribution correctly and did not use the calculate mu and sigma function previously created. It also made the destination random again, instead of using the rng it created before. This was then changed manually to allow the model to run. Following these edits, the model now updates the mean and stdev based on the route choice or else returns the original values. The sampling for the mortality case is using np.random, meaning the results can be different each time again depending on which patients are sampled for mortality."
   ]
  },
  {
   "cell_type": "code",
   "execution_count": null,
   "id": "14d9336f-9d71-49e1-9096-7fccf57be256",
   "metadata": {},
   "outputs": [],
   "source": []
  }
 ],
 "metadata": {
  "kernelspec": {
   "display_name": "Python 3 (ipykernel)",
   "language": "python",
   "name": "python3"
  },
  "language_info": {
   "codemirror_mode": {
    "name": "ipython",
    "version": 3
   },
   "file_extension": ".py",
   "mimetype": "text/x-python",
   "name": "python",
   "nbconvert_exporter": "python",
   "pygments_lexer": "ipython3",
   "version": "3.10.13"
  }
 },
 "nbformat": 4,
 "nbformat_minor": 5
}
