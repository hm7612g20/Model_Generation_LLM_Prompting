{
 "cells": [
  {
   "cell_type": "markdown",
   "id": "553dd080-294f-4940-aa35-b2c7c4a3a12e",
   "metadata": {},
   "source": [
    "# LLM Iteration 2"
   ]
  },
  {
   "cell_type": "markdown",
   "id": "69b9c2b0-2448-4bc7-b2cd-f7ef8c9babdd",
   "metadata": {},
   "source": [
    "**Aim**"
   ]
  },
  {
   "cell_type": "markdown",
   "id": "d0621ba1-2420-41f7-9bfb-0e8235623714",
   "metadata": {},
   "source": [
    "Add complexity to the previous model by having the patients stay a set length of time on the ward, which will be constant and the same for all patient types. The patient will hold the bed during this time so no more patients can be admitted to that bed until they leave, creating the possibility of a queue. "
   ]
  },
  {
   "cell_type": "markdown",
   "id": "d6edb373-a5e8-4376-945a-48c3a79633ae",
   "metadata": {},
   "source": [
    "**Prompt**"
   ]
  },
  {
   "cell_type": "markdown",
   "id": "5b4231cd-d3c9-4d9b-a4ab-f9bbf1321917",
   "metadata": {},
   "source": [
    "Code a discrete-event simulation model of a stroke ward in a hospital in python 3.10 and simpy 4.\r\n",
    "Please code the full model specified. Do not return a simplified version. Show all code. \r\n",
    "\r\n",
    "All time units in the model are in days.\r\n",
    "Each patient in the model has a unique identifier. The first patient to arrive has an identifier of 0. For each subsequent patient increment the identifier by 1.\r\n",
    "\r\n",
    "Patients to arrive in a stroke ward that admits four different patient types: Stroke, TIA, Complex Neurological or Other. Each patient type had a different interarrival time distribution. There are 10 beds on the stroke ward. The patient should only be admitted if there is an available bed. The patient holds the bed until their length of stay has elapsed. The length of stay for all patients is 7 days. After the length of stay has elapsed, the patient leaves the model. \r\n",
    "\r\n",
    "All patient types must have their own generator function. \r\n",
    "\r\n",
    "The model should print out useful information after each event. \r\n",
    "The model should include a user settable run length. This defaults to 2 months. \r\n",
    "\r\n",
    "The interarrival time distribution and parameters of patients are dependent on the patient type. This describes the average time between required admissions. For each distribution time is measured in days. \r\n",
    "Stroke = Exponential: 1.2\r\n",
    "TIA = Exponential: 9.3\r\n",
    "Complex Neurological = Exponential: 3.6\r\n",
    "Other = Exponential: 3.2\r\n",
    "\r\n",
    "Numpy should be used for sampling. Each interarrival distribution should have its own numpy.random.Generator object.\r\n",
    "\r\n",
    "Provide sources.\r\n"
   ]
  },
  {
   "cell_type": "markdown",
   "id": "3e23ede5-e824-46bc-986e-f023d9e4d107",
   "metadata": {},
   "source": [
    "**Note**"
   ]
  },
  {
   "cell_type": "markdown",
   "id": "b112d948-54d7-40b9-8e94-2fed5cec65de",
   "metadata": {},
   "source": [
    "Modifications have been made to the output from the LLM, indicated by:\n",
    "```python\n",
    "########## MODIFICATION ##########\n",
    "change\n",
    "##################################\n",
    "```\n",
    "This is either used to add in code from previous iterations if only certain sections were updated, used to correct the LLM's code if required, or used to check the model is working as expected."
   ]
  },
  {
   "cell_type": "markdown",
   "id": "18f3c370-c42c-4b57-b358-9ffc887d429b",
   "metadata": {},
   "source": [
    "**LLM Output**"
   ]
  },
  {
   "cell_type": "markdown",
   "id": "3fad1d0c-45d1-40a3-a46d-248b38ca11f5",
   "metadata": {},
   "source": [
    "Sources:\n",
    "1. SimPy Documentation: https://simpy.readthedocs.io/en/latest/\n",
    "2. NumPy Documentation: https://numpy.org/doc/stable/"
   ]
  },
  {
   "cell_type": "code",
   "execution_count": 2,
   "id": "5adc6c3d-0f66-41ac-865c-af653331359d",
   "metadata": {},
   "outputs": [],
   "source": [
    "import simpy\n",
    "import numpy as np"
   ]
  },
  {
   "cell_type": "code",
   "execution_count": 3,
   "id": "e58b0c5b-d61a-4a85-83a6-1e9efb0953d6",
   "metadata": {},
   "outputs": [],
   "source": [
    "# Define the parameters\n",
    "NUM_BEDS = 10\n",
    "LENGTH_OF_STAY = 7\n",
    "RUN_LENGTH = 60  # Default run length in days (2 months)\n",
    "INTERARRIVAL_TIMES = {\n",
    "    'Stroke': 1.2,\n",
    "    'TIA': 9.3,\n",
    "    'Complex Neurological': 3.6,\n",
    "    'Other': 3.2\n",
    "}"
   ]
  },
  {
   "cell_type": "code",
   "execution_count": 4,
   "id": "e3ef04e2-e2c1-46ec-8176-dc25bb16d20c",
   "metadata": {},
   "outputs": [],
   "source": [
    "class StrokeWard:\n",
    "    def __init__(self, env):\n",
    "        self.env = env\n",
    "        self.beds = simpy.Resource(env, capacity=NUM_BEDS)\n",
    "        self.patient_count = 0\n",
    "        ########## MODIFICATION ##########\n",
    "        self.patients_in_beds = 0\n",
    "        self.bed_in_use_store = []\n",
    "        self.los_store = []\n",
    "        ##################################\n",
    "\n",
    "    def admit_patient(self, patient):\n",
    "        with self.beds.request() as bed:\n",
    "            yield bed\n",
    "            ########## MODIFICATION ##########\n",
    "            bed_arrival_time = self.env.now\n",
    "            self.patients_in_beds += 1\n",
    "            self.bed_in_use_store.append(self.patients_in_beds)\n",
    "            ##################################\n",
    "            \n",
    "            print(f'Patient {patient.id} of type {patient.type} admitted at '\n",
    "                  f'day {round(self.env.now, 2)}')\n",
    "            yield self.env.timeout(LENGTH_OF_STAY)\n",
    "            ########## MODIFICATION ##########\n",
    "            self.patients_in_beds -= 1\n",
    "            bed_leave_time = self.env.now\n",
    "            self.los_store.append(bed_leave_time - bed_arrival_time)\n",
    "            ##################################\n",
    "            print(f'Patient {patient.id} of type {patient.type} discharged at '\n",
    "                  f'day {round(self.env.now, 2)}')\n",
    "\n",
    "class Patient:\n",
    "    def __init__(self, id, type):\n",
    "        self.id = id\n",
    "        self.type = type\n",
    "\n",
    "def patient_generator(env, ward):\n",
    "    while True:\n",
    "        interarrival_time = np.random.default_rng().\\\n",
    "                            exponential(INTERARRIVAL_TIMES['Stroke'])\n",
    "        yield env.timeout(interarrival_time)\n",
    "        patient_type = np.random.choice(list(INTERARRIVAL_TIMES.keys()))\n",
    "        patient = Patient(ward.patient_count, patient_type)\n",
    "        ward.patient_count += 1\n",
    "        env.process(ward.admit_patient(patient))"
   ]
  },
  {
   "cell_type": "code",
   "execution_count": 5,
   "id": "c5da3bc0-beeb-435b-89f3-65387031e76e",
   "metadata": {},
   "outputs": [
    {
     "name": "stdout",
     "output_type": "stream",
     "text": [
      "Patient 0 of type Complex Neurological admitted at day 0.45\n",
      "Patient 1 of type Other admitted at day 2.92\n",
      "Patient 2 of type Other admitted at day 4.58\n",
      "Patient 3 of type Stroke admitted at day 4.79\n",
      "Patient 4 of type TIA admitted at day 4.96\n",
      "Patient 5 of type Stroke admitted at day 5.79\n",
      "Patient 6 of type TIA admitted at day 6.64\n",
      "Patient 0 of type Complex Neurological discharged at day 7.45\n",
      "Patient 7 of type Complex Neurological admitted at day 8.78\n",
      "Patient 1 of type Other discharged at day 9.92\n",
      "Patient 8 of type Other admitted at day 10.34\n",
      "Patient 9 of type TIA admitted at day 11.04\n",
      "Patient 10 of type Stroke admitted at day 11.08\n",
      "Patient 11 of type Complex Neurological admitted at day 11.19\n",
      "Patient 2 of type Other discharged at day 11.58\n",
      "Patient 3 of type Stroke discharged at day 11.79\n",
      "Patient 12 of type Complex Neurological admitted at day 11.89\n",
      "Patient 4 of type TIA discharged at day 11.96\n",
      "Patient 5 of type Stroke discharged at day 12.79\n",
      "Patient 13 of type Stroke admitted at day 13.33\n",
      "Patient 14 of type TIA admitted at day 13.63\n",
      "Patient 6 of type TIA discharged at day 13.64\n",
      "Patient 15 of type Stroke admitted at day 14.23\n",
      "Patient 16 of type TIA admitted at day 14.65\n",
      "Patient 7 of type Complex Neurological discharged at day 15.78\n",
      "Patient 17 of type Other admitted at day 15.78\n",
      "Patient 8 of type Other discharged at day 17.34\n",
      "Patient 9 of type TIA discharged at day 18.04\n",
      "Patient 10 of type Stroke discharged at day 18.08\n",
      "Patient 11 of type Complex Neurological discharged at day 18.19\n",
      "Patient 18 of type Stroke admitted at day 18.35\n",
      "Patient 12 of type Complex Neurological discharged at day 18.89\n",
      "Patient 19 of type TIA admitted at day 19.4\n",
      "Patient 20 of type Other admitted at day 19.68\n",
      "Patient 13 of type Stroke discharged at day 20.33\n",
      "Patient 14 of type TIA discharged at day 20.63\n",
      "Patient 21 of type TIA admitted at day 20.96\n",
      "Patient 15 of type Stroke discharged at day 21.23\n",
      "Patient 22 of type Stroke admitted at day 21.24\n",
      "Patient 23 of type TIA admitted at day 21.42\n",
      "Patient 24 of type Stroke admitted at day 21.47\n",
      "Patient 16 of type TIA discharged at day 21.65\n",
      "Patient 25 of type Other admitted at day 22.31\n",
      "Patient 17 of type Other discharged at day 22.78\n",
      "Patient 26 of type Stroke admitted at day 23.87\n",
      "Patient 27 of type Stroke admitted at day 23.92\n",
      "Patient 18 of type Stroke discharged at day 25.35\n",
      "Patient 28 of type Other admitted at day 25.35\n",
      "Patient 19 of type TIA discharged at day 26.4\n",
      "Patient 29 of type Stroke admitted at day 26.4\n",
      "Patient 20 of type Other discharged at day 26.68\n",
      "Patient 21 of type TIA discharged at day 27.96\n",
      "Patient 22 of type Stroke discharged at day 28.24\n",
      "Patient 23 of type TIA discharged at day 28.42\n",
      "Patient 24 of type Stroke discharged at day 28.47\n",
      "Patient 30 of type Complex Neurological admitted at day 28.57\n",
      "Patient 31 of type Other admitted at day 29.13\n",
      "Patient 25 of type Other discharged at day 29.31\n",
      "Patient 26 of type Stroke discharged at day 30.87\n",
      "Patient 27 of type Stroke discharged at day 30.92\n",
      "Patient 32 of type Complex Neurological admitted at day 31.77\n",
      "Patient 33 of type Stroke admitted at day 32.26\n",
      "Patient 28 of type Other discharged at day 32.35\n",
      "Patient 34 of type Stroke admitted at day 33.14\n",
      "Patient 29 of type Stroke discharged at day 33.4\n",
      "Patient 30 of type Complex Neurological discharged at day 35.57\n",
      "Patient 31 of type Other discharged at day 36.13\n",
      "Patient 32 of type Complex Neurological discharged at day 38.77\n",
      "Patient 35 of type TIA admitted at day 39.02\n",
      "Patient 33 of type Stroke discharged at day 39.26\n",
      "Patient 36 of type Other admitted at day 39.33\n",
      "Patient 37 of type TIA admitted at day 39.4\n",
      "Patient 34 of type Stroke discharged at day 40.14\n",
      "Patient 38 of type TIA admitted at day 40.17\n",
      "Patient 39 of type Complex Neurological admitted at day 41.14\n",
      "Patient 40 of type Complex Neurological admitted at day 45.8\n",
      "Patient 35 of type TIA discharged at day 46.02\n",
      "Patient 41 of type Complex Neurological admitted at day 46.11\n",
      "Patient 36 of type Other discharged at day 46.33\n",
      "Patient 37 of type TIA discharged at day 46.4\n",
      "Patient 42 of type Stroke admitted at day 47.01\n",
      "Patient 38 of type TIA discharged at day 47.17\n",
      "Patient 43 of type Complex Neurological admitted at day 47.89\n",
      "Patient 39 of type Complex Neurological discharged at day 48.14\n",
      "Patient 44 of type Complex Neurological admitted at day 49.07\n",
      "Patient 40 of type Complex Neurological discharged at day 52.8\n",
      "Patient 41 of type Complex Neurological discharged at day 53.11\n",
      "Patient 42 of type Stroke discharged at day 54.01\n",
      "Patient 45 of type Other admitted at day 54.6\n",
      "Patient 43 of type Complex Neurological discharged at day 54.89\n",
      "Patient 46 of type Other admitted at day 55.18\n",
      "Patient 47 of type TIA admitted at day 55.73\n",
      "Patient 44 of type Complex Neurological discharged at day 56.07\n",
      "Patient 48 of type Complex Neurological admitted at day 56.6\n",
      "Patient 49 of type TIA admitted at day 57.37\n",
      "Patient 50 of type TIA admitted at day 57.46\n"
     ]
    }
   ],
   "source": [
    "# Setup and start the simulation\n",
    "env = simpy.Environment()\n",
    "ward = StrokeWard(env)\n",
    "env.process(patient_generator(env, ward))\n",
    "env.run(until=RUN_LENGTH)"
   ]
  },
  {
   "cell_type": "markdown",
   "id": "05c75f0d-59b5-41a0-ae2d-561bbbb2198b",
   "metadata": {},
   "source": [
    "**Checks**"
   ]
  },
  {
   "cell_type": "code",
   "execution_count": 11,
   "id": "ec5813e7-8014-45d9-9d38-9907d1769da0",
   "metadata": {},
   "outputs": [],
   "source": [
    "class TestCase:\n",
    "    def __init__(self, env, ward):\n",
    "        self.env = env\n",
    "        self.ward = ward\n",
    "        self.env.process(patient_generator(self.env, self.ward))\n",
    "\n",
    "    def test_run_length(self):\n",
    "        '''\n",
    "        Checks that specified run length is implemented correctly.\n",
    "        '''\n",
    "        self.env.run(until=RUN_LENGTH)\n",
    "\n",
    "        if self.env.now > RUN_LENGTH:\n",
    "            print('The simulation has continued for longer than input.')\n",
    "\n",
    "    def test_bed_hold(self):\n",
    "        '''\n",
    "        Checks that patients are holding beds until they leave the model.\n",
    "        '''\n",
    "        self.env.run(until=RUN_LENGTH)\n",
    "\n",
    "        for bed_use in ward.bed_in_use_store:\n",
    "            if bed_use > NUM_BEDS:\n",
    "                print('The number of beds in use exceeded limit.')\n",
    "\n",
    "    def test_length_of_stay(self):\n",
    "        '''\n",
    "        Checks that specified length of stay correctly implemented.\n",
    "        '''\n",
    "        self.env.run(until=RUN_LENGTH)\n",
    "\n",
    "        for los in ward.los_store:\n",
    "            if los > LENGTH_OF_STAY:\n",
    "                print('Patient length of stay exceeded limit.')\n",
    "            elif los < LENGTH_OF_STAY:\n",
    "                print('Patient did not stay for the full duration.')"
   ]
  },
  {
   "cell_type": "code",
   "execution_count": 7,
   "id": "c7bc715e-82b5-4066-8712-ecc09a7c5617",
   "metadata": {},
   "outputs": [
    {
     "name": "stdout",
     "output_type": "stream",
     "text": [
      "Patient 0 of type TIA admitted at day 1.36\n",
      "Patient 1 of type Other admitted at day 2.23\n",
      "Patient 2 of type Other admitted at day 4.81\n",
      "Patient 3 of type TIA admitted at day 5.4\n",
      "Patient 4 of type Other admitted at day 5.77\n",
      "Patient 0 of type TIA discharged at day 8.36\n",
      "Patient 1 of type Other discharged at day 9.23\n"
     ]
    }
   ],
   "source": [
    "# Checks run length\n",
    "NUM_BEDS = 10\n",
    "LENGTH_OF_STAY = 7\n",
    "RUN_LENGTH = 10\n",
    "\n",
    "env = simpy.Environment()\n",
    "ward = StrokeWard(env)\n",
    "\n",
    "test = TestCase(env, ward)\n",
    "test.test_run_length()"
   ]
  },
  {
   "cell_type": "code",
   "execution_count": 8,
   "id": "16b3ccce-63f0-4142-95c3-3d6d078774f5",
   "metadata": {},
   "outputs": [
    {
     "name": "stdout",
     "output_type": "stream",
     "text": [
      "Patient 0 of type Stroke admitted at day 4.73\n",
      "Patient 0 of type Stroke discharged at day 11.73\n",
      "Patient 1 of type Complex Neurological admitted at day 11.73\n",
      "Patient 1 of type Complex Neurological discharged at day 18.73\n",
      "Patient 2 of type Complex Neurological admitted at day 18.73\n",
      "Patient 2 of type Complex Neurological discharged at day 25.73\n",
      "Patient 3 of type Stroke admitted at day 25.73\n",
      "Patient 3 of type Stroke discharged at day 32.73\n",
      "Patient 4 of type TIA admitted at day 32.73\n",
      "Patient 4 of type TIA discharged at day 39.73\n",
      "Patient 5 of type Stroke admitted at day 39.73\n",
      "Patient 5 of type Stroke discharged at day 46.73\n",
      "Patient 6 of type TIA admitted at day 46.73\n",
      "Patient 6 of type TIA discharged at day 53.73\n",
      "Patient 7 of type Complex Neurological admitted at day 53.73\n"
     ]
    }
   ],
   "source": [
    "# Checks that is only ever 1 patient if there is only 1 bed\n",
    "NUM_BEDS = 1\n",
    "LENGTH_OF_STAY = 7\n",
    "RUN_LENGTH = 60\n",
    "\n",
    "env = simpy.Environment()\n",
    "ward = StrokeWard(env)\n",
    "\n",
    "test = TestCase(env, ward)\n",
    "test.test_bed_hold()"
   ]
  },
  {
   "cell_type": "code",
   "execution_count": 9,
   "id": "e5bf879d-7be3-4c06-88bc-7ceb5ee5055f",
   "metadata": {},
   "outputs": [
    {
     "name": "stdout",
     "output_type": "stream",
     "text": [
      "Patient 0 of type Complex Neurological admitted at day 0.59\n",
      "Patient 1 of type Complex Neurological admitted at day 0.83\n",
      "Patient 2 of type Other admitted at day 1.19\n",
      "Patient 3 of type Stroke admitted at day 1.79\n",
      "Patient 4 of type Other admitted at day 3.88\n",
      "Patient 5 of type Stroke admitted at day 4.68\n",
      "Patient 6 of type TIA admitted at day 4.95\n",
      "Patient 7 of type TIA admitted at day 5.12\n",
      "Patient 8 of type Other admitted at day 5.22\n",
      "Patient 9 of type Other admitted at day 8.45\n",
      "Patient 0 of type Complex Neurological discharged at day 50.59\n",
      "Patient 10 of type Complex Neurological admitted at day 50.59\n",
      "Patient 1 of type Complex Neurological discharged at day 50.83\n",
      "Patient 11 of type Stroke admitted at day 50.83\n",
      "Patient 2 of type Other discharged at day 51.19\n",
      "Patient 12 of type Stroke admitted at day 51.19\n",
      "Patient 3 of type Stroke discharged at day 51.79\n",
      "Patient 13 of type Complex Neurological admitted at day 51.79\n",
      "Patient 4 of type Other discharged at day 53.88\n",
      "Patient 14 of type TIA admitted at day 53.88\n",
      "Patient 5 of type Stroke discharged at day 54.68\n",
      "Patient 15 of type Complex Neurological admitted at day 54.68\n",
      "Patient 6 of type TIA discharged at day 54.95\n",
      "Patient 16 of type Stroke admitted at day 54.95\n",
      "Patient 7 of type TIA discharged at day 55.12\n",
      "Patient 17 of type Stroke admitted at day 55.12\n",
      "Patient 8 of type Other discharged at day 55.22\n",
      "Patient 18 of type Complex Neurological admitted at day 55.22\n",
      "Patient 9 of type Other discharged at day 58.45\n",
      "Patient 19 of type Stroke admitted at day 58.45\n"
     ]
    }
   ],
   "source": [
    "# Checks if stay length correctly implemented\n",
    "NUM_BEDS = 10\n",
    "LENGTH_OF_STAY = 50\n",
    "RUN_LENGTH = 60\n",
    "\n",
    "env = simpy.Environment()\n",
    "ward = StrokeWard(env)\n",
    "\n",
    "test = TestCase(env, ward)\n",
    "test.test_length_of_stay()"
   ]
  },
  {
   "cell_type": "markdown",
   "id": "f082abe5-1e46-4292-9594-af56301063da",
   "metadata": {},
   "source": [
    "**Reflection**"
   ]
  },
  {
   "cell_type": "markdown",
   "id": "819b8a25-cb58-4f3c-89b7-5153b637bd2b",
   "metadata": {},
   "source": [
    "The model produced was able to admit patients and assign them a bed. The bed is held until the patient leaves, which was checked by providing only one bed and therefore only one patient could attend at that time. The length of stay could be changed and this impacted on how many patients were admitted as other patients were holding a bed for a longer period of time. \n",
    "\n",
    "It only used the mean interarrival time for Stroke patients (```np.random.default_rng().exponential(INTERARRIVAL_TIMES['Stroke'])```) despite specifying that each patient type has its own arrival time mean. The model does not have the option for reproducibility yet and outputs different results each time the code is run."
   ]
  },
  {
   "cell_type": "code",
   "execution_count": null,
   "id": "99076be5-af2a-40ab-acc1-ff7421a136ea",
   "metadata": {},
   "outputs": [],
   "source": []
  }
 ],
 "metadata": {
  "kernelspec": {
   "display_name": "Python 3 (ipykernel)",
   "language": "python",
   "name": "python3"
  },
  "language_info": {
   "codemirror_mode": {
    "name": "ipython",
    "version": 3
   },
   "file_extension": ".py",
   "mimetype": "text/x-python",
   "name": "python",
   "nbconvert_exporter": "python",
   "pygments_lexer": "ipython3",
   "version": "3.10.13"
  }
 },
 "nbformat": 4,
 "nbformat_minor": 5
}
