{
 "cells": [
  {
   "cell_type": "markdown",
   "id": "54abea8e-75d4-47fe-983a-1be89af6829d",
   "metadata": {},
   "source": [
    "# LLM Iteration 13"
   ]
  },
  {
   "cell_type": "markdown",
   "id": "f99a7681-71a7-4e4a-8d5c-230d4a2e3180",
   "metadata": {},
   "source": [
    "**Aim**"
   ]
  },
  {
   "cell_type": "markdown",
   "id": "0568c52c-d8c4-4e0d-8869-09775e0843eb",
   "metadata": {},
   "source": [
    "To add in the 3 options for patients to leave the ward via, ESD, rehab unit or other."
   ]
  },
  {
   "cell_type": "markdown",
   "id": "be45960e-5a61-4886-8327-93ad903a790a",
   "metadata": {},
   "source": [
    "**Prompt**"
   ]
  },
  {
   "cell_type": "markdown",
   "id": "343bcc15-ea50-4b7f-8019-4bc7b5befec9",
   "metadata": {},
   "source": [
    "Update this model to create three possible routes for patients to take after they leave the stroke ward. This does not impact on the time the patient spends in the stroke ward and the patient must still hold the bed in the stroke ward until their length of stay has elapsed. Patients can either go to early supported discharge (ESD), rehab unit or other. The number of patients that go to each route depends on the patient type as described below:\r\n",
    "Stroke: 13% to ESD, 24%, rehab unit, 63% to other\r\n",
    "Complex NL: 5% to ESD, 11%, rehab unit, 84% to other\r\n",
    "TIA: 1% to ESD, 1%, rehab unit, 98% to other\r\n",
    "Other: 10% to ESD, 5%, rehab unit, 85% to oher\r\n"
   ]
  },
  {
   "cell_type": "markdown",
   "id": "f3e6535a-88e2-46f5-84ba-cb5176529d5e",
   "metadata": {},
   "source": [
    "**Note**"
   ]
  },
  {
   "cell_type": "markdown",
   "id": "73efc428-39c6-4cd9-9571-8746e2c553b0",
   "metadata": {},
   "source": [
    "Modifications have been made to the output from the LLM, indicated by:\n",
    "```python\n",
    "########## MODIFICATION ##########\n",
    "change\n",
    "##################################\n",
    "```\n",
    "This is either used to add in code from previous iterations if only certain sections were updated, used to correct the LLM's code if required, or used to check the model is working as expected."
   ]
  },
  {
   "cell_type": "markdown",
   "id": "9d769d6c-c990-4548-9fc5-324ba39d034a",
   "metadata": {},
   "source": [
    "**LLM Output**"
   ]
  },
  {
   "cell_type": "code",
   "execution_count": 1,
   "id": "a6561498-c2e8-4ba8-86e5-e77bcc6808c6",
   "metadata": {},
   "outputs": [],
   "source": [
    "#### MODIFICATION - code from previous iter ####\n",
    "import simpy\n",
    "import numpy as np\n",
    "import math\n",
    "################################################"
   ]
  },
  {
   "cell_type": "code",
   "execution_count": 2,
   "id": "1d9099ae-c2fc-4358-aef5-50875245b9e9",
   "metadata": {},
   "outputs": [],
   "source": [
    "#### MODIFICATION - code from previous iter ####\n",
    "class Scenario:\n",
    "    def __init__(self):\n",
    "        self.default_interarrival_times = {\n",
    "            \"Stroke\": 1.2,\n",
    "            \"TIA\": 9.3,\n",
    "            \"Complex Neurological\": 3.6,\n",
    "            \"Other\": 3.2\n",
    "        }\n",
    "        self.random_seeds = {\n",
    "            \"Stroke\": 12345,\n",
    "            \"TIA\": 54321,\n",
    "            \"Complex Neurological\": 98765,\n",
    "            \"Other\": 67890\n",
    "        }\n",
    "\n",
    "    def create_distributions(self):\n",
    "        interarrival_distributions = {}\n",
    "        for patient_type, seed in self.random_seeds.items():\n",
    "            interarrival_distributions[patient_type] = \\\n",
    "                np.random.default_rng(seed)\n",
    "        return interarrival_distributions\n",
    "################################################"
   ]
  },
  {
   "cell_type": "markdown",
   "id": "4441affb-c380-4770-b17b-d19e856169ef",
   "metadata": {},
   "source": [
    "To update the model to include three possible routes for patients after leaving the stroke ward (ESD, rehab unit, other) based on the patient type distribution, you can modify the admit_patient method in the StrokeWard class as follows:"
   ]
  },
  {
   "cell_type": "code",
   "execution_count": 17,
   "id": "9718c781-cdb5-41e7-a860-733f8adc0f68",
   "metadata": {},
   "outputs": [],
   "source": [
    "class StrokeWard:\n",
    "    def __init__(self, env, num_beds, scenario):\n",
    "        self.env = env\n",
    "        self.beds = simpy.Resource(env, capacity=num_beds)\n",
    "        self.patient_count = 0\n",
    "        self.wait_times = []\n",
    "        self.length_of_stay = {\n",
    "            \"Stroke\": {\"mean\": 7.4, \"std_dev\": 8.6},\n",
    "            \"TIA\": {\"mean\": 1.8, \"std_dev\": 2.3},\n",
    "            \"Complex Neurological\": {\"mean\": 4.0, \"std_dev\": 5.0},\n",
    "            \"Other\": {\"mean\": 3.8, \"std_dev\": 5.2}\n",
    "        }\n",
    "        self.interarrival_distributions = scenario.create_distributions()\n",
    "        self.route_probabilities = {\n",
    "            \"Stroke\": {\"ESD\": 0.13, \"Rehab Unit\": 0.24, \"Other\": 0.63},\n",
    "            \"TIA\": {\"ESD\": 0.01, \"Rehab Unit\": 0.01, \"Other\": 0.98},\n",
    "            \"Complex Neurological\": {\"ESD\": 0.05, \"Rehab Unit\": 0.11,\n",
    "                                     \"Other\": 0.84},\n",
    "            \"Other\": {\"ESD\": 0.10, \"Rehab Unit\": 0.05, \"Other\": 0.85}\n",
    "        }\n",
    "\n",
    "    def admit_patient(self, patient):\n",
    "        arrival_time = round(self.env.now, 2)\n",
    "        with self.beds.request() as bed:\n",
    "            yield bed\n",
    "            wait_time = max(0, round(self.env.now - arrival_time, 2))\n",
    "            self.wait_times.append(wait_time)\n",
    "            print(f'Patient {patient.id} ({patient.patient_type}) admitted to '\n",
    "                  f'the stroke ward at day {round(self.env.now, 2)}. '\n",
    "                  f'Wait time: {wait_time} days')\n",
    "            mu, sigma = calculate_mu_sigma(self.length_of_stay[patient.\\\n",
    "                                           patient_type][\"mean\"], self.\\\n",
    "                                           length_of_stay[patient.\\\n",
    "                                           patient_type][\"std_dev\"])\n",
    "            los = np.random.default_rng(patient.seed).lognormal(mu, sigma)\n",
    "            # Length of stay based on patient type\n",
    "            yield self.env.timeout(round(los, 2))\n",
    "            print(f'Patient {patient.id} ({patient.patient_type}) discharged '\n",
    "                  f'from the stroke ward at day {round(self.env.now, 2)}')\n",
    "\n",
    "            route_choice = np.random.choice([\"ESD\", \"Rehab Unit\", \"Other\"],\n",
    "                                            p=self.\\\n",
    "                                            route_probabilities[patient.\\\n",
    "                                            patient_type].values())\n",
    "            print(f'Patient {patient.id} ({patient.patient_type}) routed to: '\n",
    "                  f'{route_choice}')\n",
    "\n",
    "    #### MODIFICATION - code from previous iter ####\n",
    "    def patient_arrival(self, patient_type):\n",
    "        while True:\n",
    "            if patient_type in self.interarrival_distributions:\n",
    "                interarrival_time = self.\\\n",
    "                    interarrival_distributions[patient_type].\\\n",
    "                    exponential(scenario.\\\n",
    "                                default_interarrival_times[patient_type])\n",
    "                yield self.env.timeout(interarrival_time)\n",
    "                patient = Patient(self.patient_count, patient_type, \n",
    "                                  self.\\\n",
    "                                      interarrival_distributions[patient_type])\n",
    "                self.patient_count += 1\n",
    "                self.env.process(self.admit_patient(patient))\n",
    "    ################################################\n",
    "\n",
    "class Patient:\n",
    "    def __init__(self, id, patient_type, seed):\n",
    "        self.id = id\n",
    "        self.patient_type = patient_type\n",
    "        self.seed = seed\n",
    "\n",
    "# Rest of the code remains unchanged\n",
    "\n",
    "#### MODIFICATION - code from previous iter ####\n",
    "def calculate_mu_sigma(mean, std_dev):\n",
    "    v = std_dev ** 2\n",
    "    m = mean\n",
    "    phi = math.sqrt(v + m ** 2)\n",
    "    mu = math.log((m ** 2) / phi)\n",
    "    sigma = math.sqrt(math.log((phi ** 2) / (m ** 2)))\n",
    "    return mu, sigma\n",
    "################################################"
   ]
  },
  {
   "cell_type": "code",
   "execution_count": 18,
   "id": "dcf41175-29da-4de8-a64a-30196503bf0f",
   "metadata": {},
   "outputs": [],
   "source": [
    "env = simpy.Environment()\n",
    "scenario = Scenario()\n",
    "#### MODIFICATION - removed num_beds=10 due to error ####\n",
    "# 'positional argument follows keyword argument'\n",
    "############################################################\n",
    "stroke_ward = StrokeWard(env, 10, scenario)\n",
    "\n",
    "for patient_type in scenario.random_seeds.keys():\n",
    "    env.process(stroke_ward.patient_arrival(patient_type))\n",
    "\n",
    "# Set the run length to 2 months (default)\n",
    "run_length_days = round(60 * 2)\n",
    "\n",
    "#print(\"Simulation started...\")\n",
    "#env.run(until=run_length_days)\n",
    "#print(\"Simulation ended.\")\n",
    "\n",
    "# Calculate and print the mean wait time for a bed rounded to two decimal\n",
    "# places\n",
    "#mean_wait_time = round(np.mean(stroke_ward.wait_times), 2)\n",
    "#print(f\"Mean wait time for a bed: {mean_wait_time} days\")"
   ]
  },
  {
   "cell_type": "markdown",
   "id": "41e0fd4d-ad46-4a2b-bf5a-a5d8bcad1535",
   "metadata": {},
   "source": [
    "In this updated code snippet:\n",
    "- The route_probabilities dictionary is introduced in the StrokeWard class to hold the probabilities of patients going to ESD, rehab unit or other after leaving the stroke ward based on their patient type.\n",
    "- After a patient is discharged from the stroke ward based on their length of stay in the ward, a route is chosen for them using numpy's np.random.choice function with probabilities defined by route_probabilities.\n",
    "- The chosen route for each patient is printed out for tracking and analysis purposes.\n",
    "- The rest of the code remains unchanged with the initialization of patients and running of the simulation as before."
   ]
  },
  {
   "cell_type": "markdown",
   "id": "37ba6882-22de-4a78-953c-b5558560ec98",
   "metadata": {},
   "source": [
    "**Reflection**"
   ]
  },
  {
   "cell_type": "markdown",
   "id": "3ce3a2e9-3a53-4c91-809e-c89f3ec8e7e3",
   "metadata": {},
   "source": [
    "The model run produces an error for the new code: \"float() argument must be a string or a real number, not 'dict_values'\" so has been commented out. This is because it outputs dict_values([0.05, 0.11, 0.84]) instead of a single probability."
   ]
  },
  {
   "cell_type": "code",
   "execution_count": null,
   "id": "cc089f5c-6e3c-4f16-bd51-062acae5f112",
   "metadata": {},
   "outputs": [],
   "source": []
  }
 ],
 "metadata": {
  "kernelspec": {
   "display_name": "Python 3 (ipykernel)",
   "language": "python",
   "name": "python3"
  },
  "language_info": {
   "codemirror_mode": {
    "name": "ipython",
    "version": 3
   },
   "file_extension": ".py",
   "mimetype": "text/x-python",
   "name": "python",
   "nbconvert_exporter": "python",
   "pygments_lexer": "ipython3",
   "version": "3.10.13"
  }
 },
 "nbformat": 4,
 "nbformat_minor": 5
}
