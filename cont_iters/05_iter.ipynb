{
 "cells": [
  {
   "cell_type": "markdown",
   "id": "54abea8e-75d4-47fe-983a-1be89af6829d",
   "metadata": {},
   "source": [
    "# LLM Iteration 5"
   ]
  },
  {
   "cell_type": "markdown",
   "id": "f99a7681-71a7-4e4a-8d5c-230d4a2e3180",
   "metadata": {},
   "source": [
    "**Aim**"
   ]
  },
  {
   "cell_type": "markdown",
   "id": "92051723-ae53-4233-960f-707ba1bbfd8e",
   "metadata": {},
   "source": [
    "Change length of stay time depending on patient and round the output of waiting times and admission and discharge."
   ]
  },
  {
   "cell_type": "markdown",
   "id": "be45960e-5a61-4886-8327-93ad903a790a",
   "metadata": {},
   "source": [
    "**Prompt**"
   ]
  },
  {
   "cell_type": "markdown",
   "id": "55e685fb-f1b4-4078-ba8c-5559ccc38dde",
   "metadata": {},
   "source": [
    "Update this model to change the length of stay depending on the patient type. The length of stay distribution and parameters of patients are dependent on the patient type. For each distribution time is measured in days. \n",
    "- Stroke = Lognormal: mean 7.4, standard deviation 8.6\n",
    "- TIA = Lognormal: mean 1.8, standard deviation 2.3\n",
    "- Complex Neurological = Lognormal: mean 4.0, standard deviation 5.0\n",
    "- Other = Lognormal: mean 3.8, standard deviation 5.2\n",
    "\n",
    "The inputs for the lognormal distribution are mu and sigma and should be calculated as follows, where v is the standard deviation squared and m is the mean:\n",
    "- phi = math.sqrt(v + m^2)\n",
    "- mu = math.log(m^2/phi)\n",
    "- sigma = math.sqrt(math.log(phi^2/m^2))\n",
    "\n",
    "Numpy should be used for sampling. Each length of stay distribution should have its own numpy.random.Generator object. Each random number generator should use the random seed specified for each patient type. \n",
    "\n",
    "Round the time at which patients are admitted and discharged and the wait times in the model output."
   ]
  },
  {
   "cell_type": "markdown",
   "id": "85c210c5-1bc5-4937-b92e-cb9e255f34c8",
   "metadata": {},
   "source": [
    "**Note**"
   ]
  },
  {
   "cell_type": "markdown",
   "id": "73efc428-39c6-4cd9-9571-8746e2c553b0",
   "metadata": {},
   "source": [
    "Modifications have been made to the output from the LLM, indicated by:\n",
    "```python\n",
    "########## MODIFICATION ##########\n",
    "change\n",
    "##################################\n",
    "```\n",
    "This is either used to add in code from previous iterations if only certain sections were updated, used to correct the LLM's code if required, or used to check the model is working as expected."
   ]
  },
  {
   "cell_type": "markdown",
   "id": "9d769d6c-c990-4548-9fc5-324ba39d034a",
   "metadata": {},
   "source": [
    "**LLM Output**"
   ]
  },
  {
   "cell_type": "code",
   "execution_count": 1,
   "id": "5f4ad03e-f39d-48fa-b412-41bed6cae187",
   "metadata": {},
   "outputs": [],
   "source": [
    "import simpy\n",
    "import numpy as np\n",
    "import math"
   ]
  },
  {
   "cell_type": "code",
   "execution_count": 2,
   "id": "ab461710-ea8b-4dcb-8cc6-99554dbbab7d",
   "metadata": {},
   "outputs": [],
   "source": [
    "class StrokeWard:\n",
    "    def __init__(self, env, num_beds):\n",
    "        self.env = env\n",
    "        self.beds = simpy.Resource(env, capacity=num_beds)\n",
    "        self.patient_count = 0\n",
    "        self.wait_times = []\n",
    "        self.length_of_stay = {\n",
    "            \"Stroke\": {\"mu\": 7.4, \"sigma\": 8.6},\n",
    "            \"TIA\": {\"mu\": 1.8, \"sigma\": 2.3},\n",
    "            \"Complex Neurological\": {\"mu\": 4.0, \"sigma\": 5.0},\n",
    "            \"Other\": {\"mu\": 3.8, \"sigma\": 5.2}\n",
    "        }\n",
    "\n",
    "        ########## MODIFICATION ##########\n",
    "        self.patients_in_beds = 0\n",
    "        self.bed_in_use_store = []\n",
    "        self.los_store = []\n",
    "        self.patient_type_store = []\n",
    "        ##################################\n",
    "\n",
    "    def admit_patient(self, patient):\n",
    "        arrival_time = round(self.env.now)\n",
    "        with self.beds.request() as bed:\n",
    "            yield bed\n",
    "            ########## MODIFICATION ##########\n",
    "            bed_arrival_time = self.env.now\n",
    "            self.patients_in_beds += 1\n",
    "            self.bed_in_use_store.append(self.patients_in_beds)\n",
    "            self.patient_type_store.append(patient.patient_type)\n",
    "            ##################################\n",
    "\n",
    "            wait_time = round(self.env.now) - arrival_time\n",
    "            self.wait_times.append(wait_time)\n",
    "            print(f'Patient {patient.id} ({patient.patient_type}) admitted to '\n",
    "                  f'the stroke ward at day {round(self.env.now)}. '\n",
    "                  f'Wait time: {wait_time} days')\n",
    "            los = np.random.default_rng(patient.seed).\\\n",
    "                lognormal(self.length_of_stay[patient.patient_type][\"mu\"], \n",
    "                          self.length_of_stay[patient.patient_type][\"sigma\"])\n",
    "            # Length of stay based on patient type\n",
    "            yield self.env.timeout(round(los))\n",
    "            ########## MODIFICATION ##########\n",
    "            self.patients_in_beds -= 1\n",
    "            bed_leave_time = self.env.now\n",
    "            self.los_store.append(bed_leave_time - bed_arrival_time)\n",
    "            ##################################\n",
    "            print(f'Patient {patient.id} ({patient.patient_type}) discharged '\n",
    "                  f'from the stroke ward at day {round(self.env.now)}')\n",
    "\n",
    "class Patient:\n",
    "    def __init__(self, id, patient_type, seed):\n",
    "        self.id = id\n",
    "        self.patient_type = patient_type\n",
    "        self.seed = seed\n",
    "\n",
    "def stroke_arrival(env, stroke_ward, rng):\n",
    "    while True:\n",
    "        interarrival_time = rng.exponential(1.2)\n",
    "        yield env.timeout(interarrival_time)\n",
    "        patient = Patient(stroke_ward.patient_count, \"Stroke\",\n",
    "                          rng.integers(0, np.iinfo(np.int32).max))\n",
    "        stroke_ward.patient_count += 1\n",
    "        env.process(stroke_ward.admit_patient(patient))\n",
    "\n",
    "def tia_arrival(env, stroke_ward, rng):\n",
    "    while True:\n",
    "        interarrival_time = rng.exponential(9.3)\n",
    "        yield env.timeout(interarrival_time)\n",
    "        patient = Patient(stroke_ward.patient_count, \"TIA\",\n",
    "                          rng.integers(0, np.iinfo(np.int32).max))\n",
    "        stroke_ward.patient_count += 1\n",
    "        env.process(stroke_ward.admit_patient(patient))\n",
    "\n",
    "def complex_neurological_arrival(env, stroke_ward, rng):\n",
    "    while True:\n",
    "        interarrival_time = rng.exponential(3.6)\n",
    "        yield env.timeout(interarrival_time)\n",
    "        patient = Patient(stroke_ward.patient_count, \"Complex Neurological\",\n",
    "                          rng.integers(0, np.iinfo(np.int32).max))\n",
    "        stroke_ward.patient_count += 1\n",
    "        env.process(stroke_ward.admit_patient(patient))\n",
    "\n",
    "def other_arrival(env, stroke_ward, rng):\n",
    "    while True:\n",
    "        interarrival_time = rng.exponential(3.2)\n",
    "        yield env.timeout(interarrival_time)\n",
    "        patient = Patient(stroke_ward.patient_count, \"Other\",\n",
    "                          rng.integers(0, np.iinfo(np.int32).max))\n",
    "        stroke_ward.patient_count += 1\n",
    "        env.process(stroke_ward.admit_patient(patient))"
   ]
  },
  {
   "cell_type": "code",
   "execution_count": 3,
   "id": "12846712-c1bf-4539-aadb-1ba0c34cbe60",
   "metadata": {},
   "outputs": [
    {
     "name": "stdout",
     "output_type": "stream",
     "text": [
      "Simulation started...\n",
      "Patient 0 (Complex Neurological) admitted to the stroke ward at day 0. Wait time: 0 days\n",
      "Patient 0 (Complex Neurological) discharged from the stroke ward at day 0\n",
      "Patient 1 (Stroke) admitted to the stroke ward at day 0. Wait time: 0 days\n",
      "Patient 2 (TIA) admitted to the stroke ward at day 2. Wait time: 0 days\n",
      "Patient 3 (Complex Neurological) admitted to the stroke ward at day 4. Wait time: 0 days\n",
      "Patient 4 (Other) admitted to the stroke ward at day 5. Wait time: 0 days\n",
      "Patient 5 (Stroke) admitted to the stroke ward at day 6. Wait time: 0 days\n",
      "Patient 6 (Stroke) admitted to the stroke ward at day 6. Wait time: 0 days\n",
      "Patient 7 (Other) admitted to the stroke ward at day 7. Wait time: 0 days\n",
      "Patient 2 (TIA) discharged from the stroke ward at day 7\n",
      "Patient 8 (Complex Neurological) admitted to the stroke ward at day 8. Wait time: 0 days\n",
      "Patient 9 (Stroke) admitted to the stroke ward at day 8. Wait time: 0 days\n",
      "Patient 10 (Other) admitted to the stroke ward at day 9. Wait time: 0 days\n",
      "Patient 11 (Stroke) admitted to the stroke ward at day 10. Wait time: 0 days\n",
      "Patient 8 (Complex Neurological) discharged from the stroke ward at day 10\n",
      "Patient 12 (TIA) admitted to the stroke ward at day 11. Wait time: 0 days\n",
      "Patient 10 (Other) discharged from the stroke ward at day 11\n",
      "Patient 13 (TIA) admitted to the stroke ward at day 12. Wait time: 0 days\n",
      "Patient 13 (TIA) discharged from the stroke ward at day 13\n",
      "Patient 14 (TIA) admitted to the stroke ward at day 13. Wait time: 1 days\n",
      "Patient 14 (TIA) discharged from the stroke ward at day 13\n",
      "Patient 15 (Stroke) admitted to the stroke ward at day 13. Wait time: 1 days\n",
      "Patient 12 (TIA) discharged from the stroke ward at day 24\n",
      "Patient 16 (Stroke) admitted to the stroke ward at day 24. Wait time: 10 days\n",
      "Patient 16 (Stroke) discharged from the stroke ward at day 27\n",
      "Patient 17 (Other) admitted to the stroke ward at day 27. Wait time: 13 days\n",
      "Patient 17 (Other) discharged from the stroke ward at day 29\n",
      "Patient 18 (Other) admitted to the stroke ward at day 29. Wait time: 14 days\n",
      "Patient 3 (Complex Neurological) discharged from the stroke ward at day 30\n",
      "Patient 19 (Complex Neurological) admitted to the stroke ward at day 30. Wait time: 14 days\n",
      "Patient 18 (Other) discharged from the stroke ward at day 40\n",
      "Patient 20 (Stroke) admitted to the stroke ward at day 40. Wait time: 23 days\n",
      "Patient 7 (Other) discharged from the stroke ward at day 55\n",
      "Patient 21 (Other) admitted to the stroke ward at day 55. Wait time: 37 days\n",
      "Patient 21 (Other) discharged from the stroke ward at day 60\n",
      "Patient 22 (Stroke) admitted to the stroke ward at day 60. Wait time: 41 days\n",
      "Simulation ended.\n",
      "Mean wait time for a bed: 6.695652173913044 days\n"
     ]
    }
   ],
   "source": [
    "env = simpy.Environment()\n",
    "stroke_ward = StrokeWard(env, num_beds=10)\n",
    "\n",
    "# Set random seed for reproducibility for each patient type\n",
    "random_seeds = {\n",
    "    \"Stroke\": 12345,\n",
    "    \"TIA\": 54321,\n",
    "    \"Complex Neurological\": 98765,\n",
    "    \"Other\": 67890\n",
    "}\n",
    "\n",
    "rngs = {patient_type: np.random.default_rng(seed) for patient_type, \\\n",
    "        seed in random_seeds.items()}\n",
    "\n",
    "env.process(stroke_arrival(env, stroke_ward, rngs[\"Stroke\"]))\n",
    "env.process(tia_arrival(env, stroke_ward, rngs[\"TIA\"]))\n",
    "env.process(complex_neurological_arrival(env, stroke_ward,\n",
    "                                         rngs[\"Complex Neurological\"]))\n",
    "env.process(other_arrival(env, stroke_ward, rngs[\"Other\"]))\n",
    "\n",
    "# Set the run length to 2 months (default)\n",
    "run_length_days = 60 * 2\n",
    "\n",
    "print(\"Simulation started...\")\n",
    "env.run(until=run_length_days)\n",
    "print(\"Simulation ended.\")\n",
    "\n",
    "# Calculate and print the mean wait time for a bed\n",
    "mean_wait_time = np.mean(stroke_ward.wait_times)\n",
    "print(f\"Mean wait time for a bed: {mean_wait_time} days\")"
   ]
  },
  {
   "cell_type": "markdown",
   "id": "72702b8e-13a8-447a-991a-3bc574c91d67",
   "metadata": {},
   "source": [
    "This updated Python code now incorporates different lengths of stay for each patient type in the simulation model of a stroke ward in a hospital using SimPy 4. The length of stay is calculated based on a lognormal distribution with specific mean and standard deviation values for each patient type. The model also includes rounding for admission and discharge times as well as wait times in the output."
   ]
  },
  {
   "cell_type": "markdown",
   "id": "33b9a046-9d16-4a67-a3f2-996c6cd0b68d",
   "metadata": {},
   "source": [
    "**Checks**"
   ]
  },
  {
   "cell_type": "code",
   "execution_count": 4,
   "id": "609246d5-5d87-41ca-989d-fdf78476e674",
   "metadata": {},
   "outputs": [],
   "source": [
    "class TestCase:\n",
    "    def __init__(self, env, ward, rngs):\n",
    "        self.env = env\n",
    "        self.ward = ward\n",
    "        env.process(stroke_arrival(env, ward, rngs[\"Stroke\"]))\n",
    "        env.process(tia_arrival(env, ward, rngs[\"TIA\"]))\n",
    "        env.process(complex_neurological_arrival(env, ward,\n",
    "                                                 rngs[\"Complex Neurological\"]))\n",
    "        env.process(other_arrival(env, ward, rngs[\"Other\"]))\n",
    "\n",
    "    def test_run_length(self):\n",
    "        '''\n",
    "        Checks that specified run length is implemented correctly.\n",
    "        '''\n",
    "        self.env.run(until=RUN_LENGTH)\n",
    "\n",
    "        if self.env.now > RUN_LENGTH:\n",
    "            print('The simulation has continued for longer than input.')\n",
    "\n",
    "    def test_bed_hold(self):\n",
    "        '''\n",
    "        Checks that patients are holding beds until they leave the model.\n",
    "        '''\n",
    "        self.env.run(until=RUN_LENGTH)\n",
    "\n",
    "        for bed_use in self.ward.bed_in_use_store:\n",
    "            if bed_use > NUM_BEDS:\n",
    "                print('The number of beds in use exceeded limit.')\n",
    "\n",
    "    def test_length_of_stay(self):\n",
    "        '''\n",
    "        Prints out patients' length of stay to check they are reasonable.\n",
    "        '''\n",
    "        self.env.run(until=RUN_LENGTH)\n",
    "\n",
    "        print('\\nLength of stay:')\n",
    "        for pat_type, los in zip(self.ward.patient_type_store,\n",
    "                                 self.ward.los_store):\n",
    "            print(f'({pat_type}) {los}')"
   ]
  },
  {
   "cell_type": "code",
   "execution_count": 5,
   "id": "86c52caf-18fd-4e63-acd0-39a06b47e01a",
   "metadata": {},
   "outputs": [
    {
     "name": "stdout",
     "output_type": "stream",
     "text": [
      "Patient 0 (Complex Neurological) admitted to the stroke ward at day 0. Wait time: 0 days\n",
      "Patient 0 (Complex Neurological) discharged from the stroke ward at day 0\n",
      "Patient 1 (Stroke) admitted to the stroke ward at day 0. Wait time: 0 days\n",
      "Patient 2 (TIA) admitted to the stroke ward at day 2. Wait time: 0 days\n",
      "Patient 3 (Complex Neurological) admitted to the stroke ward at day 4. Wait time: 0 days\n",
      "Patient 4 (Other) admitted to the stroke ward at day 5. Wait time: 0 days\n",
      "Patient 5 (Stroke) admitted to the stroke ward at day 6. Wait time: 0 days\n",
      "Patient 6 (Stroke) admitted to the stroke ward at day 6. Wait time: 0 days\n",
      "Patient 7 (Other) admitted to the stroke ward at day 7. Wait time: 0 days\n",
      "Patient 2 (TIA) discharged from the stroke ward at day 7\n",
      "Patient 8 (Complex Neurological) admitted to the stroke ward at day 8. Wait time: 0 days\n",
      "Patient 9 (Stroke) admitted to the stroke ward at day 8. Wait time: 0 days\n",
      "Patient 10 (Other) admitted to the stroke ward at day 9. Wait time: 0 days\n",
      "Patient 11 (Stroke) admitted to the stroke ward at day 10. Wait time: 0 days\n",
      "Patient 8 (Complex Neurological) discharged from the stroke ward at day 10\n"
     ]
    }
   ],
   "source": [
    "# Checks run length\n",
    "NUM_BEDS = 10\n",
    "RUN_LENGTH = 10\n",
    "\n",
    "random_seeds = {\n",
    "    \"Stroke\": 12345,\n",
    "    \"TIA\": 54321,\n",
    "    \"Complex Neurological\": 98765,\n",
    "    \"Other\": 67890\n",
    "}\n",
    "\n",
    "rngs = {patient_type: np.random.default_rng(seed) for patient_type, \\\n",
    "        seed in random_seeds.items()}\n",
    "\n",
    "env = simpy.Environment()\n",
    "ward = StrokeWard(env, NUM_BEDS)\n",
    "\n",
    "test = TestCase(env, ward, rngs)\n",
    "test.test_run_length()"
   ]
  },
  {
   "cell_type": "code",
   "execution_count": 6,
   "id": "55ad65b3-bd7c-442b-9650-165b9f285812",
   "metadata": {},
   "outputs": [
    {
     "name": "stdout",
     "output_type": "stream",
     "text": [
      "Patient 0 (Complex Neurological) admitted to the stroke ward at day 0. Wait time: 0 days\n",
      "Patient 0 (Complex Neurological) discharged from the stroke ward at day 0\n",
      "Patient 1 (Stroke) admitted to the stroke ward at day 0. Wait time: 0 days\n"
     ]
    }
   ],
   "source": [
    "# Checks that is only ever 1 patient if there is only 1 bed\n",
    "NUM_BEDS = 1\n",
    "RUN_LENGTH = 60\n",
    "\n",
    "random_seeds = {\n",
    "    \"Stroke\": 12345,\n",
    "    \"TIA\": 54321,\n",
    "    \"Complex Neurological\": 98765,\n",
    "    \"Other\": 67890\n",
    "}\n",
    "\n",
    "rngs = {patient_type: np.random.default_rng(seed) for patient_type, \\\n",
    "        seed in random_seeds.items()}\n",
    "\n",
    "env = simpy.Environment()\n",
    "ward = StrokeWard(env, NUM_BEDS)\n",
    "\n",
    "test = TestCase(env, ward, rngs)\n",
    "test.test_bed_hold()"
   ]
  },
  {
   "cell_type": "code",
   "execution_count": 7,
   "id": "fafafc02-5dce-4043-9f72-69f5d51f03f2",
   "metadata": {},
   "outputs": [
    {
     "name": "stdout",
     "output_type": "stream",
     "text": [
      "Patient 0 (Complex Neurological) admitted to the stroke ward at day 0. Wait time: 0 days\n",
      "Patient 0 (Complex Neurological) discharged from the stroke ward at day 0\n",
      "Patient 1 (Stroke) admitted to the stroke ward at day 0. Wait time: 0 days\n",
      "Patient 2 (TIA) admitted to the stroke ward at day 2. Wait time: 0 days\n",
      "Patient 3 (Complex Neurological) admitted to the stroke ward at day 4. Wait time: 0 days\n",
      "Patient 4 (Other) admitted to the stroke ward at day 5. Wait time: 0 days\n",
      "Patient 5 (Stroke) admitted to the stroke ward at day 6. Wait time: 0 days\n",
      "Patient 6 (Stroke) admitted to the stroke ward at day 6. Wait time: 0 days\n",
      "Patient 7 (Other) admitted to the stroke ward at day 7. Wait time: 0 days\n",
      "Patient 2 (TIA) discharged from the stroke ward at day 7\n",
      "Patient 8 (Complex Neurological) admitted to the stroke ward at day 8. Wait time: 0 days\n",
      "Patient 9 (Stroke) admitted to the stroke ward at day 8. Wait time: 0 days\n",
      "Patient 10 (Other) admitted to the stroke ward at day 9. Wait time: 0 days\n",
      "Patient 11 (Stroke) admitted to the stroke ward at day 10. Wait time: 0 days\n",
      "Patient 8 (Complex Neurological) discharged from the stroke ward at day 10\n",
      "Patient 12 (TIA) admitted to the stroke ward at day 11. Wait time: 0 days\n",
      "Patient 10 (Other) discharged from the stroke ward at day 11\n",
      "Patient 13 (TIA) admitted to the stroke ward at day 12. Wait time: 0 days\n",
      "Patient 13 (TIA) discharged from the stroke ward at day 13\n",
      "Patient 14 (TIA) admitted to the stroke ward at day 13. Wait time: 1 days\n",
      "Patient 14 (TIA) discharged from the stroke ward at day 13\n",
      "Patient 15 (Stroke) admitted to the stroke ward at day 13. Wait time: 1 days\n",
      "Patient 12 (TIA) discharged from the stroke ward at day 24\n",
      "Patient 16 (Stroke) admitted to the stroke ward at day 24. Wait time: 10 days\n",
      "Patient 16 (Stroke) discharged from the stroke ward at day 27\n",
      "Patient 17 (Other) admitted to the stroke ward at day 27. Wait time: 13 days\n",
      "Patient 17 (Other) discharged from the stroke ward at day 29\n",
      "Patient 18 (Other) admitted to the stroke ward at day 29. Wait time: 14 days\n",
      "Patient 3 (Complex Neurological) discharged from the stroke ward at day 30\n",
      "Patient 19 (Complex Neurological) admitted to the stroke ward at day 30. Wait time: 14 days\n",
      "Patient 18 (Other) discharged from the stroke ward at day 40\n",
      "Patient 20 (Stroke) admitted to the stroke ward at day 40. Wait time: 23 days\n",
      "Patient 7 (Other) discharged from the stroke ward at day 55\n",
      "Patient 21 (Other) admitted to the stroke ward at day 55. Wait time: 37 days\n",
      "Patient 21 (Other) discharged from the stroke ward at day 60\n",
      "Patient 22 (Stroke) admitted to the stroke ward at day 60. Wait time: 41 days\n",
      "\n",
      "Length of stay:\n",
      "(Complex Neurological) 0.0\n",
      "(Stroke) 5.0\n",
      "(TIA) 2.0\n",
      "(Complex Neurological) 2.0\n",
      "(Other) 1.0\n",
      "(Stroke) 0.0\n",
      "(Stroke) 13.0\n",
      "(Other) 3.0\n",
      "(Complex Neurological) 2.0\n",
      "(Stroke) 26.0\n",
      "(Other) 11.0\n",
      "(Stroke) 48.0\n",
      "(TIA) 5.0\n"
     ]
    }
   ],
   "source": [
    "# Checks length of stay for patients\n",
    "NUM_BEDS = 10\n",
    "RUN_LENGTH = 60\n",
    "\n",
    "random_seeds = {\n",
    "    \"Stroke\": 12345,\n",
    "    \"TIA\": 54321,\n",
    "    \"Complex Neurological\": 98765,\n",
    "    \"Other\": 67890\n",
    "}\n",
    "\n",
    "rngs = {patient_type: np.random.default_rng(seed) for patient_type, \\\n",
    "        seed in random_seeds.items()}\n",
    "\n",
    "env = simpy.Environment()\n",
    "ward = StrokeWard(env, NUM_BEDS)\n",
    "\n",
    "test = TestCase(env, ward, rngs)\n",
    "test.test_length_of_stay()"
   ]
  },
  {
   "cell_type": "markdown",
   "id": "37ba6882-22de-4a78-953c-b5558560ec98",
   "metadata": {},
   "source": [
    "**Reflection**"
   ]
  },
  {
   "cell_type": "markdown",
   "id": "db0a9ff7-4fa6-4a1c-9095-f71aba2d71ab",
   "metadata": {},
   "source": [
    "The LLM did not implement the lognormal distribution for length of stay correctly, as it assumed that the values passed were the mu and sigma values required, despite the equation being specified in the prompt. This meant the patients' length of stay were not representative of the true distribution and caused a lot of queuing in the model."
   ]
  },
  {
   "cell_type": "code",
   "execution_count": null,
   "id": "62144e4a-ae5d-4c67-98e8-0d77fbf8f6e0",
   "metadata": {},
   "outputs": [],
   "source": []
  }
 ],
 "metadata": {
  "kernelspec": {
   "display_name": "Python 3 (ipykernel)",
   "language": "python",
   "name": "python3"
  },
  "language_info": {
   "codemirror_mode": {
    "name": "ipython",
    "version": 3
   },
   "file_extension": ".py",
   "mimetype": "text/x-python",
   "name": "python",
   "nbconvert_exporter": "python",
   "pygments_lexer": "ipython3",
   "version": "3.10.13"
  }
 },
 "nbformat": 4,
 "nbformat_minor": 5
}
