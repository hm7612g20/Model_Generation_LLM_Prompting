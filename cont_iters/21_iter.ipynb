{
 "cells": [
  {
   "cell_type": "markdown",
   "id": "54abea8e-75d4-47fe-983a-1be89af6829d",
   "metadata": {},
   "source": [
    "# LLM Iteration 21"
   ]
  },
  {
   "cell_type": "markdown",
   "id": "f99a7681-71a7-4e4a-8d5c-230d4a2e3180",
   "metadata": {},
   "source": [
    "**Aim**"
   ]
  },
  {
   "cell_type": "markdown",
   "id": "e7356b89-3587-46bb-a3e3-37b359b22b1a",
   "metadata": {},
   "source": [
    "To only output the summary frame once for each multiple replications run. Also provide a way to control length of model run when initialising model."
   ]
  },
  {
   "cell_type": "markdown",
   "id": "be45960e-5a61-4886-8327-93ad903a790a",
   "metadata": {},
   "source": [
    "**Prompt**"
   ]
  },
  {
   "cell_type": "markdown",
   "id": "e7fc0180-efaf-43ab-aabc-ebd702802da0",
   "metadata": {},
   "source": [
    "Edit this model to only output the summary frame once when the multiple_replications function is run. The results from each run should be concatenated in a pd.DataFrame and row should be labelled based on the replication number. Update the Scenario class to change the run length of the model. Return the updated code blocks."
   ]
  },
  {
   "cell_type": "markdown",
   "id": "91bf33a2-bd68-4ee4-a188-719397e2dda8",
   "metadata": {},
   "source": [
    "**Note**"
   ]
  },
  {
   "cell_type": "markdown",
   "id": "73efc428-39c6-4cd9-9571-8746e2c553b0",
   "metadata": {},
   "source": [
    "Modifications have been made to the output from the LLM, indicated by:\n",
    "```python\n",
    "########## MODIFICATION ##########\n",
    "change\n",
    "##################################\n",
    "```\n",
    "This is either used to add in code from previous iterations if only certain sections were updated, used to correct the LLM's code if required, or used to check the model is working as expected."
   ]
  },
  {
   "cell_type": "markdown",
   "id": "aadba995-9711-44a3-a9fd-0c1c307ac142",
   "metadata": {},
   "source": [
    "**Additional code**"
   ]
  },
  {
   "cell_type": "code",
   "execution_count": 1,
   "id": "b3056cca-a5a1-4b84-a231-20d1a619ac81",
   "metadata": {},
   "outputs": [],
   "source": [
    "def trace(msg):\n",
    "    '''\n",
    "    Utility function for printing simulation.\n",
    "    Set the TRACE constant to FALSE to turn tracing off.\n",
    "    \n",
    "    Params:\n",
    "    -------\n",
    "    msg: str\n",
    "        string to print to screen.\n",
    "    '''\n",
    "    if TRACE:\n",
    "        print(msg)"
   ]
  },
  {
   "cell_type": "markdown",
   "id": "9d769d6c-c990-4548-9fc5-324ba39d034a",
   "metadata": {},
   "source": [
    "**LLM Output**"
   ]
  },
  {
   "cell_type": "markdown",
   "id": "3fa8d16f-3eef-4aa4-88a8-44d630072bfa",
   "metadata": {},
   "source": [
    "To modify the existing model to output the summary frame once after running the multiple_replications function, concatenate the results from each run into a Pandas DataFrame with rows labeled based on the replication number, and update the Scenario class to change the run length of the model, you can use the following revised code:"
   ]
  },
  {
   "cell_type": "code",
   "execution_count": 2,
   "id": "0b40c354-e605-405d-8382-1515fd3dc4b6",
   "metadata": {},
   "outputs": [],
   "source": [
    "import simpy\n",
    "import numpy as np\n",
    "import math\n",
    "import pandas as pd"
   ]
  },
  {
   "cell_type": "code",
   "execution_count": 3,
   "id": "edf979e7-a4c3-48cb-820b-666f183d8ccc",
   "metadata": {},
   "outputs": [],
   "source": [
    "class Scenario:\n",
    "    def __init__(self, num_beds, run_length=60*2):\n",
    "        self.num_beds = num_beds\n",
    "        self.run_length = run_length\n",
    "        self.default_interarrival_times = {\n",
    "            \"Stroke\": 1.2,\n",
    "            \"TIA\": 9.3,\n",
    "            \"Complex Neurological\": 3.6,\n",
    "            \"Other\": 3.2\n",
    "        }\n",
    "        self.random_seeds = {\n",
    "            \"Stroke\": 12345,\n",
    "            \"TIA\": 54321,\n",
    "            \"Complex Neurological\": 98765,\n",
    "            \"Other\": 67890\n",
    "        }\n",
    "\n",
    "    def create_distributions(self, num_runs):\n",
    "        interarrival_distributions = {}\n",
    "        seeds = self.generate_seeds(num_runs)\n",
    "        for patient_type, seed in seeds.items():\n",
    "            interarrival_distributions[patient_type] = np.random.\\\n",
    "                default_rng(seed)\n",
    "        return interarrival_distributions\n",
    "\n",
    "    def generate_seeds(self, num_runs):\n",
    "        seeds = {}\n",
    "        for patient_type, seed in self.random_seeds.items():\n",
    "            seeds[patient_type] = [seed + i for i in range(num_runs)]\n",
    "        return seeds"
   ]
  },
  {
   "cell_type": "code",
   "execution_count": 4,
   "id": "5277daf7-df94-4827-8c3e-cb90bd1c21a1",
   "metadata": {},
   "outputs": [],
   "source": [
    "class StrokeWard:\n",
    "    def __init__(self, scenario):\n",
    "        self.env = simpy.Environment()\n",
    "        self.beds = simpy.Resource(self.env, capacity=scenario.num_beds)\n",
    "        self.patient_count = 0\n",
    "        self.wait_times = []\n",
    "        self.waiting_patients = []\n",
    "        self.length_of_stay = {\n",
    "            \"Stroke\": {\"mean\": 7.4, \"std_dev\": 8.6},\n",
    "            \"TIA\": {\"mean\": 1.8, \"std_dev\": 2.3},\n",
    "            \"Complex Neurological\": {\"mean\": 4.0, \"std_dev\": 5.0},\n",
    "            \"Other\": {\"mean\": 3.8, \"std_dev\": 5.2}\n",
    "        }\n",
    "        \n",
    "        self.interarrival_distributions = scenario.\\\n",
    "            create_distributions(num_runs=1)\n",
    "        \n",
    "        self.route_probabilities = {\n",
    "            \"Stroke\": {\"ESD\": 0.13, \"Rehab Unit\": 0.24, \"Other\": 0.63},\n",
    "            \"TIA\": {\"ESD\": 0.01, \"Rehab Unit\": 0.01, \"Other\": 0.98},\n",
    "            \"Complex Neurological\": {\"ESD\": 0.05, \"Rehab Unit\": 0.11,\n",
    "                                     \"Other\": 0.84},\n",
    "            \"Other\": {\"ESD\": 0.10, \"Rehab Unit\": 0.05, \"Other\": 0.85}\n",
    "        }\n",
    "\n",
    "    # Remaining methods remain unchanged\n",
    "\n",
    "        ########## MODIFICATION ##########\n",
    "        self.patients_in_beds = 0\n",
    "        self.bed_in_use_store = []\n",
    "        self.los_store = []\n",
    "        self.patient_type_store = []\n",
    "        ##################################\n",
    "\n",
    "    #### MODIFICATION - code from previous iter ####\n",
    "    def admit_patient(self, patient):\n",
    "        arrival_time = round(self.env.now, 2)\n",
    "        with self.beds.request() as bed:\n",
    "            yield bed\n",
    "            ########## MODIFICATION ##########\n",
    "            bed_arrival_time = self.env.now\n",
    "            self.patients_in_beds += 1\n",
    "            self.bed_in_use_store.append(self.patients_in_beds)\n",
    "            self.patient_type_store.append(patient.patient_type)\n",
    "            ##################################\n",
    "\n",
    "            wait_time = max(0, round(self.env.now - arrival_time, 2))\n",
    "            self.wait_times.append(wait_time)\n",
    "            self.waiting_patients.append(len(self.beds.queue))\n",
    "\n",
    "            trace(f'Patient {patient.id} ({patient.patient_type}) admitted '\n",
    "                  f'to the stroke ward at day {round(self.env.now, 2)}. '\n",
    "                  f'Wait time: {wait_time} days')\n",
    "            mu, sigma = calculate_mu_sigma(self.length_of_stay[patient.\\\n",
    "                                           patient_type][\"mean\"],\n",
    "                                           self.length_of_stay[patient.\\\n",
    "                                           patient_type][\"std_dev\"])\n",
    "            los = np.random.default_rng(patient.seed).lognormal(mu, sigma)\n",
    "            yield self.env.timeout(round(los, 2))\n",
    "            ########## MODIFICATION ##########\n",
    "            self.patients_in_beds -= 1\n",
    "            bed_leave_time = self.env.now\n",
    "            self.los_store.append(round(bed_leave_time - bed_arrival_time, 2))\n",
    "            ##################################\n",
    "\n",
    "            trace(f'Patient {patient.id} ({patient.patient_type}) discharged '\n",
    "                  f'from the stroke ward at day {round(self.env.now, 2)}')\n",
    "\n",
    "            route_probabilities = list(self.route_probabilities[patient.\\\n",
    "                                       patient_type].values())\n",
    "            route_names = list(self.route_probabilities[patient.\\\n",
    "                               patient_type].keys())\n",
    "            \n",
    "            rng = np.random.default_rng(patient.seed)\n",
    "            route_choice = rng.choice(route_names, p=route_probabilities)\n",
    "            \n",
    "            trace(f'Patient {patient.id} ({patient.patient_type}) routed to: '\n",
    "                  f'{route_choice}')\n",
    "\n",
    "    def patient_arrival(self, patient_type):\n",
    "        while True:\n",
    "            if patient_type in self.interarrival_distributions:\n",
    "                interarrival_time = self.\\\n",
    "                    interarrival_distributions[patient_type].\\\n",
    "                    exponential(scenario.\\\n",
    "                                default_interarrival_times[patient_type])\n",
    "                yield self.env.timeout(interarrival_time)\n",
    "                patient = Patient(self.patient_count, patient_type,\n",
    "                                  self.\\\n",
    "                                  interarrival_distributions[patient_type])\n",
    "                self.patient_count += 1\n",
    "                self.env.process(self.admit_patient(patient))\n",
    "\n",
    "    def summary(self):\n",
    "        mean_wait_time = round(np.mean(self.wait_times), 2)\n",
    "        mean_waiting_patients = round(np.mean(self.waiting_patients), 2)\n",
    "        \n",
    "        summary_data = {\n",
    "            'Mean Wait Time': [mean_wait_time],\n",
    "            'Mean Waiting Patients': [mean_waiting_patients]\n",
    "        }\n",
    "        \n",
    "        summary_df = pd.DataFrame(summary_data)\n",
    "\n",
    "        #### MODIFICATION - required to make new change work ####\n",
    "        # print(\"Summary:\")\n",
    "        # print(summary_df)\n",
    "\n",
    "        return summary_df\n",
    "    ################################################"
   ]
  },
  {
   "cell_type": "code",
   "execution_count": 5,
   "id": "71fcf67d-8848-4434-a7be-958c49dc93e4",
   "metadata": {},
   "outputs": [],
   "source": [
    "#### MODIFICATION - code from previous iter ####\n",
    "class Patient:\n",
    "    def __init__(self, id, patient_type, seed):\n",
    "        self.id = id\n",
    "        self.patient_type = patient_type\n",
    "        self.seed = seed\n",
    "\n",
    "def calculate_mu_sigma(mean, std_dev):\n",
    "    v = std_dev ** 2\n",
    "    m = mean\n",
    "    phi = math.sqrt(v + m ** 2)\n",
    "    mu = math.log((m ** 2) / phi)\n",
    "    sigma = math.sqrt(math.log((phi ** 2) / (m ** 2)))\n",
    "    return mu, sigma\n",
    "################################################"
   ]
  },
  {
   "cell_type": "code",
   "execution_count": 6,
   "id": "73fd162d-8555-427f-b2f2-6a9fd34c50d0",
   "metadata": {},
   "outputs": [],
   "source": [
    "def single_run(scenario):\n",
    "    stroke_ward = StrokeWard(scenario)\n",
    "\n",
    "    PATIENTS = [\"Stroke\", \"TIA\", \"Complex Neurological\", \"Other\"]\n",
    "    for patient_type in PATIENTS:\n",
    "        stroke_ward.env.process(stroke_ward.patient_arrival(patient_type))\n",
    "\n",
    "    trace(\"Simulation started...\")\n",
    "    stroke_ward.env.run(until=scenario.run_length)\n",
    "    trace(\"Simulation ended.\")\n",
    "\n",
    "    return stroke_ward\n",
    "\n",
    "def multiple_replications(scenario, num_runs):\n",
    "    results = []\n",
    "    for i in range(num_runs):\n",
    "        scenario_with_seeds = Scenario(scenario.num_beds)\n",
    "        scenario_with_seeds.random_seeds = {k: v[i] for k, v in scenario.\\\n",
    "                                            generate_seeds(num_runs).items()}\n",
    "        \n",
    "        stroke_ward = single_run(scenario_with_seeds)\n",
    "        result_summary = stroke_ward.summary()\n",
    "        results.append(result_summary)\n",
    "\n",
    "    # Concatenate results into a DataFrame with replication numbers as row \n",
    "    # labels\n",
    "    df_results = pd.concat(results, keys=[f'Replication {i+1}' for i in \\\n",
    "                                          range(num_runs)])\n",
    "\n",
    "    return df_results"
   ]
  },
  {
   "cell_type": "code",
   "execution_count": 7,
   "id": "429cd44c-8317-4667-a460-68944cf2b522",
   "metadata": {},
   "outputs": [
    {
     "name": "stdout",
     "output_type": "stream",
     "text": [
      "                 Mean Wait Time  Mean Waiting Patients\n",
      "Replication 1 0            1.44                   2.10\n",
      "Replication 2 0            1.74                   2.92\n",
      "Replication 3 0            2.04                   2.57\n",
      "Replication 4 0            1.71                   2.50\n",
      "Replication 5 0            0.81                   1.01\n"
     ]
    }
   ],
   "source": [
    "TRACE = False\n",
    "\n",
    "# Example usage:\n",
    "scenario = Scenario(num_beds=10)\n",
    "\n",
    "# Run multiple replications with varying random seeds and get concatenated results\n",
    "num_replications = 5\n",
    "final_results = multiple_replications(scenario, num_replications)\n",
    "\n",
    "print(final_results)"
   ]
  },
  {
   "cell_type": "markdown",
   "id": "014b0579-605b-4b6a-8f30-5fd25f0317a6",
   "metadata": {},
   "source": [
    "In this updated code:\n",
    "- The single_run function now returns the summary frame.\n",
    "- The multiple_replications function collects the results from each run and concatenates them into a Pandas DataFrame with replication numbers as row labels.\n",
    "- The Scenario class has been updated to include a run_length parameter that determines the duration of each simulation run.\n",
    "- The final concatenated results are printed at the end of running multiple replications.\n",
    "\n",
    "This modification ensures that the summary frame is output once after all replications are completed and provides a structured DataFrame with labeled rows based on replication numbers for easy analysis of results."
   ]
  },
  {
   "cell_type": "markdown",
   "id": "33b9a046-9d16-4a67-a3f2-996c6cd0b68d",
   "metadata": {},
   "source": [
    "**Checks**"
   ]
  },
  {
   "cell_type": "code",
   "execution_count": 8,
   "id": "609246d5-5d87-41ca-989d-fdf78476e674",
   "metadata": {},
   "outputs": [],
   "source": [
    "class TestCase:\n",
    "    def __init__(self, scenario):\n",
    "        self.scenario = scenario\n",
    "\n",
    "    def test_run_length(self):\n",
    "        '''\n",
    "        Checks that specified run length is implemented correctly.\n",
    "        '''\n",
    "        ward = single_run(self.scenario)\n",
    "\n",
    "        if ward.env.now > self.scenario.run_length:\n",
    "            print('The simulation has continued for longer than input.')\n",
    "\n",
    "    def test_bed_hold(self):\n",
    "        '''\n",
    "        Checks that patients are holding beds until they leave the model.\n",
    "        '''\n",
    "        ward = single_run(self.scenario)\n",
    "\n",
    "        for bed_use in ward.bed_in_use_store:\n",
    "            if bed_use > self.scenario.num_beds:\n",
    "                print('The number of beds in use exceeded limit.')\n",
    "\n",
    "    def test_length_of_stay(self):\n",
    "        '''\n",
    "        Checks that specified length of stay correctly implemented.\n",
    "        '''\n",
    "        ward = single_run(self.scenario)\n",
    "\n",
    "        print('\\nLength of stay:')\n",
    "        for pat_type, los in zip(ward.patient_type_store, ward.los_store):\n",
    "            print(f'({pat_type}) {los}')"
   ]
  },
  {
   "cell_type": "code",
   "execution_count": 9,
   "id": "079170a8-a2e0-4162-8cac-accfb03171b0",
   "metadata": {},
   "outputs": [
    {
     "name": "stdout",
     "output_type": "stream",
     "text": [
      "Simulation started...\n",
      "Patient 0 (Complex Neurological) admitted to the stroke ward at day 0.09. Wait time: 0 days\n",
      "Patient 1 (Stroke) admitted to the stroke ward at day 0.22. Wait time: 0 days\n",
      "Patient 0 (Complex Neurological) discharged from the stroke ward at day 0.49\n",
      "Patient 0 (Complex Neurological) routed to: Other\n",
      "Patient 2 (Stroke) admitted to the stroke ward at day 0.99. Wait time: 0 days\n",
      "Patient 3 (Stroke) admitted to the stroke ward at day 1.5. Wait time: 0 days\n",
      "Patient 4 (TIA) admitted to the stroke ward at day 2.02. Wait time: 0 days\n",
      "Patient 1 (Stroke) discharged from the stroke ward at day 2.38\n",
      "Patient 1 (Stroke) routed to: Rehab Unit\n",
      "Patient 3 (Stroke) discharged from the stroke ward at day 2.86\n",
      "Patient 3 (Stroke) routed to: Other\n",
      "Patient 5 (Stroke) admitted to the stroke ward at day 3.08. Wait time: 0 days\n",
      "Patient 6 (Stroke) admitted to the stroke ward at day 4.96. Wait time: 0 days\n",
      "Patient 7 (Other) admitted to the stroke ward at day 5.03. Wait time: 0 days\n",
      "Patient 8 (Complex Neurological) admitted to the stroke ward at day 5.28. Wait time: 0 days\n",
      "Patient 9 (Other) admitted to the stroke ward at day 5.46. Wait time: 0 days\n",
      "Patient 2 (Stroke) discharged from the stroke ward at day 5.49\n",
      "Patient 2 (Stroke) routed to: ESD\n",
      "Patient 8 (Complex Neurological) discharged from the stroke ward at day 6.01\n",
      "Patient 8 (Complex Neurological) routed to: Other\n",
      "Patient 10 (Complex Neurological) admitted to the stroke ward at day 6.09. Wait time: 0 days\n",
      "Patient 4 (TIA) discharged from the stroke ward at day 6.27\n",
      "Patient 4 (TIA) routed to: Other\n",
      "Patient 9 (Other) discharged from the stroke ward at day 6.64\n",
      "Patient 9 (Other) routed to: Other\n",
      "Patient 11 (Complex Neurological) admitted to the stroke ward at day 6.72. Wait time: 0 days\n",
      "Patient 12 (Other) admitted to the stroke ward at day 7.25. Wait time: 0 days\n",
      "Patient 10 (Complex Neurological) discharged from the stroke ward at day 7.32\n",
      "Patient 10 (Complex Neurological) routed to: Other\n",
      "Patient 6 (Stroke) discharged from the stroke ward at day 7.35\n",
      "Patient 6 (Stroke) routed to: Other\n",
      "Patient 11 (Complex Neurological) discharged from the stroke ward at day 8.27\n",
      "Patient 11 (Complex Neurological) routed to: Other\n",
      "Patient 7 (Other) discharged from the stroke ward at day 8.49\n",
      "Patient 7 (Other) routed to: Other\n",
      "Patient 13 (Stroke) admitted to the stroke ward at day 8.5. Wait time: 0 days\n",
      "Patient 14 (Other) admitted to the stroke ward at day 8.57. Wait time: 0 days\n",
      "Patient 15 (Stroke) admitted to the stroke ward at day 9.15. Wait time: 0 days\n",
      "Patient 14 (Other) discharged from the stroke ward at day 9.75\n",
      "Patient 14 (Other) routed to: Rehab Unit\n",
      "Simulation ended.\n"
     ]
    }
   ],
   "source": [
    "TRACE = True\n",
    "scenario = Scenario(num_beds=10, run_length=10)\n",
    "\n",
    "test = TestCase(scenario)\n",
    "test.test_run_length()"
   ]
  },
  {
   "cell_type": "code",
   "execution_count": 10,
   "id": "a1c35572-4031-4df7-a538-037fd27d320b",
   "metadata": {},
   "outputs": [
    {
     "name": "stdout",
     "output_type": "stream",
     "text": [
      "Simulation started...\n",
      "Patient 0 (Complex Neurological) admitted to the stroke ward at day 0.09. Wait time: 0 days\n",
      "Patient 0 (Complex Neurological) discharged from the stroke ward at day 0.49\n",
      "Patient 0 (Complex Neurological) routed to: Other\n",
      "Patient 1 (Stroke) admitted to the stroke ward at day 0.49. Wait time: 0.27 days\n",
      "Patient 1 (Stroke) discharged from the stroke ward at day 2.65\n",
      "Patient 1 (Stroke) routed to: Other\n",
      "Patient 2 (Stroke) admitted to the stroke ward at day 2.65. Wait time: 1.66 days\n",
      "Simulation ended.\n"
     ]
    }
   ],
   "source": [
    "TRACE = True\n",
    "scenario = Scenario(num_beds=1, run_length=10)\n",
    "\n",
    "test = TestCase(scenario)\n",
    "test.test_bed_hold()"
   ]
  },
  {
   "cell_type": "code",
   "execution_count": 11,
   "id": "3fa3507c-8de4-4547-90e4-7d04d07a1f82",
   "metadata": {},
   "outputs": [
    {
     "name": "stdout",
     "output_type": "stream",
     "text": [
      "Simulation started...\n",
      "Patient 0 (Complex Neurological) admitted to the stroke ward at day 0.09. Wait time: 0 days\n",
      "Patient 1 (Stroke) admitted to the stroke ward at day 0.22. Wait time: 0 days\n",
      "Patient 0 (Complex Neurological) discharged from the stroke ward at day 0.49\n",
      "Patient 0 (Complex Neurological) routed to: Other\n",
      "Patient 2 (Stroke) admitted to the stroke ward at day 0.99. Wait time: 0 days\n",
      "Patient 3 (Stroke) admitted to the stroke ward at day 1.5. Wait time: 0 days\n",
      "Patient 4 (TIA) admitted to the stroke ward at day 2.02. Wait time: 0 days\n",
      "Patient 1 (Stroke) discharged from the stroke ward at day 2.38\n",
      "Patient 1 (Stroke) routed to: Rehab Unit\n",
      "Patient 3 (Stroke) discharged from the stroke ward at day 2.86\n",
      "Patient 3 (Stroke) routed to: Other\n",
      "Patient 5 (Stroke) admitted to the stroke ward at day 3.08. Wait time: 0 days\n",
      "Patient 6 (Stroke) admitted to the stroke ward at day 4.96. Wait time: 0 days\n",
      "Patient 7 (Other) admitted to the stroke ward at day 5.03. Wait time: 0 days\n",
      "Patient 8 (Complex Neurological) admitted to the stroke ward at day 5.28. Wait time: 0 days\n",
      "Patient 9 (Other) admitted to the stroke ward at day 5.46. Wait time: 0 days\n",
      "Patient 2 (Stroke) discharged from the stroke ward at day 5.49\n",
      "Patient 2 (Stroke) routed to: ESD\n",
      "Patient 8 (Complex Neurological) discharged from the stroke ward at day 6.01\n",
      "Patient 8 (Complex Neurological) routed to: Other\n",
      "Patient 10 (Complex Neurological) admitted to the stroke ward at day 6.09. Wait time: 0 days\n",
      "Patient 4 (TIA) discharged from the stroke ward at day 6.27\n",
      "Patient 4 (TIA) routed to: Other\n",
      "Patient 9 (Other) discharged from the stroke ward at day 6.64\n",
      "Patient 9 (Other) routed to: Other\n",
      "Patient 11 (Complex Neurological) admitted to the stroke ward at day 6.72. Wait time: 0 days\n",
      "Patient 12 (Other) admitted to the stroke ward at day 7.25. Wait time: 0 days\n",
      "Patient 10 (Complex Neurological) discharged from the stroke ward at day 7.32\n",
      "Patient 10 (Complex Neurological) routed to: Other\n",
      "Patient 6 (Stroke) discharged from the stroke ward at day 7.35\n",
      "Patient 6 (Stroke) routed to: Other\n",
      "Patient 11 (Complex Neurological) discharged from the stroke ward at day 8.27\n",
      "Patient 11 (Complex Neurological) routed to: Other\n",
      "Patient 7 (Other) discharged from the stroke ward at day 8.49\n",
      "Patient 7 (Other) routed to: Other\n",
      "Patient 13 (Stroke) admitted to the stroke ward at day 8.5. Wait time: 0 days\n",
      "Patient 14 (Other) admitted to the stroke ward at day 8.57. Wait time: 0 days\n",
      "Patient 15 (Stroke) admitted to the stroke ward at day 9.15. Wait time: 0 days\n",
      "Patient 14 (Other) discharged from the stroke ward at day 9.75\n",
      "Patient 14 (Other) routed to: Rehab Unit\n",
      "Simulation ended.\n",
      "\n",
      "Length of stay:\n",
      "(Complex Neurological) 0.4\n",
      "(Stroke) 2.16\n",
      "(Stroke) 1.36\n",
      "(Stroke) 4.5\n",
      "(TIA) 0.73\n",
      "(Stroke) 4.25\n",
      "(Stroke) 1.18\n",
      "(Other) 1.23\n",
      "(Complex Neurological) 2.39\n",
      "(Other) 1.55\n",
      "(Complex Neurological) 3.46\n",
      "(Complex Neurological) 1.18\n"
     ]
    }
   ],
   "source": [
    "TRACE = True\n",
    "scenario = Scenario(num_beds=10, run_length=10)\n",
    "\n",
    "test = TestCase(scenario)\n",
    "test.test_length_of_stay()"
   ]
  },
  {
   "cell_type": "code",
   "execution_count": 12,
   "id": "d2eb91fb-f832-497a-b061-361b3446d0d5",
   "metadata": {},
   "outputs": [
    {
     "data": {
      "text/html": [
       "<div>\n",
       "<style scoped>\n",
       "    .dataframe tbody tr th:only-of-type {\n",
       "        vertical-align: middle;\n",
       "    }\n",
       "\n",
       "    .dataframe tbody tr th {\n",
       "        vertical-align: top;\n",
       "    }\n",
       "\n",
       "    .dataframe thead th {\n",
       "        text-align: right;\n",
       "    }\n",
       "</style>\n",
       "<table border=\"1\" class=\"dataframe\">\n",
       "  <thead>\n",
       "    <tr style=\"text-align: right;\">\n",
       "      <th></th>\n",
       "      <th></th>\n",
       "      <th>Mean Wait Time</th>\n",
       "      <th>Mean Waiting Patients</th>\n",
       "    </tr>\n",
       "  </thead>\n",
       "  <tbody>\n",
       "    <tr>\n",
       "      <th>Replication 1</th>\n",
       "      <th>0</th>\n",
       "      <td>50.45</td>\n",
       "      <td>81.00</td>\n",
       "    </tr>\n",
       "    <tr>\n",
       "      <th>Replication 2</th>\n",
       "      <th>0</th>\n",
       "      <td>57.84</td>\n",
       "      <td>91.23</td>\n",
       "    </tr>\n",
       "    <tr>\n",
       "      <th>Replication 3</th>\n",
       "      <th>0</th>\n",
       "      <td>41.60</td>\n",
       "      <td>66.87</td>\n",
       "    </tr>\n",
       "    <tr>\n",
       "      <th>Replication 4</th>\n",
       "      <th>0</th>\n",
       "      <td>39.28</td>\n",
       "      <td>59.74</td>\n",
       "    </tr>\n",
       "    <tr>\n",
       "      <th>Replication 5</th>\n",
       "      <th>0</th>\n",
       "      <td>63.48</td>\n",
       "      <td>98.26</td>\n",
       "    </tr>\n",
       "  </tbody>\n",
       "</table>\n",
       "</div>"
      ],
      "text/plain": [
       "                 Mean Wait Time  Mean Waiting Patients\n",
       "Replication 1 0           50.45                  81.00\n",
       "Replication 2 0           57.84                  91.23\n",
       "Replication 3 0           41.60                  66.87\n",
       "Replication 4 0           39.28                  59.74\n",
       "Replication 5 0           63.48                  98.26"
      ]
     },
     "execution_count": 12,
     "metadata": {},
     "output_type": "execute_result"
    }
   ],
   "source": [
    "# Checking the multiple replication results if number of beds changed\n",
    "TRACE = False\n",
    "\n",
    "scenario = Scenario(num_beds=1)\n",
    "results = multiple_replications(scenario, num_runs=5)\n",
    "\n",
    "results"
   ]
  },
  {
   "cell_type": "markdown",
   "id": "37ba6882-22de-4a78-953c-b5558560ec98",
   "metadata": {},
   "source": [
    "**Reflection**"
   ]
  },
  {
   "cell_type": "markdown",
   "id": "dc27d026-cb10-4c49-be89-4c12cdbfa983",
   "metadata": {},
   "source": [
    "The LLM now ouputs only one summary frame at the end of multiple runs. However, some modification was required to the summary function in the Stroke Ward class so the results dataframe is returned instead of printed, despite the LLM saying the remaining methods are unchanged. The run length can now be set when the Scenario class is initialised, which changes how long the model runs for."
   ]
  },
  {
   "cell_type": "code",
   "execution_count": null,
   "id": "d01955ef-606a-4a73-8013-6fb11612baea",
   "metadata": {},
   "outputs": [],
   "source": []
  }
 ],
 "metadata": {
  "kernelspec": {
   "display_name": "Python 3 (ipykernel)",
   "language": "python",
   "name": "python3"
  },
  "language_info": {
   "codemirror_mode": {
    "name": "ipython",
    "version": 3
   },
   "file_extension": ".py",
   "mimetype": "text/x-python",
   "name": "python",
   "nbconvert_exporter": "python",
   "pygments_lexer": "ipython3",
   "version": "3.10.13"
  }
 },
 "nbformat": 4,
 "nbformat_minor": 5
}
