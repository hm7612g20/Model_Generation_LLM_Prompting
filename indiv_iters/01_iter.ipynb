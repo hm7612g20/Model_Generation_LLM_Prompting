{
 "cells": [
  {
   "cell_type": "markdown",
   "id": "993df278-01e5-4eca-96e5-269a0673a593",
   "metadata": {},
   "source": [
    "# LLM Iteration 1"
   ]
  },
  {
   "cell_type": "markdown",
   "id": "708f7fb3-ff39-4c0c-8adc-97195ba449dc",
   "metadata": {},
   "source": [
    "**Aim**"
   ]
  },
  {
   "cell_type": "markdown",
   "id": "76bf39fc-694e-4606-930e-59f20459329b",
   "metadata": {},
   "source": [
    "Produce a simple initial model that generates patient arrivals for the four different patient types Stroke, TIA, Complex Neurological or Other. These will be given a unique identifier and then leave the model. "
   ]
  },
  {
   "cell_type": "markdown",
   "id": "333d36c6-a037-4484-ae1f-4e5ab3ae1f5f",
   "metadata": {},
   "source": [
    "**Prompt**"
   ]
  },
  {
   "cell_type": "markdown",
   "id": "1713dada-43b3-49af-8ff3-0e6e3889d9e0",
   "metadata": {},
   "source": [
    "Code a discrete-event simulation model of a stroke ward in a hospital in python 3.10 and simpy 4.\n",
    "Please code the full model specified. Do not return a simplified version. Show all code. \n",
    "\n",
    "All time units in the model are in days.\n",
    "Each patient in the model has a unique identifier. The first patient to arrive has an identifier of 0. For each subsequent patient increment the identifier by 1.\n",
    "\n",
    "Patients to arrive in a stroke ward that admits four different patient types: Stroke, TIA, Complex Neurological or Other. Each patient type had a different interarrival time distribution. After patients arrive, they immediately leave the model. The model has no capacity limits so daily occupancy is Poisson distributed. \n",
    "\n",
    "All patient types must have their own generator function. \n",
    "\n",
    "The model should print out useful information after each event. \n",
    "The model should include a user settable run length. This defaults to 2 months. \n",
    "\n",
    "The interarrival time distribution and parameters of patients are dependent on the patient type. This describes the average time between required admissions. For each distribution time is measured in days. \n",
    "Stroke = Exponential: 1.2\n",
    "TIA = Exponential: 9.3\n",
    "Complex Neurological = Exponential: 3.6\n",
    "Other = Exponential: 3.2\n",
    "\n",
    "Numpy should be used for sampling. Each interarrival distribution should have its own numpy.random.Generator object. \n",
    "\n",
    "Provide sources."
   ]
  },
  {
   "cell_type": "markdown",
   "id": "f54e204f-a998-4c3c-952b-11e158c9aac2",
   "metadata": {},
   "source": [
    "**LLM Output**"
   ]
  },
  {
   "cell_type": "markdown",
   "id": "f6f6d709-30b9-4557-bc43-ce8b29f904b6",
   "metadata": {},
   "source": [
    "Sources:\n",
    "1. SimPy Documentation: https://simpy.readthedocs.io/en/latest/\n",
    "2. NumPy Documentation: https://numpy.org/doc/stable/"
   ]
  },
  {
   "cell_type": "code",
   "execution_count": 3,
   "id": "28dfab2a-cafe-4a75-8f10-b8511dc5fd8d",
   "metadata": {},
   "outputs": [],
   "source": [
    "import simpy\n",
    "import numpy as np"
   ]
  },
  {
   "cell_type": "code",
   "execution_count": 4,
   "id": "33d924e7-0014-4db3-a5a9-ea9dafe834d8",
   "metadata": {},
   "outputs": [],
   "source": [
    "class StrokeWard:\n",
    "    def __init__(self, env, num_beds):\n",
    "        self.env = env\n",
    "        self.num_beds = num_beds\n",
    "        self.patients = {}\n",
    "        self.patient_id = 0\n",
    "        self.interarrival_times = {\n",
    "            'Stroke': 1.2,\n",
    "            'TIA': 9.3,\n",
    "            'Complex Neurological': 3.6,\n",
    "            'Other': 3.2\n",
    "        }\n",
    "        self.generators = {patient_type: np.random.default_rng() for \\\n",
    "                           patient_type in self.interarrival_times}\n",
    "\n",
    "    def patient_generator(self, patient_type):\n",
    "        while True:\n",
    "            interarrival_time = self.generators[patient_type].\\\n",
    "                                exponential(self.\\\n",
    "                                            interarrival_times[patient_type])\n",
    "            yield self.env.timeout(interarrival_time)\n",
    "            self.patient_id += 1\n",
    "            print(f'Patient {self.patient_id} of type {patient_type} arrives '\n",
    "                  f'at day {round(self.env.now, 2)}')\n",
    "\n",
    "    def run_simulation(self, run_length=60):\n",
    "        for patient_type in self.interarrival_times:\n",
    "            self.env.process(self.patient_generator(patient_type))\n",
    "\n",
    "        while self.env.now < run_length:\n",
    "            yield self.env.timeout(1)"
   ]
  },
  {
   "cell_type": "code",
   "execution_count": 5,
   "id": "c1776ede-9734-45b3-92b4-0e09a40f9e47",
   "metadata": {},
   "outputs": [
    {
     "name": "stdout",
     "output_type": "stream",
     "text": [
      "Patient 1 of type Stroke arrives at day 0.5\n",
      "Patient 2 of type Other arrives at day 0.79\n",
      "Patient 3 of type Other arrives at day 3.43\n",
      "Patient 4 of type Complex Neurological arrives at day 3.52\n",
      "Patient 5 of type TIA arrives at day 3.68\n",
      "Patient 6 of type Other arrives at day 5.0\n",
      "Patient 7 of type Other arrives at day 5.7\n",
      "Patient 8 of type Complex Neurological arrives at day 5.77\n",
      "Patient 9 of type Stroke arrives at day 6.5\n",
      "Patient 10 of type Other arrives at day 6.66\n",
      "Patient 11 of type Stroke arrives at day 7.1\n",
      "Patient 12 of type Stroke arrives at day 7.16\n",
      "Patient 13 of type Stroke arrives at day 7.33\n",
      "Patient 14 of type Complex Neurological arrives at day 9.67\n",
      "Patient 15 of type TIA arrives at day 9.74\n",
      "Patient 16 of type Other arrives at day 9.84\n",
      "Patient 17 of type Stroke arrives at day 10.42\n",
      "Patient 18 of type Stroke arrives at day 10.44\n",
      "Patient 19 of type Complex Neurological arrives at day 10.97\n",
      "Patient 20 of type Stroke arrives at day 11.53\n",
      "Patient 21 of type TIA arrives at day 11.72\n",
      "Patient 22 of type Stroke arrives at day 12.65\n",
      "Patient 23 of type Stroke arrives at day 12.91\n",
      "Patient 24 of type Stroke arrives at day 16.33\n",
      "Patient 25 of type Stroke arrives at day 16.81\n",
      "Patient 26 of type Stroke arrives at day 18.42\n",
      "Patient 27 of type Complex Neurological arrives at day 18.88\n",
      "Patient 28 of type Stroke arrives at day 19.23\n",
      "Patient 29 of type Other arrives at day 19.25\n",
      "Patient 30 of type Stroke arrives at day 19.86\n",
      "Patient 31 of type Complex Neurological arrives at day 19.87\n",
      "Patient 32 of type Stroke arrives at day 19.91\n",
      "Patient 33 of type Stroke arrives at day 21.06\n",
      "Patient 34 of type Stroke arrives at day 21.32\n",
      "Patient 35 of type Other arrives at day 21.91\n",
      "Patient 36 of type Stroke arrives at day 22.27\n",
      "Patient 37 of type Stroke arrives at day 22.48\n",
      "Patient 38 of type Complex Neurological arrives at day 22.83\n",
      "Patient 39 of type TIA arrives at day 23.99\n",
      "Patient 40 of type Stroke arrives at day 24.09\n",
      "Patient 41 of type Stroke arrives at day 24.42\n",
      "Patient 42 of type Complex Neurological arrives at day 25.36\n",
      "Patient 43 of type TIA arrives at day 25.56\n",
      "Patient 44 of type Stroke arrives at day 26.87\n",
      "Patient 45 of type Stroke arrives at day 27.06\n",
      "Patient 46 of type Stroke arrives at day 27.49\n",
      "Patient 47 of type Stroke arrives at day 28.25\n",
      "Patient 48 of type Stroke arrives at day 28.28\n",
      "Patient 49 of type Stroke arrives at day 28.51\n",
      "Patient 50 of type Stroke arrives at day 29.08\n",
      "Patient 51 of type Stroke arrives at day 29.33\n",
      "Patient 52 of type Complex Neurological arrives at day 29.52\n",
      "Patient 53 of type Stroke arrives at day 30.67\n",
      "Patient 54 of type Other arrives at day 31.68\n",
      "Patient 55 of type Stroke arrives at day 31.79\n",
      "Patient 56 of type Stroke arrives at day 31.92\n",
      "Patient 57 of type Complex Neurological arrives at day 33.93\n",
      "Patient 58 of type Other arrives at day 34.46\n",
      "Patient 59 of type Stroke arrives at day 35.38\n",
      "Patient 60 of type Stroke arrives at day 35.56\n",
      "Patient 61 of type Stroke arrives at day 35.74\n",
      "Patient 62 of type Stroke arrives at day 35.78\n",
      "Patient 63 of type Complex Neurological arrives at day 35.84\n",
      "Patient 64 of type Stroke arrives at day 36.22\n",
      "Patient 65 of type Stroke arrives at day 37.8\n",
      "Patient 66 of type Complex Neurological arrives at day 38.17\n",
      "Patient 67 of type Stroke arrives at day 39.78\n",
      "Patient 68 of type Stroke arrives at day 40.74\n",
      "Patient 69 of type Stroke arrives at day 41.41\n",
      "Patient 70 of type Complex Neurological arrives at day 41.47\n",
      "Patient 71 of type Other arrives at day 41.89\n",
      "Patient 72 of type Stroke arrives at day 43.19\n",
      "Patient 73 of type Other arrives at day 43.24\n",
      "Patient 74 of type TIA arrives at day 43.29\n",
      "Patient 75 of type Complex Neurological arrives at day 43.96\n",
      "Patient 76 of type Stroke arrives at day 44.04\n",
      "Patient 77 of type Complex Neurological arrives at day 44.42\n",
      "Patient 78 of type Stroke arrives at day 44.69\n",
      "Patient 79 of type Complex Neurological arrives at day 44.86\n",
      "Patient 80 of type Stroke arrives at day 45.95\n",
      "Patient 81 of type Other arrives at day 46.09\n",
      "Patient 82 of type Complex Neurological arrives at day 52.3\n",
      "Patient 83 of type Stroke arrives at day 53.18\n",
      "Patient 84 of type Stroke arrives at day 53.7\n",
      "Patient 85 of type Stroke arrives at day 54.99\n",
      "Patient 86 of type Stroke arrives at day 56.34\n",
      "Patient 87 of type Stroke arrives at day 56.48\n",
      "Patient 88 of type Stroke arrives at day 58.1\n",
      "Patient 89 of type Stroke arrives at day 59.43\n",
      "Patient 90 of type Stroke arrives at day 59.64\n",
      "Patient 91 of type Stroke arrives at day 59.96\n"
     ]
    }
   ],
   "source": [
    "# Setup and start the simulation\n",
    "env = simpy.Environment()\n",
    "ward = StrokeWard(env, num_beds=4)\n",
    "env.process(ward.run_simulation())\n",
    "env.run(until=60)  # Set the simulation run length to 60 days"
   ]
  },
  {
   "cell_type": "markdown",
   "id": "5aceadf5-614c-44f5-ab3b-b40e3ba27e08",
   "metadata": {},
   "source": [
    "**Checks**"
   ]
  },
  {
   "cell_type": "code",
   "execution_count": 1,
   "id": "15cc0b6c-e981-400e-8f55-81ed57c6868f",
   "metadata": {},
   "outputs": [],
   "source": [
    "class TestCase():\n",
    "\n",
    "    def __init__(self):\n",
    "        self.env = simpy.Environment()\n",
    "        self.ward = StrokeWard(self.env, num_beds=4)\n",
    "        self.run_length = 10\n",
    "\n",
    "    def test_run_length(self):\n",
    "        '''\n",
    "        Checks that specified run length is implemented correctly.\n",
    "        '''\n",
    "        self.env.process(self.ward.run_simulation())\n",
    "        self.env.run(until=self.run_length)\n",
    "\n",
    "        if self.env.now > self.run_length:\n",
    "            print('The simulation has continued for longer than input.')"
   ]
  },
  {
   "cell_type": "code",
   "execution_count": 28,
   "id": "5cd2fa5f-f98c-4475-8350-e6b8d37615c2",
   "metadata": {},
   "outputs": [
    {
     "name": "stdout",
     "output_type": "stream",
     "text": [
      "Patient 1 of type Complex Neurological arrives at day 0.47\n",
      "Patient 2 of type Stroke arrives at day 0.6\n",
      "Patient 3 of type TIA arrives at day 0.89\n",
      "Patient 4 of type Other arrives at day 1.26\n",
      "Patient 5 of type Other arrives at day 1.75\n",
      "Patient 6 of type Other arrives at day 1.91\n",
      "Patient 7 of type Complex Neurological arrives at day 2.98\n",
      "Patient 8 of type Stroke arrives at day 3.63\n",
      "Patient 9 of type Other arrives at day 5.41\n",
      "Patient 10 of type Complex Neurological arrives at day 5.61\n",
      "Patient 11 of type Other arrives at day 5.64\n",
      "Patient 12 of type Stroke arrives at day 5.74\n",
      "Patient 13 of type Stroke arrives at day 6.45\n",
      "Patient 14 of type Other arrives at day 6.79\n",
      "Patient 15 of type Stroke arrives at day 6.85\n",
      "Patient 16 of type Other arrives at day 7.55\n",
      "Patient 17 of type Stroke arrives at day 7.98\n",
      "Patient 18 of type Complex Neurological arrives at day 8.77\n"
     ]
    }
   ],
   "source": [
    "test = TestCase()\n",
    "test.test_run_length() # Change length of time simulation has run"
   ]
  },
  {
   "cell_type": "markdown",
   "id": "742209f7-5250-443c-896c-5a7e21ef32a3",
   "metadata": {},
   "source": [
    "**Reflection**"
   ]
  },
  {
   "cell_type": "markdown",
   "id": "a4e52dbe-72d4-4406-9259-b6cae619b290",
   "metadata": {},
   "source": [
    "The LLM created patient arrivals that incremented the patient ID each time and arrived up to the specified time. The different patient types entering the model were chosen randomly using a random number generator. This meant that only one patient of a certain type could arrive at one time during the course of the model run, as opposed to them arriving independently. \n",
    "\n",
    "It did not use the default run time inside the run_simulation() method as it is set in env.run(until=). If this is excluded, it runs in an infinite loop. It also produces different results each time the code is run so there is no option for reproducibility. At this point, the number of beds does not have an impact as the patients leave the model as soon as they arrive so there is no reason to test this part of the model. "
   ]
  },
  {
   "cell_type": "code",
   "execution_count": null,
   "id": "89355dbb-7244-4d01-bffa-e879303ab762",
   "metadata": {},
   "outputs": [],
   "source": []
  }
 ],
 "metadata": {
  "kernelspec": {
   "display_name": "Python 3 (ipykernel)",
   "language": "python",
   "name": "python3"
  },
  "language_info": {
   "codemirror_mode": {
    "name": "ipython",
    "version": 3
   },
   "file_extension": ".py",
   "mimetype": "text/x-python",
   "name": "python",
   "nbconvert_exporter": "python",
   "pygments_lexer": "ipython3",
   "version": "3.10.13"
  }
 },
 "nbformat": 4,
 "nbformat_minor": 5
}
