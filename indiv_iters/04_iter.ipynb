{
 "cells": [
  {
   "cell_type": "markdown",
   "id": "032da729-b1c0-488a-9160-59cbf47d8667",
   "metadata": {},
   "source": [
    "# LLM Iteration 04"
   ]
  },
  {
   "cell_type": "markdown",
   "id": "ea7f0161-92a1-4c09-914d-fef0b29c9e57",
   "metadata": {},
   "source": [
    "**Aim**"
   ]
  },
  {
   "cell_type": "markdown",
   "id": "fda7ee6a-1d67-4cf5-9acf-88165eef0a9f",
   "metadata": {},
   "source": [
    "Update the code output from iteration 3 so a random patient type is not admitted each time, but different patient types arrive independently of each other. It should also be able to input a different random seed for each patient type for reproducibility and testing."
   ]
  },
  {
   "cell_type": "markdown",
   "id": "3780f997-eee2-48e0-8649-fd2dae6efd35",
   "metadata": {},
   "source": [
    "**Prompt**"
   ]
  },
  {
   "cell_type": "markdown",
   "id": "d113bd2b-ddda-44a9-ac61-9a03471013e6",
   "metadata": {},
   "source": [
    "```python\n",
    "import simpy\n",
    "import numpy as np\n",
    "\n",
    "NUM_BEDS = 10\n",
    "LENGTH_OF_STAY = 7\n",
    "RUN_LENGTH = 60  # Default run length in days (2 months)\n",
    "INTERARRIVAL_TIMES = {\n",
    "    'Stroke': 1.2,\n",
    "    'TIA': 9.3,\n",
    "    'Complex Neurological': 3.6,\n",
    "    'Other': 3.2\n",
    "}\n",
    "\n",
    "class StrokeWard:\n",
    "    def __init__(self, env):\n",
    "        self.env = env\n",
    "        self.beds = simpy.Resource(env, capacity=NUM_BEDS)\n",
    "        self.patient_count = 0\n",
    "\n",
    "    def admit_patient(self, patient):\n",
    "        with self.beds.request() as bed:\n",
    "            yield bed\n",
    "            print(f\"Patient {patient.id} of type {patient.type} admitted at day {round(self.env.now, 2)}\")\n",
    "            yield self.env.timeout(LENGTH_OF_STAY)\n",
    "            print(f\"Patient {patient.id} of type {patient.type} discharged at day {round(self.env.now, 2)}\")\n",
    "\n",
    "class Patient:\n",
    "    def __init__(self, id, type):\n",
    "        self.id = id\n",
    "        self.type = type\n",
    "\n",
    "def patient_generator(env, ward, interarrival_time, random_seed=None):\n",
    "    rng = np.random.default_rng(random_seed)\n",
    "    while True:\n",
    "        yield env.timeout(rng.exponential(interarrival_time))\n",
    "        patient_type = np.random.choice(list(INTERARRIVAL_TIMES.keys()))\n",
    "        patient = Patient(ward.patient_count, patient_type)\n",
    "        ward.patient_count += 1\n",
    "        env.process(ward.admit_patient(patient))\n",
    "\n",
    "env = simpy.Environment()\n",
    "ward = StrokeWard(env)\n",
    "env.process(patient_generator(env, ward, INTERARRIVAL_TIMES['Stroke'], random_seed=42))\n",
    "env.run(until=RUN_LENGTH)\n",
    "```\n",
    "\n",
    "Update this code to use the correct interarrival time for each patient type and have the option to input a different random seed for each patient type."
   ]
  },
  {
   "cell_type": "markdown",
   "id": "61617e2a-50d2-48da-bdb4-a0dc4201ca4d",
   "metadata": {},
   "source": [
    "**LLM Output**"
   ]
  },
  {
   "cell_type": "code",
   "execution_count": 1,
   "id": "867ae861-453c-4b06-8685-c122417c9097",
   "metadata": {},
   "outputs": [],
   "source": [
    "import simpy\n",
    "import numpy as np"
   ]
  },
  {
   "cell_type": "code",
   "execution_count": 2,
   "id": "89e1aa3d-f2ba-455e-ab82-a65136984079",
   "metadata": {},
   "outputs": [],
   "source": [
    "NUM_BEDS = 10\n",
    "LENGTH_OF_STAY = 7\n",
    "RUN_LENGTH = 60  # Default run length in days (2 months)\n",
    "INTERARRIVAL_TIMES = {\n",
    "    'Stroke': 1.2,\n",
    "    'TIA': 9.3,\n",
    "    'Complex Neurological': 3.6,\n",
    "    'Other': 3.2\n",
    "}"
   ]
  },
  {
   "cell_type": "code",
   "execution_count": 3,
   "id": "d408040a-06f3-4e03-ba9d-b84ff91041b0",
   "metadata": {},
   "outputs": [],
   "source": [
    "class StrokeWard:\n",
    "    def __init__(self, env):\n",
    "        self.env = env\n",
    "        self.beds = simpy.Resource(env, capacity=NUM_BEDS)\n",
    "        self.patient_count = 0\n",
    "\n",
    "    def admit_patient(self, patient):\n",
    "        with self.beds.request() as bed:\n",
    "            yield bed\n",
    "            print(f'Patient {patient.id} of type {patient.type} admitted at '\n",
    "                  f'day {round(self.env.now, 2)}')\n",
    "            yield self.env.timeout(LENGTH_OF_STAY)\n",
    "            print(f'Patient {patient.id} of type {patient.type} discharged at '\n",
    "                  'day {round(self.env.now, 2)}')\n",
    "\n",
    "class Patient:\n",
    "    def __init__(self, id, type):\n",
    "        self.id = id\n",
    "        self.type = type\n",
    "\n",
    "def patient_generator(env, ward, interarrival_time, random_seed=None):\n",
    "    rng = np.random.default_rng(random_seed)\n",
    "    while True:\n",
    "        yield env.timeout(rng.exponential(interarrival_time))\n",
    "        patient_type = np.random.choice(list(INTERARRIVAL_TIMES.keys()),\n",
    "                                        p=[INTERARRIVAL_TIMES[key] for key \\\n",
    "                                           in INTERARRIVAL_TIMES])\n",
    "        patient = Patient(ward.patient_count, patient_type)\n",
    "        ward.patient_count += 1\n",
    "        env.process(ward.admit_patient(patient))"
   ]
  },
  {
   "cell_type": "code",
   "execution_count": 4,
   "id": "e89c8d62-f96f-44f8-b698-f9483d618e2f",
   "metadata": {},
   "outputs": [],
   "source": [
    "env = simpy.Environment()\n",
    "ward = StrokeWard(env)\n",
    "\n",
    "# Update to allow different random seeds for each patient type\n",
    "random_seeds = {'Stroke': 42, 'TIA': 24, 'Complex Neurological': 56,\n",
    "                'Other': 78}\n",
    "for patient_type in INTERARRIVAL_TIMES:\n",
    "    env.process(patient_generator(env, ward, INTERARRIVAL_TIMES[patient_type],\n",
    "                                  random_seed=random_seeds[patient_type]))\n",
    "\n",
    "#env.run(until=RUN_LENGTH)"
   ]
  },
  {
   "cell_type": "markdown",
   "id": "2d0bbe1a-3017-4201-8677-901ea2b0f5ae",
   "metadata": {},
   "source": [
    "**Reflection**"
   ]
  },
  {
   "cell_type": "markdown",
   "id": "4ebfe3e7-2964-478f-bb88-1af43615723b",
   "metadata": {},
   "source": [
    "Running this code outputs an error so has been commented out. The issue is the sampling of the patient type in the function patient_generator(), where it uses np.random.choice and assumes that the interarrival times specified are probabilities of that patient arriving instead of the mean interarrival time. This is because it was not passed all the information about the model set up. In the next test, the initial prompt will also be given in order to improve the LLM's understanding of the problem."
   ]
  },
  {
   "cell_type": "code",
   "execution_count": null,
   "id": "af06874a-725d-44a4-837e-f9c1aa491db6",
   "metadata": {},
   "outputs": [],
   "source": []
  }
 ],
 "metadata": {
  "kernelspec": {
   "display_name": "Python 3 (ipykernel)",
   "language": "python",
   "name": "python3"
  },
  "language_info": {
   "codemirror_mode": {
    "name": "ipython",
    "version": 3
   },
   "file_extension": ".py",
   "mimetype": "text/x-python",
   "name": "python",
   "nbconvert_exporter": "python",
   "pygments_lexer": "ipython3",
   "version": "3.10.13"
  }
 },
 "nbformat": 4,
 "nbformat_minor": 5
}
